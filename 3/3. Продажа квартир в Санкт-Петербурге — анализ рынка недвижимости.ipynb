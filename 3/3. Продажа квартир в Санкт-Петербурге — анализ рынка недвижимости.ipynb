{
 "cells": [
  {
   "cell_type": "markdown",
   "metadata": {},
   "source": [
    "# Продажа квартир в Санкт-Петербурге — анализ рынка недвижимости\n",
    "\n",
    "Используя данные сервиса Яндекс.Недвижимость, определить рыночную стоимость объектов недвижимости и типичные параметры квартир"
   ]
  },
  {
   "cell_type": "code",
   "execution_count": 1,
   "metadata": {
    "scrolled": false
   },
   "outputs": [
    {
     "name": "stdout",
     "output_type": "stream",
     "text": [
      "<class 'pandas.core.frame.DataFrame'>\n",
      "RangeIndex: 23699 entries, 0 to 23698\n",
      "Data columns (total 22 columns):\n",
      " #   Column                Non-Null Count  Dtype \n",
      "---  ------                --------------  ----- \n",
      " 0   total_images          23699 non-null  int64 \n",
      " 1   last_price            23699 non-null  object\n",
      " 2   total_area            23699 non-null  object\n",
      " 3   first_day_exposition  23699 non-null  object\n",
      " 4   rooms                 23699 non-null  int64 \n",
      " 5   ceiling_height        14504 non-null  object\n",
      " 6   floors_total          23613 non-null  object\n",
      " 7   living_area           21796 non-null  object\n",
      " 8   floor                 23699 non-null  int64 \n",
      " 9   is_apartment          2775 non-null   object\n",
      " 10  studio                23699 non-null  bool  \n",
      " 11  open_plan             23699 non-null  bool  \n",
      " 12  kitchen_area          21421 non-null  object\n",
      " 13  balcony               12180 non-null  object\n",
      " 14  locality_name         23650 non-null  object\n",
      " 15  airports_nearest      18157 non-null  object\n",
      " 16  cityCenters_nearest   18180 non-null  object\n",
      " 17  parks_around3000      18181 non-null  object\n",
      " 18  parks_nearest         8079 non-null   object\n",
      " 19  ponds_around3000      18181 non-null  object\n",
      " 20  ponds_nearest         9110 non-null   object\n",
      " 21  days_exposition       20518 non-null  object\n",
      "dtypes: bool(2), int64(3), object(17)\n",
      "memory usage: 3.7+ MB\n"
     ]
    }
   ],
   "source": [
    "import pandas as pd\n",
    "data = pd.read_csv('/datasets/real_estate_data.csv', sep= '\\t', decimal='-')   \n",
    "data.info()"
   ]
  },
  {
   "cell_type": "code",
   "execution_count": 2,
   "metadata": {
    "scrolled": false
   },
   "outputs": [
    {
     "data": {
      "text/plain": [
       "array([[<AxesSubplot:title={'center':'total_images'}>,\n",
       "        <AxesSubplot:title={'center':'rooms'}>],\n",
       "       [<AxesSubplot:title={'center':'floor'}>, <AxesSubplot:>]],\n",
       "      dtype=object)"
      ]
     },
     "execution_count": 2,
     "metadata": {},
     "output_type": "execute_result"
    },
    {
     "data": {
      "image/png": "[encoded data removed]",
      "text/plain": [
       "<Figure size 1080x1440 with 4 Axes>"
      ]
     },
     "metadata": {
      "needs_background": "light"
     },
     "output_type": "display_data"
    }
   ],
   "source": [
    "data.hist(figsize=(15, 20))"
   ]
  },
  {
   "cell_type": "markdown",
   "metadata": {},
   "source": [
    "### Предобработка данных"
   ]
  },
  {
   "cell_type": "code",
   "execution_count": 3,
   "metadata": {},
   "outputs": [
    {
     "data": {
      "text/plain": [
       "total_images                0\n",
       "last_price                  0\n",
       "total_area                  0\n",
       "first_day_exposition        0\n",
       "rooms                       0\n",
       "ceiling_height           9195\n",
       "floors_total               86\n",
       "living_area              1903\n",
       "floor                       0\n",
       "is_apartment            20924\n",
       "studio                      0\n",
       "open_plan                   0\n",
       "kitchen_area             2278\n",
       "balcony                 11519\n",
       "locality_name              49\n",
       "airports_nearest         5542\n",
       "cityCenters_nearest      5519\n",
       "parks_around3000         5518\n",
       "parks_nearest           15620\n",
       "ponds_around3000         5518\n",
       "ponds_nearest           14589\n",
       "days_exposition          3181\n",
       "dtype: int64"
      ]
     },
     "execution_count": 3,
     "metadata": {},
     "output_type": "execute_result"
    }
   ],
   "source": [
    "data.isna().sum()"
   ]
  },
  {
   "cell_type": "code",
   "execution_count": 4,
   "metadata": {},
   "outputs": [
    {
     "data": {
      "text/html": [
       "<div>\n",
       "<style scoped>\n",
       "    .dataframe tbody tr th:only-of-type {\n",
       "        vertical-align: middle;\n",
       "    }\n",
       "\n",
       "    .dataframe tbody tr th {\n",
       "        vertical-align: top;\n",
       "    }\n",
       "\n",
       "    .dataframe thead th {\n",
       "        text-align: right;\n",
       "    }\n",
       "</style>\n",
       "<table border=\"1\" class=\"dataframe\">\n",
       "  <thead>\n",
       "    <tr style=\"text-align: right;\">\n",
       "      <th></th>\n",
       "      <th>total_images</th>\n",
       "      <th>rooms</th>\n",
       "      <th>floor</th>\n",
       "    </tr>\n",
       "  </thead>\n",
       "  <tbody>\n",
       "    <tr>\n",
       "      <th>count</th>\n",
       "      <td>23699.000000</td>\n",
       "      <td>23699.000000</td>\n",
       "      <td>23699.000000</td>\n",
       "    </tr>\n",
       "    <tr>\n",
       "      <th>mean</th>\n",
       "      <td>9.858475</td>\n",
       "      <td>2.070636</td>\n",
       "      <td>5.892358</td>\n",
       "    </tr>\n",
       "    <tr>\n",
       "      <th>std</th>\n",
       "      <td>5.682529</td>\n",
       "      <td>1.078405</td>\n",
       "      <td>4.885249</td>\n",
       "    </tr>\n",
       "    <tr>\n",
       "      <th>min</th>\n",
       "      <td>0.000000</td>\n",
       "      <td>0.000000</td>\n",
       "      <td>1.000000</td>\n",
       "    </tr>\n",
       "    <tr>\n",
       "      <th>25%</th>\n",
       "      <td>6.000000</td>\n",
       "      <td>1.000000</td>\n",
       "      <td>2.000000</td>\n",
       "    </tr>\n",
       "    <tr>\n",
       "      <th>50%</th>\n",
       "      <td>9.000000</td>\n",
       "      <td>2.000000</td>\n",
       "      <td>4.000000</td>\n",
       "    </tr>\n",
       "    <tr>\n",
       "      <th>75%</th>\n",
       "      <td>14.000000</td>\n",
       "      <td>3.000000</td>\n",
       "      <td>8.000000</td>\n",
       "    </tr>\n",
       "    <tr>\n",
       "      <th>max</th>\n",
       "      <td>50.000000</td>\n",
       "      <td>19.000000</td>\n",
       "      <td>33.000000</td>\n",
       "    </tr>\n",
       "  </tbody>\n",
       "</table>\n",
       "</div>"
      ],
      "text/plain": [
       "       total_images         rooms         floor\n",
       "count  23699.000000  23699.000000  23699.000000\n",
       "mean       9.858475      2.070636      5.892358\n",
       "std        5.682529      1.078405      4.885249\n",
       "min        0.000000      0.000000      1.000000\n",
       "25%        6.000000      1.000000      2.000000\n",
       "50%        9.000000      2.000000      4.000000\n",
       "75%       14.000000      3.000000      8.000000\n",
       "max       50.000000     19.000000     33.000000"
      ]
     },
     "execution_count": 4,
     "metadata": {},
     "output_type": "execute_result"
    }
   ],
   "source": [
    "data.describe()"
   ]
  },
  {
   "cell_type": "code",
   "execution_count": 5,
   "metadata": {},
   "outputs": [],
   "source": [
    "# меняем названия столбцов\n",
    "data = data.rename(columns={'total_images':'число фотографий'})\n",
    "data = data.rename(columns={'last_price':'цена на момент снятия с публикации'})\n",
    "data = data.rename(columns={'total_area':'общая площадь'})\n",
    "data = data.rename(columns={'first_day_exposition':'дата публикации'})\n",
    "data = data.rename(columns={'rooms':'число комнат'})\n",
    "data = data.rename(columns={'ceiling_height':'высота потолков'})\n",
    "data = data.rename(columns={'living_area':'жилая площадь'})\n",
    "data = data.rename(columns={'floor':'этаж'})\n",
    "data = data.rename(columns={'is_apartment':'апартаменты'})\n",
    "data = data.rename(columns={'studio':'квартира-студия'})\n",
    "data = data.rename(columns={'open_plan':'свободная планировка'})\n",
    "data = data.rename(columns={'kitchen_area':'площадь кухни'})\n",
    "data = data.rename(columns={'balcony':'число балконов'})\n",
    "data = data.rename(columns={'locality_name':'название населённого пункта'})\n",
    "data = data.rename(columns={'airports_nearest':'расстояние до аэропорта'}) \n",
    "data = data.rename(columns={'cityCenters_nearest':'расстояние до центра города'})\n",
    "data = data.rename(columns={'parks_around3000':'парки в радиусе 3 км'})\n",
    "data = data.rename(columns={'parks_nearest':'расстояние до парка'})\n",
    "data = data.rename(columns={'ponds_around3000':'водоёмы в радиусе 3 км'})\n",
    "data = data.rename(columns={'ponds_nearest':'расстояние до ближайшего водоёма'})\n",
    "data = data.rename(columns={'days_exposition':'размещено объявление (от публикации до снятия)'})\n",
    "data = data.rename(columns={'floors_total':'этажей в доме'})"
   ]
  },
  {
   "cell_type": "code",
   "execution_count": 6,
   "metadata": {},
   "outputs": [],
   "source": [
    " # заменяем балконы на 0\n",
    "data['число балконов'] = data['число балконов'].fillna(0) \n"
   ]
  },
  {
   "cell_type": "code",
   "execution_count": 7,
   "metadata": {},
   "outputs": [
    {
     "data": {
      "text/plain": [
       "0"
      ]
     },
     "execution_count": 7,
     "metadata": {},
     "output_type": "execute_result"
    }
   ],
   "source": [
    "# Приводим всё к нижнему региструб, заменяем все \"ё\" на \"е\",заменяем \"городской поселок\" \n",
    "# на \"поселок городского типа\", проверяем наличие явных дубликатов\n",
    "data['название населённого пункта'] = data['название населённого пункта'].str.lower()\n",
    "data['название населённого пункта'] = data['название населённого пункта'].str.replace('ё', 'е')\n",
    "data['название населённого пункта'] = data['название населённого пункта'].str.replace('городской поселок','поселок городского типа')\n",
    "data.duplicated().sum()"
   ]
  },
  {
   "cell_type": "code",
   "execution_count": 8,
   "metadata": {},
   "outputs": [],
   "source": [
    "# Удалем строки \n",
    "data['название населённого пункта'].dropna(inplace=True)\n",
    "data['этажей в доме'].dropna(inplace=True)"
   ]
  },
  {
   "cell_type": "code",
   "execution_count": 9,
   "metadata": {},
   "outputs": [],
   "source": [
    "# меняем формат даты\n",
    "data['дата публикации'] = pd.to_datetime(data['дата публикации'], format='%Y-%m-%dT%H:%M:%S')"
   ]
  },
  {
   "cell_type": "code",
   "execution_count": 10,
   "metadata": {},
   "outputs": [],
   "source": [
    "# меняем типы данных на дробные\n",
    "data['цена на момент снятия с публикации'] = pd.to_numeric(data['цена на момент снятия с публикации'], errors='coerce')\n",
    "data['общая площадь'] = pd.to_numeric(data['общая площадь'], errors='coerce')\n",
    "data['этажей в доме'] = pd.to_numeric(data['этажей в доме'], errors='coerce')\n",
    "data['жилая площадь'] = pd.to_numeric(data['жилая площадь'], errors='coerce')\n",
    "data['апартаменты'] = pd.to_numeric(data['апартаменты'], errors='coerce')\n",
    "data['площадь кухни'] = pd.to_numeric(data['площадь кухни'], errors='coerce')\n",
    "data['число балконов'] = pd.to_numeric(data['число балконов'], errors='coerce')\n",
    "data['расстояние до аэропорта'] = pd.to_numeric(data['расстояние до аэропорта'], errors='coerce')\n",
    "data['расстояние до центра города'] = pd.to_numeric(data['расстояние до центра города'], errors='coerce')\n",
    "data['парки в радиусе 3 км'] = pd.to_numeric(data['парки в радиусе 3 км'], errors='coerce')\n",
    "data['расстояние до парка'] = pd.to_numeric(data['расстояние до парка'], errors='coerce')\n",
    "data['водоёмы в радиусе 3 км'] = pd.to_numeric(data['водоёмы в радиусе 3 км'], errors='coerce')\n",
    "data['расстояние до ближайшего водоёма'] = pd.to_numeric(data['расстояние до ближайшего водоёма'], errors='coerce')\n",
    "data['размещено объявление (от публикации до снятия)'] = pd.to_numeric(data['размещено объявление (от публикации до снятия)'], errors='coerce')\n",
    "data['высота потолков'] = data['высота потолков'].astype(float)"
   ]
  },
  {
   "cell_type": "code",
   "execution_count": 11,
   "metadata": {},
   "outputs": [
    {
     "data": {
      "text/plain": [
       "0        482.0\n",
       "1          NaN\n",
       "2         90.0\n",
       "3         84.0\n",
       "4        112.0\n",
       "         ...  \n",
       "23694    796.0\n",
       "23695      NaN\n",
       "23696      NaN\n",
       "23697    173.0\n",
       "23698      NaN\n",
       "Name: расстояние до парка, Length: 23699, dtype: float64"
      ]
     },
     "execution_count": 11,
     "metadata": {},
     "output_type": "execute_result"
    }
   ],
   "source": [
    "#округляем\n",
    "round(data['число фотографий'])\n",
    "round(data['цена на момент снятия с публикации'])\n",
    "round(data['общая площадь'])\n",
    "round(data['высота потолков'])\n",
    "round(data['этажей в доме'])\n",
    "round(data['жилая площадь'])\n",
    "round(data['парки в радиусе 3 км'])\n",
    "round(data['расстояние до парка'])\n",
    "round(data['водоёмы в радиусе 3 км'])\n",
    "round(data['расстояние до ближайшего водоёма'])\n",
    "round(data['размещено объявление (от публикации до снятия)'])\n",
    "round(data['расстояние до парка'])"
   ]
  },
  {
   "cell_type": "code",
   "execution_count": 12,
   "metadata": {},
   "outputs": [
    {
     "data": {
      "text/plain": [
       "число фотографий                                      0\n",
       "цена на момент снятия с публикации                    0\n",
       "общая площадь                                         0\n",
       "дата публикации                                       0\n",
       "число комнат                                          0\n",
       "высота потолков                                    9195\n",
       "этажей в доме                                        86\n",
       "жилая площадь                                      1903\n",
       "этаж                                                  0\n",
       "апартаменты                                       20924\n",
       "квартира-студия                                       0\n",
       "свободная планировка                                  0\n",
       "площадь кухни                                      2278\n",
       "число балконов                                        0\n",
       "название населённого пункта                          49\n",
       "расстояние до аэропорта                            5542\n",
       "расстояние до центра города                        5519\n",
       "парки в радиусе 3 км                               5518\n",
       "расстояние до парка                               15620\n",
       "водоёмы в радиусе 3 км                             5518\n",
       "расстояние до ближайшего водоёма                  14589\n",
       "размещено объявление (от публикации до снятия)     3181\n",
       "dtype: int64"
      ]
     },
     "execution_count": 12,
     "metadata": {},
     "output_type": "execute_result"
    }
   ],
   "source": [
    "data.isna().sum() "
   ]
  },
  {
   "cell_type": "code",
   "execution_count": 13,
   "metadata": {
    "scrolled": true
   },
   "outputs": [
    {
     "data": {
      "text/html": [
       "<div>\n",
       "<style scoped>\n",
       "    .dataframe tbody tr th:only-of-type {\n",
       "        vertical-align: middle;\n",
       "    }\n",
       "\n",
       "    .dataframe tbody tr th {\n",
       "        vertical-align: top;\n",
       "    }\n",
       "\n",
       "    .dataframe thead th {\n",
       "        text-align: right;\n",
       "    }\n",
       "</style>\n",
       "<table border=\"1\" class=\"dataframe\">\n",
       "  <thead>\n",
       "    <tr style=\"text-align: right;\">\n",
       "      <th></th>\n",
       "      <th>число фотографий</th>\n",
       "      <th>цена на момент снятия с публикации</th>\n",
       "      <th>общая площадь</th>\n",
       "      <th>дата публикации</th>\n",
       "      <th>число комнат</th>\n",
       "      <th>высота потолков</th>\n",
       "      <th>этажей в доме</th>\n",
       "      <th>жилая площадь</th>\n",
       "      <th>этаж</th>\n",
       "      <th>апартаменты</th>\n",
       "      <th>...</th>\n",
       "      <th>площадь кухни</th>\n",
       "      <th>число балконов</th>\n",
       "      <th>название населённого пункта</th>\n",
       "      <th>расстояние до аэропорта</th>\n",
       "      <th>расстояние до центра города</th>\n",
       "      <th>парки в радиусе 3 км</th>\n",
       "      <th>расстояние до парка</th>\n",
       "      <th>водоёмы в радиусе 3 км</th>\n",
       "      <th>расстояние до ближайшего водоёма</th>\n",
       "      <th>размещено объявление (от публикации до снятия)</th>\n",
       "    </tr>\n",
       "  </thead>\n",
       "  <tbody>\n",
       "    <tr>\n",
       "      <th>0</th>\n",
       "      <td>20</td>\n",
       "      <td>13000000.0</td>\n",
       "      <td>108.00</td>\n",
       "      <td>2019-03-07</td>\n",
       "      <td>3</td>\n",
       "      <td>2.70</td>\n",
       "      <td>16.0</td>\n",
       "      <td>51.00</td>\n",
       "      <td>8</td>\n",
       "      <td>NaN</td>\n",
       "      <td>...</td>\n",
       "      <td>25.00</td>\n",
       "      <td>0.0</td>\n",
       "      <td>санкт-петербург</td>\n",
       "      <td>18863.0</td>\n",
       "      <td>16028.0</td>\n",
       "      <td>1.0</td>\n",
       "      <td>482.0</td>\n",
       "      <td>2.0</td>\n",
       "      <td>755.0</td>\n",
       "      <td>NaN</td>\n",
       "    </tr>\n",
       "    <tr>\n",
       "      <th>1</th>\n",
       "      <td>7</td>\n",
       "      <td>3350000.0</td>\n",
       "      <td>40.40</td>\n",
       "      <td>2018-12-04</td>\n",
       "      <td>1</td>\n",
       "      <td>NaN</td>\n",
       "      <td>11.0</td>\n",
       "      <td>18.60</td>\n",
       "      <td>1</td>\n",
       "      <td>NaN</td>\n",
       "      <td>...</td>\n",
       "      <td>11.00</td>\n",
       "      <td>2.0</td>\n",
       "      <td>поселок шушары</td>\n",
       "      <td>12817.0</td>\n",
       "      <td>18603.0</td>\n",
       "      <td>0.0</td>\n",
       "      <td>NaN</td>\n",
       "      <td>0.0</td>\n",
       "      <td>NaN</td>\n",
       "      <td>81.0</td>\n",
       "    </tr>\n",
       "    <tr>\n",
       "      <th>2</th>\n",
       "      <td>10</td>\n",
       "      <td>5196000.0</td>\n",
       "      <td>56.00</td>\n",
       "      <td>2015-08-20</td>\n",
       "      <td>2</td>\n",
       "      <td>NaN</td>\n",
       "      <td>5.0</td>\n",
       "      <td>34.30</td>\n",
       "      <td>4</td>\n",
       "      <td>NaN</td>\n",
       "      <td>...</td>\n",
       "      <td>8.30</td>\n",
       "      <td>0.0</td>\n",
       "      <td>санкт-петербург</td>\n",
       "      <td>21741.0</td>\n",
       "      <td>13933.0</td>\n",
       "      <td>1.0</td>\n",
       "      <td>90.0</td>\n",
       "      <td>2.0</td>\n",
       "      <td>574.0</td>\n",
       "      <td>558.0</td>\n",
       "    </tr>\n",
       "    <tr>\n",
       "      <th>3</th>\n",
       "      <td>0</td>\n",
       "      <td>64900000.0</td>\n",
       "      <td>159.00</td>\n",
       "      <td>2015-07-24</td>\n",
       "      <td>3</td>\n",
       "      <td>NaN</td>\n",
       "      <td>14.0</td>\n",
       "      <td>NaN</td>\n",
       "      <td>9</td>\n",
       "      <td>NaN</td>\n",
       "      <td>...</td>\n",
       "      <td>NaN</td>\n",
       "      <td>0.0</td>\n",
       "      <td>санкт-петербург</td>\n",
       "      <td>28098.0</td>\n",
       "      <td>6800.0</td>\n",
       "      <td>2.0</td>\n",
       "      <td>84.0</td>\n",
       "      <td>3.0</td>\n",
       "      <td>234.0</td>\n",
       "      <td>424.0</td>\n",
       "    </tr>\n",
       "    <tr>\n",
       "      <th>4</th>\n",
       "      <td>2</td>\n",
       "      <td>10000000.0</td>\n",
       "      <td>100.00</td>\n",
       "      <td>2018-06-19</td>\n",
       "      <td>2</td>\n",
       "      <td>3.03</td>\n",
       "      <td>14.0</td>\n",
       "      <td>32.00</td>\n",
       "      <td>13</td>\n",
       "      <td>NaN</td>\n",
       "      <td>...</td>\n",
       "      <td>41.00</td>\n",
       "      <td>0.0</td>\n",
       "      <td>санкт-петербург</td>\n",
       "      <td>31856.0</td>\n",
       "      <td>8098.0</td>\n",
       "      <td>2.0</td>\n",
       "      <td>112.0</td>\n",
       "      <td>1.0</td>\n",
       "      <td>48.0</td>\n",
       "      <td>121.0</td>\n",
       "    </tr>\n",
       "    <tr>\n",
       "      <th>5</th>\n",
       "      <td>10</td>\n",
       "      <td>2890000.0</td>\n",
       "      <td>30.40</td>\n",
       "      <td>2018-09-10</td>\n",
       "      <td>1</td>\n",
       "      <td>NaN</td>\n",
       "      <td>12.0</td>\n",
       "      <td>14.40</td>\n",
       "      <td>5</td>\n",
       "      <td>NaN</td>\n",
       "      <td>...</td>\n",
       "      <td>9.10</td>\n",
       "      <td>0.0</td>\n",
       "      <td>поселок городского типа янино-1</td>\n",
       "      <td>NaN</td>\n",
       "      <td>NaN</td>\n",
       "      <td>NaN</td>\n",
       "      <td>NaN</td>\n",
       "      <td>NaN</td>\n",
       "      <td>NaN</td>\n",
       "      <td>55.0</td>\n",
       "    </tr>\n",
       "    <tr>\n",
       "      <th>6</th>\n",
       "      <td>6</td>\n",
       "      <td>3700000.0</td>\n",
       "      <td>37.30</td>\n",
       "      <td>2017-11-02</td>\n",
       "      <td>1</td>\n",
       "      <td>NaN</td>\n",
       "      <td>26.0</td>\n",
       "      <td>10.60</td>\n",
       "      <td>6</td>\n",
       "      <td>NaN</td>\n",
       "      <td>...</td>\n",
       "      <td>14.40</td>\n",
       "      <td>1.0</td>\n",
       "      <td>поселок парголово</td>\n",
       "      <td>52996.0</td>\n",
       "      <td>19143.0</td>\n",
       "      <td>0.0</td>\n",
       "      <td>NaN</td>\n",
       "      <td>0.0</td>\n",
       "      <td>NaN</td>\n",
       "      <td>155.0</td>\n",
       "    </tr>\n",
       "    <tr>\n",
       "      <th>7</th>\n",
       "      <td>5</td>\n",
       "      <td>7915000.0</td>\n",
       "      <td>71.60</td>\n",
       "      <td>2019-04-18</td>\n",
       "      <td>2</td>\n",
       "      <td>NaN</td>\n",
       "      <td>24.0</td>\n",
       "      <td>NaN</td>\n",
       "      <td>22</td>\n",
       "      <td>NaN</td>\n",
       "      <td>...</td>\n",
       "      <td>18.90</td>\n",
       "      <td>2.0</td>\n",
       "      <td>санкт-петербург</td>\n",
       "      <td>23982.0</td>\n",
       "      <td>11634.0</td>\n",
       "      <td>0.0</td>\n",
       "      <td>NaN</td>\n",
       "      <td>0.0</td>\n",
       "      <td>NaN</td>\n",
       "      <td>NaN</td>\n",
       "    </tr>\n",
       "    <tr>\n",
       "      <th>8</th>\n",
       "      <td>20</td>\n",
       "      <td>2900000.0</td>\n",
       "      <td>33.16</td>\n",
       "      <td>2018-05-23</td>\n",
       "      <td>1</td>\n",
       "      <td>NaN</td>\n",
       "      <td>27.0</td>\n",
       "      <td>15.43</td>\n",
       "      <td>26</td>\n",
       "      <td>NaN</td>\n",
       "      <td>...</td>\n",
       "      <td>8.81</td>\n",
       "      <td>0.0</td>\n",
       "      <td>поселок мурино</td>\n",
       "      <td>NaN</td>\n",
       "      <td>NaN</td>\n",
       "      <td>NaN</td>\n",
       "      <td>NaN</td>\n",
       "      <td>NaN</td>\n",
       "      <td>NaN</td>\n",
       "      <td>189.0</td>\n",
       "    </tr>\n",
       "    <tr>\n",
       "      <th>9</th>\n",
       "      <td>18</td>\n",
       "      <td>5400000.0</td>\n",
       "      <td>61.00</td>\n",
       "      <td>2017-02-26</td>\n",
       "      <td>3</td>\n",
       "      <td>2.50</td>\n",
       "      <td>9.0</td>\n",
       "      <td>43.60</td>\n",
       "      <td>7</td>\n",
       "      <td>NaN</td>\n",
       "      <td>...</td>\n",
       "      <td>6.50</td>\n",
       "      <td>2.0</td>\n",
       "      <td>санкт-петербург</td>\n",
       "      <td>50898.0</td>\n",
       "      <td>15008.0</td>\n",
       "      <td>0.0</td>\n",
       "      <td>NaN</td>\n",
       "      <td>0.0</td>\n",
       "      <td>NaN</td>\n",
       "      <td>289.0</td>\n",
       "    </tr>\n",
       "    <tr>\n",
       "      <th>10</th>\n",
       "      <td>5</td>\n",
       "      <td>5050000.0</td>\n",
       "      <td>39.60</td>\n",
       "      <td>2017-11-16</td>\n",
       "      <td>1</td>\n",
       "      <td>2.67</td>\n",
       "      <td>12.0</td>\n",
       "      <td>20.30</td>\n",
       "      <td>3</td>\n",
       "      <td>NaN</td>\n",
       "      <td>...</td>\n",
       "      <td>8.50</td>\n",
       "      <td>0.0</td>\n",
       "      <td>санкт-петербург</td>\n",
       "      <td>38357.0</td>\n",
       "      <td>13878.0</td>\n",
       "      <td>1.0</td>\n",
       "      <td>310.0</td>\n",
       "      <td>2.0</td>\n",
       "      <td>553.0</td>\n",
       "      <td>137.0</td>\n",
       "    </tr>\n",
       "    <tr>\n",
       "      <th>11</th>\n",
       "      <td>9</td>\n",
       "      <td>3300000.0</td>\n",
       "      <td>44.00</td>\n",
       "      <td>2018-08-27</td>\n",
       "      <td>2</td>\n",
       "      <td>NaN</td>\n",
       "      <td>5.0</td>\n",
       "      <td>31.00</td>\n",
       "      <td>4</td>\n",
       "      <td>0.0</td>\n",
       "      <td>...</td>\n",
       "      <td>6.00</td>\n",
       "      <td>1.0</td>\n",
       "      <td>ломоносов</td>\n",
       "      <td>48252.0</td>\n",
       "      <td>51677.0</td>\n",
       "      <td>0.0</td>\n",
       "      <td>NaN</td>\n",
       "      <td>0.0</td>\n",
       "      <td>NaN</td>\n",
       "      <td>7.0</td>\n",
       "    </tr>\n",
       "    <tr>\n",
       "      <th>12</th>\n",
       "      <td>10</td>\n",
       "      <td>3890000.0</td>\n",
       "      <td>54.00</td>\n",
       "      <td>2016-06-30</td>\n",
       "      <td>2</td>\n",
       "      <td>NaN</td>\n",
       "      <td>5.0</td>\n",
       "      <td>30.00</td>\n",
       "      <td>5</td>\n",
       "      <td>NaN</td>\n",
       "      <td>...</td>\n",
       "      <td>9.00</td>\n",
       "      <td>0.0</td>\n",
       "      <td>сертолово</td>\n",
       "      <td>NaN</td>\n",
       "      <td>NaN</td>\n",
       "      <td>NaN</td>\n",
       "      <td>NaN</td>\n",
       "      <td>NaN</td>\n",
       "      <td>NaN</td>\n",
       "      <td>90.0</td>\n",
       "    </tr>\n",
       "    <tr>\n",
       "      <th>13</th>\n",
       "      <td>20</td>\n",
       "      <td>3550000.0</td>\n",
       "      <td>42.80</td>\n",
       "      <td>2017-07-01</td>\n",
       "      <td>2</td>\n",
       "      <td>2.56</td>\n",
       "      <td>5.0</td>\n",
       "      <td>27.00</td>\n",
       "      <td>5</td>\n",
       "      <td>NaN</td>\n",
       "      <td>...</td>\n",
       "      <td>5.20</td>\n",
       "      <td>1.0</td>\n",
       "      <td>петергоф</td>\n",
       "      <td>37868.0</td>\n",
       "      <td>33058.0</td>\n",
       "      <td>1.0</td>\n",
       "      <td>294.0</td>\n",
       "      <td>3.0</td>\n",
       "      <td>298.0</td>\n",
       "      <td>366.0</td>\n",
       "    </tr>\n",
       "    <tr>\n",
       "      <th>14</th>\n",
       "      <td>1</td>\n",
       "      <td>4400000.0</td>\n",
       "      <td>36.00</td>\n",
       "      <td>2016-06-23</td>\n",
       "      <td>1</td>\n",
       "      <td>NaN</td>\n",
       "      <td>6.0</td>\n",
       "      <td>17.00</td>\n",
       "      <td>1</td>\n",
       "      <td>NaN</td>\n",
       "      <td>...</td>\n",
       "      <td>8.00</td>\n",
       "      <td>0.0</td>\n",
       "      <td>пушкин</td>\n",
       "      <td>20782.0</td>\n",
       "      <td>30759.0</td>\n",
       "      <td>0.0</td>\n",
       "      <td>NaN</td>\n",
       "      <td>1.0</td>\n",
       "      <td>96.0</td>\n",
       "      <td>203.0</td>\n",
       "    </tr>\n",
       "    <tr>\n",
       "      <th>15</th>\n",
       "      <td>16</td>\n",
       "      <td>4650000.0</td>\n",
       "      <td>39.00</td>\n",
       "      <td>2017-11-18</td>\n",
       "      <td>1</td>\n",
       "      <td>NaN</td>\n",
       "      <td>14.0</td>\n",
       "      <td>20.50</td>\n",
       "      <td>5</td>\n",
       "      <td>NaN</td>\n",
       "      <td>...</td>\n",
       "      <td>7.60</td>\n",
       "      <td>1.0</td>\n",
       "      <td>санкт-петербург</td>\n",
       "      <td>12900.0</td>\n",
       "      <td>14259.0</td>\n",
       "      <td>1.0</td>\n",
       "      <td>590.0</td>\n",
       "      <td>1.0</td>\n",
       "      <td>296.0</td>\n",
       "      <td>19.0</td>\n",
       "    </tr>\n",
       "    <tr>\n",
       "      <th>16</th>\n",
       "      <td>11</td>\n",
       "      <td>6700000.0</td>\n",
       "      <td>82.00</td>\n",
       "      <td>2017-11-23</td>\n",
       "      <td>3</td>\n",
       "      <td>3.05</td>\n",
       "      <td>5.0</td>\n",
       "      <td>55.60</td>\n",
       "      <td>1</td>\n",
       "      <td>NaN</td>\n",
       "      <td>...</td>\n",
       "      <td>9.00</td>\n",
       "      <td>0.0</td>\n",
       "      <td>санкт-петербург</td>\n",
       "      <td>22108.0</td>\n",
       "      <td>10698.0</td>\n",
       "      <td>3.0</td>\n",
       "      <td>420.0</td>\n",
       "      <td>0.0</td>\n",
       "      <td>NaN</td>\n",
       "      <td>397.0</td>\n",
       "    </tr>\n",
       "    <tr>\n",
       "      <th>17</th>\n",
       "      <td>6</td>\n",
       "      <td>4180000.0</td>\n",
       "      <td>36.00</td>\n",
       "      <td>2016-09-09</td>\n",
       "      <td>1</td>\n",
       "      <td>NaN</td>\n",
       "      <td>17.0</td>\n",
       "      <td>16.50</td>\n",
       "      <td>7</td>\n",
       "      <td>NaN</td>\n",
       "      <td>...</td>\n",
       "      <td>11.00</td>\n",
       "      <td>1.0</td>\n",
       "      <td>санкт-петербург</td>\n",
       "      <td>33564.0</td>\n",
       "      <td>14616.0</td>\n",
       "      <td>0.0</td>\n",
       "      <td>NaN</td>\n",
       "      <td>1.0</td>\n",
       "      <td>859.0</td>\n",
       "      <td>571.0</td>\n",
       "    </tr>\n",
       "    <tr>\n",
       "      <th>18</th>\n",
       "      <td>8</td>\n",
       "      <td>3250000.0</td>\n",
       "      <td>31.00</td>\n",
       "      <td>2017-01-27</td>\n",
       "      <td>1</td>\n",
       "      <td>2.50</td>\n",
       "      <td>5.0</td>\n",
       "      <td>19.40</td>\n",
       "      <td>2</td>\n",
       "      <td>NaN</td>\n",
       "      <td>...</td>\n",
       "      <td>5.60</td>\n",
       "      <td>1.0</td>\n",
       "      <td>санкт-петербург</td>\n",
       "      <td>44060.0</td>\n",
       "      <td>10842.0</td>\n",
       "      <td>1.0</td>\n",
       "      <td>759.0</td>\n",
       "      <td>0.0</td>\n",
       "      <td>NaN</td>\n",
       "      <td>168.0</td>\n",
       "    </tr>\n",
       "    <tr>\n",
       "      <th>19</th>\n",
       "      <td>16</td>\n",
       "      <td>14200000.0</td>\n",
       "      <td>121.00</td>\n",
       "      <td>2019-01-09</td>\n",
       "      <td>3</td>\n",
       "      <td>2.75</td>\n",
       "      <td>16.0</td>\n",
       "      <td>76.00</td>\n",
       "      <td>8</td>\n",
       "      <td>NaN</td>\n",
       "      <td>...</td>\n",
       "      <td>12.00</td>\n",
       "      <td>0.0</td>\n",
       "      <td>санкт-петербург</td>\n",
       "      <td>38900.0</td>\n",
       "      <td>12843.0</td>\n",
       "      <td>0.0</td>\n",
       "      <td>NaN</td>\n",
       "      <td>0.0</td>\n",
       "      <td>NaN</td>\n",
       "      <td>97.0</td>\n",
       "    </tr>\n",
       "    <tr>\n",
       "      <th>20</th>\n",
       "      <td>12</td>\n",
       "      <td>6120000.0</td>\n",
       "      <td>80.00</td>\n",
       "      <td>2017-09-28</td>\n",
       "      <td>3</td>\n",
       "      <td>2.70</td>\n",
       "      <td>27.0</td>\n",
       "      <td>48.00</td>\n",
       "      <td>11</td>\n",
       "      <td>NaN</td>\n",
       "      <td>...</td>\n",
       "      <td>12.00</td>\n",
       "      <td>2.0</td>\n",
       "      <td>поселок парголово</td>\n",
       "      <td>53134.0</td>\n",
       "      <td>19311.0</td>\n",
       "      <td>0.0</td>\n",
       "      <td>NaN</td>\n",
       "      <td>0.0</td>\n",
       "      <td>NaN</td>\n",
       "      <td>74.0</td>\n",
       "    </tr>\n",
       "    <tr>\n",
       "      <th>21</th>\n",
       "      <td>13</td>\n",
       "      <td>3200000.0</td>\n",
       "      <td>31.60</td>\n",
       "      <td>2018-03-14</td>\n",
       "      <td>1</td>\n",
       "      <td>NaN</td>\n",
       "      <td>5.0</td>\n",
       "      <td>16.90</td>\n",
       "      <td>2</td>\n",
       "      <td>NaN</td>\n",
       "      <td>...</td>\n",
       "      <td>5.70</td>\n",
       "      <td>1.0</td>\n",
       "      <td>санкт-петербург</td>\n",
       "      <td>36064.0</td>\n",
       "      <td>9722.0</td>\n",
       "      <td>1.0</td>\n",
       "      <td>248.0</td>\n",
       "      <td>0.0</td>\n",
       "      <td>NaN</td>\n",
       "      <td>310.0</td>\n",
       "    </tr>\n",
       "    <tr>\n",
       "      <th>22</th>\n",
       "      <td>20</td>\n",
       "      <td>5000000.0</td>\n",
       "      <td>58.00</td>\n",
       "      <td>2017-04-24</td>\n",
       "      <td>2</td>\n",
       "      <td>2.75</td>\n",
       "      <td>25.0</td>\n",
       "      <td>30.00</td>\n",
       "      <td>15</td>\n",
       "      <td>NaN</td>\n",
       "      <td>...</td>\n",
       "      <td>11.00</td>\n",
       "      <td>2.0</td>\n",
       "      <td>деревня кудрово</td>\n",
       "      <td>NaN</td>\n",
       "      <td>NaN</td>\n",
       "      <td>NaN</td>\n",
       "      <td>NaN</td>\n",
       "      <td>NaN</td>\n",
       "      <td>NaN</td>\n",
       "      <td>60.0</td>\n",
       "    </tr>\n",
       "    <tr>\n",
       "      <th>23</th>\n",
       "      <td>11</td>\n",
       "      <td>2950000.0</td>\n",
       "      <td>32.00</td>\n",
       "      <td>2016-10-29</td>\n",
       "      <td>1</td>\n",
       "      <td>2.60</td>\n",
       "      <td>9.0</td>\n",
       "      <td>17.70</td>\n",
       "      <td>9</td>\n",
       "      <td>NaN</td>\n",
       "      <td>...</td>\n",
       "      <td>6.10</td>\n",
       "      <td>0.0</td>\n",
       "      <td>санкт-петербург</td>\n",
       "      <td>15414.0</td>\n",
       "      <td>14211.0</td>\n",
       "      <td>2.0</td>\n",
       "      <td>517.0</td>\n",
       "      <td>1.0</td>\n",
       "      <td>190.0</td>\n",
       "      <td>615.0</td>\n",
       "    </tr>\n",
       "    <tr>\n",
       "      <th>24</th>\n",
       "      <td>8</td>\n",
       "      <td>6500000.0</td>\n",
       "      <td>97.20</td>\n",
       "      <td>2015-10-31</td>\n",
       "      <td>2</td>\n",
       "      <td>NaN</td>\n",
       "      <td>3.0</td>\n",
       "      <td>46.50</td>\n",
       "      <td>1</td>\n",
       "      <td>NaN</td>\n",
       "      <td>...</td>\n",
       "      <td>19.60</td>\n",
       "      <td>0.0</td>\n",
       "      <td>санкт-петербург</td>\n",
       "      <td>20052.0</td>\n",
       "      <td>2336.0</td>\n",
       "      <td>3.0</td>\n",
       "      <td>411.0</td>\n",
       "      <td>3.0</td>\n",
       "      <td>124.0</td>\n",
       "      <td>265.0</td>\n",
       "    </tr>\n",
       "    <tr>\n",
       "      <th>25</th>\n",
       "      <td>3</td>\n",
       "      <td>6800000.0</td>\n",
       "      <td>76.00</td>\n",
       "      <td>2015-10-01</td>\n",
       "      <td>2</td>\n",
       "      <td>2.75</td>\n",
       "      <td>23.0</td>\n",
       "      <td>39.00</td>\n",
       "      <td>18</td>\n",
       "      <td>0.0</td>\n",
       "      <td>...</td>\n",
       "      <td>15.00</td>\n",
       "      <td>2.0</td>\n",
       "      <td>санкт-петербург</td>\n",
       "      <td>34967.0</td>\n",
       "      <td>14640.0</td>\n",
       "      <td>0.0</td>\n",
       "      <td>NaN</td>\n",
       "      <td>1.0</td>\n",
       "      <td>564.0</td>\n",
       "      <td>300.0</td>\n",
       "    </tr>\n",
       "    <tr>\n",
       "      <th>26</th>\n",
       "      <td>6</td>\n",
       "      <td>4050000.0</td>\n",
       "      <td>60.00</td>\n",
       "      <td>2017-04-28</td>\n",
       "      <td>4</td>\n",
       "      <td>NaN</td>\n",
       "      <td>5.0</td>\n",
       "      <td>43.00</td>\n",
       "      <td>4</td>\n",
       "      <td>NaN</td>\n",
       "      <td>...</td>\n",
       "      <td>7.00</td>\n",
       "      <td>0.0</td>\n",
       "      <td>санкт-петербург</td>\n",
       "      <td>11580.0</td>\n",
       "      <td>10510.0</td>\n",
       "      <td>0.0</td>\n",
       "      <td>NaN</td>\n",
       "      <td>1.0</td>\n",
       "      <td>95.0</td>\n",
       "      <td>265.0</td>\n",
       "    </tr>\n",
       "    <tr>\n",
       "      <th>27</th>\n",
       "      <td>20</td>\n",
       "      <td>7100000.0</td>\n",
       "      <td>70.00</td>\n",
       "      <td>2017-05-12</td>\n",
       "      <td>3</td>\n",
       "      <td>2.60</td>\n",
       "      <td>17.0</td>\n",
       "      <td>49.00</td>\n",
       "      <td>11</td>\n",
       "      <td>NaN</td>\n",
       "      <td>...</td>\n",
       "      <td>9.20</td>\n",
       "      <td>0.0</td>\n",
       "      <td>санкт-петербург</td>\n",
       "      <td>29197.0</td>\n",
       "      <td>11456.0</td>\n",
       "      <td>2.0</td>\n",
       "      <td>452.0</td>\n",
       "      <td>1.0</td>\n",
       "      <td>779.0</td>\n",
       "      <td>151.0</td>\n",
       "    </tr>\n",
       "    <tr>\n",
       "      <th>28</th>\n",
       "      <td>8</td>\n",
       "      <td>4170000.0</td>\n",
       "      <td>44.00</td>\n",
       "      <td>2017-12-13</td>\n",
       "      <td>1</td>\n",
       "      <td>2.90</td>\n",
       "      <td>6.0</td>\n",
       "      <td>20.80</td>\n",
       "      <td>1</td>\n",
       "      <td>NaN</td>\n",
       "      <td>...</td>\n",
       "      <td>11.70</td>\n",
       "      <td>1.0</td>\n",
       "      <td>пушкин</td>\n",
       "      <td>18557.0</td>\n",
       "      <td>30710.0</td>\n",
       "      <td>0.0</td>\n",
       "      <td>NaN</td>\n",
       "      <td>1.0</td>\n",
       "      <td>118.0</td>\n",
       "      <td>74.0</td>\n",
       "    </tr>\n",
       "    <tr>\n",
       "      <th>29</th>\n",
       "      <td>9</td>\n",
       "      <td>8600000.0</td>\n",
       "      <td>100.00</td>\n",
       "      <td>2016-04-09</td>\n",
       "      <td>3</td>\n",
       "      <td>NaN</td>\n",
       "      <td>19.0</td>\n",
       "      <td>52.00</td>\n",
       "      <td>15</td>\n",
       "      <td>0.0</td>\n",
       "      <td>...</td>\n",
       "      <td>11.00</td>\n",
       "      <td>0.0</td>\n",
       "      <td>санкт-петербург</td>\n",
       "      <td>30394.0</td>\n",
       "      <td>11526.0</td>\n",
       "      <td>1.0</td>\n",
       "      <td>532.0</td>\n",
       "      <td>1.0</td>\n",
       "      <td>896.0</td>\n",
       "      <td>125.0</td>\n",
       "    </tr>\n",
       "  </tbody>\n",
       "</table>\n",
       "<p>30 rows × 22 columns</p>\n",
       "</div>"
      ],
      "text/plain": [
       "    число фотографий  цена на момент снятия с публикации  общая площадь  \\\n",
       "0                 20                          13000000.0         108.00   \n",
       "1                  7                           3350000.0          40.40   \n",
       "2                 10                           5196000.0          56.00   \n",
       "3                  0                          64900000.0         159.00   \n",
       "4                  2                          10000000.0         100.00   \n",
       "5                 10                           2890000.0          30.40   \n",
       "6                  6                           3700000.0          37.30   \n",
       "7                  5                           7915000.0          71.60   \n",
       "8                 20                           2900000.0          33.16   \n",
       "9                 18                           5400000.0          61.00   \n",
       "10                 5                           5050000.0          39.60   \n",
       "11                 9                           3300000.0          44.00   \n",
       "12                10                           3890000.0          54.00   \n",
       "13                20                           3550000.0          42.80   \n",
       "14                 1                           4400000.0          36.00   \n",
       "15                16                           4650000.0          39.00   \n",
       "16                11                           6700000.0          82.00   \n",
       "17                 6                           4180000.0          36.00   \n",
       "18                 8                           3250000.0          31.00   \n",
       "19                16                          14200000.0         121.00   \n",
       "20                12                           6120000.0          80.00   \n",
       "21                13                           3200000.0          31.60   \n",
       "22                20                           5000000.0          58.00   \n",
       "23                11                           2950000.0          32.00   \n",
       "24                 8                           6500000.0          97.20   \n",
       "25                 3                           6800000.0          76.00   \n",
       "26                 6                           4050000.0          60.00   \n",
       "27                20                           7100000.0          70.00   \n",
       "28                 8                           4170000.0          44.00   \n",
       "29                 9                           8600000.0         100.00   \n",
       "\n",
       "   дата публикации  число комнат  высота потолков  этажей в доме  \\\n",
       "0       2019-03-07             3             2.70           16.0   \n",
       "1       2018-12-04             1              NaN           11.0   \n",
       "2       2015-08-20             2              NaN            5.0   \n",
       "3       2015-07-24             3              NaN           14.0   \n",
       "4       2018-06-19             2             3.03           14.0   \n",
       "5       2018-09-10             1              NaN           12.0   \n",
       "6       2017-11-02             1              NaN           26.0   \n",
       "7       2019-04-18             2              NaN           24.0   \n",
       "8       2018-05-23             1              NaN           27.0   \n",
       "9       2017-02-26             3             2.50            9.0   \n",
       "10      2017-11-16             1             2.67           12.0   \n",
       "11      2018-08-27             2              NaN            5.0   \n",
       "12      2016-06-30             2              NaN            5.0   \n",
       "13      2017-07-01             2             2.56            5.0   \n",
       "14      2016-06-23             1              NaN            6.0   \n",
       "15      2017-11-18             1              NaN           14.0   \n",
       "16      2017-11-23             3             3.05            5.0   \n",
       "17      2016-09-09             1              NaN           17.0   \n",
       "18      2017-01-27             1             2.50            5.0   \n",
       "19      2019-01-09             3             2.75           16.0   \n",
       "20      2017-09-28             3             2.70           27.0   \n",
       "21      2018-03-14             1              NaN            5.0   \n",
       "22      2017-04-24             2             2.75           25.0   \n",
       "23      2016-10-29             1             2.60            9.0   \n",
       "24      2015-10-31             2              NaN            3.0   \n",
       "25      2015-10-01             2             2.75           23.0   \n",
       "26      2017-04-28             4              NaN            5.0   \n",
       "27      2017-05-12             3             2.60           17.0   \n",
       "28      2017-12-13             1             2.90            6.0   \n",
       "29      2016-04-09             3              NaN           19.0   \n",
       "\n",
       "    жилая площадь  этаж  апартаменты  ...  площадь кухни  число балконов  \\\n",
       "0           51.00     8          NaN  ...          25.00             0.0   \n",
       "1           18.60     1          NaN  ...          11.00             2.0   \n",
       "2           34.30     4          NaN  ...           8.30             0.0   \n",
       "3             NaN     9          NaN  ...            NaN             0.0   \n",
       "4           32.00    13          NaN  ...          41.00             0.0   \n",
       "5           14.40     5          NaN  ...           9.10             0.0   \n",
       "6           10.60     6          NaN  ...          14.40             1.0   \n",
       "7             NaN    22          NaN  ...          18.90             2.0   \n",
       "8           15.43    26          NaN  ...           8.81             0.0   \n",
       "9           43.60     7          NaN  ...           6.50             2.0   \n",
       "10          20.30     3          NaN  ...           8.50             0.0   \n",
       "11          31.00     4          0.0  ...           6.00             1.0   \n",
       "12          30.00     5          NaN  ...           9.00             0.0   \n",
       "13          27.00     5          NaN  ...           5.20             1.0   \n",
       "14          17.00     1          NaN  ...           8.00             0.0   \n",
       "15          20.50     5          NaN  ...           7.60             1.0   \n",
       "16          55.60     1          NaN  ...           9.00             0.0   \n",
       "17          16.50     7          NaN  ...          11.00             1.0   \n",
       "18          19.40     2          NaN  ...           5.60             1.0   \n",
       "19          76.00     8          NaN  ...          12.00             0.0   \n",
       "20          48.00    11          NaN  ...          12.00             2.0   \n",
       "21          16.90     2          NaN  ...           5.70             1.0   \n",
       "22          30.00    15          NaN  ...          11.00             2.0   \n",
       "23          17.70     9          NaN  ...           6.10             0.0   \n",
       "24          46.50     1          NaN  ...          19.60             0.0   \n",
       "25          39.00    18          0.0  ...          15.00             2.0   \n",
       "26          43.00     4          NaN  ...           7.00             0.0   \n",
       "27          49.00    11          NaN  ...           9.20             0.0   \n",
       "28          20.80     1          NaN  ...          11.70             1.0   \n",
       "29          52.00    15          0.0  ...          11.00             0.0   \n",
       "\n",
       "        название населённого пункта  расстояние до аэропорта  \\\n",
       "0                   санкт-петербург                  18863.0   \n",
       "1                    поселок шушары                  12817.0   \n",
       "2                   санкт-петербург                  21741.0   \n",
       "3                   санкт-петербург                  28098.0   \n",
       "4                   санкт-петербург                  31856.0   \n",
       "5   поселок городского типа янино-1                      NaN   \n",
       "6                 поселок парголово                  52996.0   \n",
       "7                   санкт-петербург                  23982.0   \n",
       "8                    поселок мурино                      NaN   \n",
       "9                   санкт-петербург                  50898.0   \n",
       "10                  санкт-петербург                  38357.0   \n",
       "11                        ломоносов                  48252.0   \n",
       "12                        сертолово                      NaN   \n",
       "13                         петергоф                  37868.0   \n",
       "14                           пушкин                  20782.0   \n",
       "15                  санкт-петербург                  12900.0   \n",
       "16                  санкт-петербург                  22108.0   \n",
       "17                  санкт-петербург                  33564.0   \n",
       "18                  санкт-петербург                  44060.0   \n",
       "19                  санкт-петербург                  38900.0   \n",
       "20                поселок парголово                  53134.0   \n",
       "21                  санкт-петербург                  36064.0   \n",
       "22                  деревня кудрово                      NaN   \n",
       "23                  санкт-петербург                  15414.0   \n",
       "24                  санкт-петербург                  20052.0   \n",
       "25                  санкт-петербург                  34967.0   \n",
       "26                  санкт-петербург                  11580.0   \n",
       "27                  санкт-петербург                  29197.0   \n",
       "28                           пушкин                  18557.0   \n",
       "29                  санкт-петербург                  30394.0   \n",
       "\n",
       "   расстояние до центра города  парки в радиусе 3 км  расстояние до парка  \\\n",
       "0                      16028.0                   1.0                482.0   \n",
       "1                      18603.0                   0.0                  NaN   \n",
       "2                      13933.0                   1.0                 90.0   \n",
       "3                       6800.0                   2.0                 84.0   \n",
       "4                       8098.0                   2.0                112.0   \n",
       "5                          NaN                   NaN                  NaN   \n",
       "6                      19143.0                   0.0                  NaN   \n",
       "7                      11634.0                   0.0                  NaN   \n",
       "8                          NaN                   NaN                  NaN   \n",
       "9                      15008.0                   0.0                  NaN   \n",
       "10                     13878.0                   1.0                310.0   \n",
       "11                     51677.0                   0.0                  NaN   \n",
       "12                         NaN                   NaN                  NaN   \n",
       "13                     33058.0                   1.0                294.0   \n",
       "14                     30759.0                   0.0                  NaN   \n",
       "15                     14259.0                   1.0                590.0   \n",
       "16                     10698.0                   3.0                420.0   \n",
       "17                     14616.0                   0.0                  NaN   \n",
       "18                     10842.0                   1.0                759.0   \n",
       "19                     12843.0                   0.0                  NaN   \n",
       "20                     19311.0                   0.0                  NaN   \n",
       "21                      9722.0                   1.0                248.0   \n",
       "22                         NaN                   NaN                  NaN   \n",
       "23                     14211.0                   2.0                517.0   \n",
       "24                      2336.0                   3.0                411.0   \n",
       "25                     14640.0                   0.0                  NaN   \n",
       "26                     10510.0                   0.0                  NaN   \n",
       "27                     11456.0                   2.0                452.0   \n",
       "28                     30710.0                   0.0                  NaN   \n",
       "29                     11526.0                   1.0                532.0   \n",
       "\n",
       "    водоёмы в радиусе 3 км  расстояние до ближайшего водоёма  \\\n",
       "0                      2.0                             755.0   \n",
       "1                      0.0                               NaN   \n",
       "2                      2.0                             574.0   \n",
       "3                      3.0                             234.0   \n",
       "4                      1.0                              48.0   \n",
       "5                      NaN                               NaN   \n",
       "6                      0.0                               NaN   \n",
       "7                      0.0                               NaN   \n",
       "8                      NaN                               NaN   \n",
       "9                      0.0                               NaN   \n",
       "10                     2.0                             553.0   \n",
       "11                     0.0                               NaN   \n",
       "12                     NaN                               NaN   \n",
       "13                     3.0                             298.0   \n",
       "14                     1.0                              96.0   \n",
       "15                     1.0                             296.0   \n",
       "16                     0.0                               NaN   \n",
       "17                     1.0                             859.0   \n",
       "18                     0.0                               NaN   \n",
       "19                     0.0                               NaN   \n",
       "20                     0.0                               NaN   \n",
       "21                     0.0                               NaN   \n",
       "22                     NaN                               NaN   \n",
       "23                     1.0                             190.0   \n",
       "24                     3.0                             124.0   \n",
       "25                     1.0                             564.0   \n",
       "26                     1.0                              95.0   \n",
       "27                     1.0                             779.0   \n",
       "28                     1.0                             118.0   \n",
       "29                     1.0                             896.0   \n",
       "\n",
       "    размещено объявление (от публикации до снятия)  \n",
       "0                                              NaN  \n",
       "1                                             81.0  \n",
       "2                                            558.0  \n",
       "3                                            424.0  \n",
       "4                                            121.0  \n",
       "5                                             55.0  \n",
       "6                                            155.0  \n",
       "7                                              NaN  \n",
       "8                                            189.0  \n",
       "9                                            289.0  \n",
       "10                                           137.0  \n",
       "11                                             7.0  \n",
       "12                                            90.0  \n",
       "13                                           366.0  \n",
       "14                                           203.0  \n",
       "15                                            19.0  \n",
       "16                                           397.0  \n",
       "17                                           571.0  \n",
       "18                                           168.0  \n",
       "19                                            97.0  \n",
       "20                                            74.0  \n",
       "21                                           310.0  \n",
       "22                                            60.0  \n",
       "23                                           615.0  \n",
       "24                                           265.0  \n",
       "25                                           300.0  \n",
       "26                                           265.0  \n",
       "27                                           151.0  \n",
       "28                                            74.0  \n",
       "29                                           125.0  \n",
       "\n",
       "[30 rows x 22 columns]"
      ]
     },
     "execution_count": 13,
     "metadata": {},
     "output_type": "execute_result"
    }
   ],
   "source": [
    "data.head(30)"
   ]
  },
  {
   "cell_type": "code",
   "execution_count": 14,
   "metadata": {},
   "outputs": [
    {
     "data": {
      "text/html": [
       "<div>\n",
       "<style scoped>\n",
       "    .dataframe tbody tr th:only-of-type {\n",
       "        vertical-align: middle;\n",
       "    }\n",
       "\n",
       "    .dataframe tbody tr th {\n",
       "        vertical-align: top;\n",
       "    }\n",
       "\n",
       "    .dataframe thead th {\n",
       "        text-align: right;\n",
       "    }\n",
       "</style>\n",
       "<table border=\"1\" class=\"dataframe\">\n",
       "  <thead>\n",
       "    <tr style=\"text-align: right;\">\n",
       "      <th></th>\n",
       "      <th>число фотографий</th>\n",
       "      <th>цена на момент снятия с публикации</th>\n",
       "      <th>общая площадь</th>\n",
       "      <th>дата публикации</th>\n",
       "      <th>число комнат</th>\n",
       "      <th>высота потолков</th>\n",
       "      <th>этажей в доме</th>\n",
       "      <th>жилая площадь</th>\n",
       "      <th>этаж</th>\n",
       "      <th>апартаменты</th>\n",
       "      <th>...</th>\n",
       "      <th>водоёмы в радиусе 3 км</th>\n",
       "      <th>расстояние до ближайшего водоёма</th>\n",
       "      <th>размещено объявление (от публикации до снятия)</th>\n",
       "      <th>один квадратный метр</th>\n",
       "      <th>день публикации</th>\n",
       "      <th>месяц публикации</th>\n",
       "      <th>год публикации</th>\n",
       "      <th>расстояние до центра города в км</th>\n",
       "      <th>день_публикации</th>\n",
       "      <th>тип_этажа</th>\n",
       "    </tr>\n",
       "  </thead>\n",
       "  <tbody>\n",
       "    <tr>\n",
       "      <th>0</th>\n",
       "      <td>20</td>\n",
       "      <td>13000000.0</td>\n",
       "      <td>108.00</td>\n",
       "      <td>2019-03-07</td>\n",
       "      <td>3</td>\n",
       "      <td>2.70</td>\n",
       "      <td>16.0</td>\n",
       "      <td>51.00</td>\n",
       "      <td>8</td>\n",
       "      <td>NaN</td>\n",
       "      <td>...</td>\n",
       "      <td>2.0</td>\n",
       "      <td>755.0</td>\n",
       "      <td>NaN</td>\n",
       "      <td>120370.370370</td>\n",
       "      <td>3</td>\n",
       "      <td>3</td>\n",
       "      <td>2019</td>\n",
       "      <td>16.028</td>\n",
       "      <td>3</td>\n",
       "      <td>другой</td>\n",
       "    </tr>\n",
       "    <tr>\n",
       "      <th>1</th>\n",
       "      <td>7</td>\n",
       "      <td>3350000.0</td>\n",
       "      <td>40.40</td>\n",
       "      <td>2018-12-04</td>\n",
       "      <td>1</td>\n",
       "      <td>NaN</td>\n",
       "      <td>11.0</td>\n",
       "      <td>18.60</td>\n",
       "      <td>1</td>\n",
       "      <td>NaN</td>\n",
       "      <td>...</td>\n",
       "      <td>0.0</td>\n",
       "      <td>NaN</td>\n",
       "      <td>81.0</td>\n",
       "      <td>82920.792079</td>\n",
       "      <td>1</td>\n",
       "      <td>12</td>\n",
       "      <td>2018</td>\n",
       "      <td>18.603</td>\n",
       "      <td>1</td>\n",
       "      <td>первый</td>\n",
       "    </tr>\n",
       "    <tr>\n",
       "      <th>2</th>\n",
       "      <td>10</td>\n",
       "      <td>5196000.0</td>\n",
       "      <td>56.00</td>\n",
       "      <td>2015-08-20</td>\n",
       "      <td>2</td>\n",
       "      <td>NaN</td>\n",
       "      <td>5.0</td>\n",
       "      <td>34.30</td>\n",
       "      <td>4</td>\n",
       "      <td>NaN</td>\n",
       "      <td>...</td>\n",
       "      <td>2.0</td>\n",
       "      <td>574.0</td>\n",
       "      <td>558.0</td>\n",
       "      <td>92785.714286</td>\n",
       "      <td>3</td>\n",
       "      <td>8</td>\n",
       "      <td>2015</td>\n",
       "      <td>13.933</td>\n",
       "      <td>3</td>\n",
       "      <td>другой</td>\n",
       "    </tr>\n",
       "    <tr>\n",
       "      <th>3</th>\n",
       "      <td>0</td>\n",
       "      <td>64900000.0</td>\n",
       "      <td>159.00</td>\n",
       "      <td>2015-07-24</td>\n",
       "      <td>3</td>\n",
       "      <td>NaN</td>\n",
       "      <td>14.0</td>\n",
       "      <td>NaN</td>\n",
       "      <td>9</td>\n",
       "      <td>NaN</td>\n",
       "      <td>...</td>\n",
       "      <td>3.0</td>\n",
       "      <td>234.0</td>\n",
       "      <td>424.0</td>\n",
       "      <td>408176.100629</td>\n",
       "      <td>4</td>\n",
       "      <td>7</td>\n",
       "      <td>2015</td>\n",
       "      <td>6.800</td>\n",
       "      <td>4</td>\n",
       "      <td>другой</td>\n",
       "    </tr>\n",
       "    <tr>\n",
       "      <th>4</th>\n",
       "      <td>2</td>\n",
       "      <td>10000000.0</td>\n",
       "      <td>100.00</td>\n",
       "      <td>2018-06-19</td>\n",
       "      <td>2</td>\n",
       "      <td>3.03</td>\n",
       "      <td>14.0</td>\n",
       "      <td>32.00</td>\n",
       "      <td>13</td>\n",
       "      <td>NaN</td>\n",
       "      <td>...</td>\n",
       "      <td>1.0</td>\n",
       "      <td>48.0</td>\n",
       "      <td>121.0</td>\n",
       "      <td>100000.000000</td>\n",
       "      <td>1</td>\n",
       "      <td>6</td>\n",
       "      <td>2018</td>\n",
       "      <td>8.098</td>\n",
       "      <td>1</td>\n",
       "      <td>другой</td>\n",
       "    </tr>\n",
       "    <tr>\n",
       "      <th>5</th>\n",
       "      <td>10</td>\n",
       "      <td>2890000.0</td>\n",
       "      <td>30.40</td>\n",
       "      <td>2018-09-10</td>\n",
       "      <td>1</td>\n",
       "      <td>NaN</td>\n",
       "      <td>12.0</td>\n",
       "      <td>14.40</td>\n",
       "      <td>5</td>\n",
       "      <td>NaN</td>\n",
       "      <td>...</td>\n",
       "      <td>NaN</td>\n",
       "      <td>NaN</td>\n",
       "      <td>55.0</td>\n",
       "      <td>95065.789474</td>\n",
       "      <td>0</td>\n",
       "      <td>9</td>\n",
       "      <td>2018</td>\n",
       "      <td>NaN</td>\n",
       "      <td>0</td>\n",
       "      <td>другой</td>\n",
       "    </tr>\n",
       "    <tr>\n",
       "      <th>6</th>\n",
       "      <td>6</td>\n",
       "      <td>3700000.0</td>\n",
       "      <td>37.30</td>\n",
       "      <td>2017-11-02</td>\n",
       "      <td>1</td>\n",
       "      <td>NaN</td>\n",
       "      <td>26.0</td>\n",
       "      <td>10.60</td>\n",
       "      <td>6</td>\n",
       "      <td>NaN</td>\n",
       "      <td>...</td>\n",
       "      <td>0.0</td>\n",
       "      <td>NaN</td>\n",
       "      <td>155.0</td>\n",
       "      <td>99195.710456</td>\n",
       "      <td>3</td>\n",
       "      <td>11</td>\n",
       "      <td>2017</td>\n",
       "      <td>19.143</td>\n",
       "      <td>3</td>\n",
       "      <td>другой</td>\n",
       "    </tr>\n",
       "    <tr>\n",
       "      <th>7</th>\n",
       "      <td>5</td>\n",
       "      <td>7915000.0</td>\n",
       "      <td>71.60</td>\n",
       "      <td>2019-04-18</td>\n",
       "      <td>2</td>\n",
       "      <td>NaN</td>\n",
       "      <td>24.0</td>\n",
       "      <td>NaN</td>\n",
       "      <td>22</td>\n",
       "      <td>NaN</td>\n",
       "      <td>...</td>\n",
       "      <td>0.0</td>\n",
       "      <td>NaN</td>\n",
       "      <td>NaN</td>\n",
       "      <td>110544.692737</td>\n",
       "      <td>3</td>\n",
       "      <td>4</td>\n",
       "      <td>2019</td>\n",
       "      <td>11.634</td>\n",
       "      <td>3</td>\n",
       "      <td>другой</td>\n",
       "    </tr>\n",
       "    <tr>\n",
       "      <th>8</th>\n",
       "      <td>20</td>\n",
       "      <td>2900000.0</td>\n",
       "      <td>33.16</td>\n",
       "      <td>2018-05-23</td>\n",
       "      <td>1</td>\n",
       "      <td>NaN</td>\n",
       "      <td>27.0</td>\n",
       "      <td>15.43</td>\n",
       "      <td>26</td>\n",
       "      <td>NaN</td>\n",
       "      <td>...</td>\n",
       "      <td>NaN</td>\n",
       "      <td>NaN</td>\n",
       "      <td>189.0</td>\n",
       "      <td>87454.764777</td>\n",
       "      <td>2</td>\n",
       "      <td>5</td>\n",
       "      <td>2018</td>\n",
       "      <td>NaN</td>\n",
       "      <td>2</td>\n",
       "      <td>другой</td>\n",
       "    </tr>\n",
       "    <tr>\n",
       "      <th>9</th>\n",
       "      <td>18</td>\n",
       "      <td>5400000.0</td>\n",
       "      <td>61.00</td>\n",
       "      <td>2017-02-26</td>\n",
       "      <td>3</td>\n",
       "      <td>2.50</td>\n",
       "      <td>9.0</td>\n",
       "      <td>43.60</td>\n",
       "      <td>7</td>\n",
       "      <td>NaN</td>\n",
       "      <td>...</td>\n",
       "      <td>0.0</td>\n",
       "      <td>NaN</td>\n",
       "      <td>289.0</td>\n",
       "      <td>88524.590164</td>\n",
       "      <td>6</td>\n",
       "      <td>2</td>\n",
       "      <td>2017</td>\n",
       "      <td>15.008</td>\n",
       "      <td>6</td>\n",
       "      <td>другой</td>\n",
       "    </tr>\n",
       "    <tr>\n",
       "      <th>10</th>\n",
       "      <td>5</td>\n",
       "      <td>5050000.0</td>\n",
       "      <td>39.60</td>\n",
       "      <td>2017-11-16</td>\n",
       "      <td>1</td>\n",
       "      <td>2.67</td>\n",
       "      <td>12.0</td>\n",
       "      <td>20.30</td>\n",
       "      <td>3</td>\n",
       "      <td>NaN</td>\n",
       "      <td>...</td>\n",
       "      <td>2.0</td>\n",
       "      <td>553.0</td>\n",
       "      <td>137.0</td>\n",
       "      <td>127525.252525</td>\n",
       "      <td>3</td>\n",
       "      <td>11</td>\n",
       "      <td>2017</td>\n",
       "      <td>13.878</td>\n",
       "      <td>3</td>\n",
       "      <td>другой</td>\n",
       "    </tr>\n",
       "    <tr>\n",
       "      <th>11</th>\n",
       "      <td>9</td>\n",
       "      <td>3300000.0</td>\n",
       "      <td>44.00</td>\n",
       "      <td>2018-08-27</td>\n",
       "      <td>2</td>\n",
       "      <td>NaN</td>\n",
       "      <td>5.0</td>\n",
       "      <td>31.00</td>\n",
       "      <td>4</td>\n",
       "      <td>0.0</td>\n",
       "      <td>...</td>\n",
       "      <td>0.0</td>\n",
       "      <td>NaN</td>\n",
       "      <td>7.0</td>\n",
       "      <td>75000.000000</td>\n",
       "      <td>0</td>\n",
       "      <td>8</td>\n",
       "      <td>2018</td>\n",
       "      <td>51.677</td>\n",
       "      <td>0</td>\n",
       "      <td>другой</td>\n",
       "    </tr>\n",
       "    <tr>\n",
       "      <th>12</th>\n",
       "      <td>10</td>\n",
       "      <td>3890000.0</td>\n",
       "      <td>54.00</td>\n",
       "      <td>2016-06-30</td>\n",
       "      <td>2</td>\n",
       "      <td>NaN</td>\n",
       "      <td>5.0</td>\n",
       "      <td>30.00</td>\n",
       "      <td>5</td>\n",
       "      <td>NaN</td>\n",
       "      <td>...</td>\n",
       "      <td>NaN</td>\n",
       "      <td>NaN</td>\n",
       "      <td>90.0</td>\n",
       "      <td>72037.037037</td>\n",
       "      <td>3</td>\n",
       "      <td>6</td>\n",
       "      <td>2016</td>\n",
       "      <td>NaN</td>\n",
       "      <td>3</td>\n",
       "      <td>последний</td>\n",
       "    </tr>\n",
       "    <tr>\n",
       "      <th>13</th>\n",
       "      <td>20</td>\n",
       "      <td>3550000.0</td>\n",
       "      <td>42.80</td>\n",
       "      <td>2017-07-01</td>\n",
       "      <td>2</td>\n",
       "      <td>2.56</td>\n",
       "      <td>5.0</td>\n",
       "      <td>27.00</td>\n",
       "      <td>5</td>\n",
       "      <td>NaN</td>\n",
       "      <td>...</td>\n",
       "      <td>3.0</td>\n",
       "      <td>298.0</td>\n",
       "      <td>366.0</td>\n",
       "      <td>82943.925234</td>\n",
       "      <td>5</td>\n",
       "      <td>7</td>\n",
       "      <td>2017</td>\n",
       "      <td>33.058</td>\n",
       "      <td>5</td>\n",
       "      <td>последний</td>\n",
       "    </tr>\n",
       "    <tr>\n",
       "      <th>14</th>\n",
       "      <td>1</td>\n",
       "      <td>4400000.0</td>\n",
       "      <td>36.00</td>\n",
       "      <td>2016-06-23</td>\n",
       "      <td>1</td>\n",
       "      <td>NaN</td>\n",
       "      <td>6.0</td>\n",
       "      <td>17.00</td>\n",
       "      <td>1</td>\n",
       "      <td>NaN</td>\n",
       "      <td>...</td>\n",
       "      <td>1.0</td>\n",
       "      <td>96.0</td>\n",
       "      <td>203.0</td>\n",
       "      <td>122222.222222</td>\n",
       "      <td>3</td>\n",
       "      <td>6</td>\n",
       "      <td>2016</td>\n",
       "      <td>30.759</td>\n",
       "      <td>3</td>\n",
       "      <td>первый</td>\n",
       "    </tr>\n",
       "    <tr>\n",
       "      <th>15</th>\n",
       "      <td>16</td>\n",
       "      <td>4650000.0</td>\n",
       "      <td>39.00</td>\n",
       "      <td>2017-11-18</td>\n",
       "      <td>1</td>\n",
       "      <td>NaN</td>\n",
       "      <td>14.0</td>\n",
       "      <td>20.50</td>\n",
       "      <td>5</td>\n",
       "      <td>NaN</td>\n",
       "      <td>...</td>\n",
       "      <td>1.0</td>\n",
       "      <td>296.0</td>\n",
       "      <td>19.0</td>\n",
       "      <td>119230.769231</td>\n",
       "      <td>5</td>\n",
       "      <td>11</td>\n",
       "      <td>2017</td>\n",
       "      <td>14.259</td>\n",
       "      <td>5</td>\n",
       "      <td>другой</td>\n",
       "    </tr>\n",
       "    <tr>\n",
       "      <th>16</th>\n",
       "      <td>11</td>\n",
       "      <td>6700000.0</td>\n",
       "      <td>82.00</td>\n",
       "      <td>2017-11-23</td>\n",
       "      <td>3</td>\n",
       "      <td>3.05</td>\n",
       "      <td>5.0</td>\n",
       "      <td>55.60</td>\n",
       "      <td>1</td>\n",
       "      <td>NaN</td>\n",
       "      <td>...</td>\n",
       "      <td>0.0</td>\n",
       "      <td>NaN</td>\n",
       "      <td>397.0</td>\n",
       "      <td>81707.317073</td>\n",
       "      <td>3</td>\n",
       "      <td>11</td>\n",
       "      <td>2017</td>\n",
       "      <td>10.698</td>\n",
       "      <td>3</td>\n",
       "      <td>первый</td>\n",
       "    </tr>\n",
       "    <tr>\n",
       "      <th>17</th>\n",
       "      <td>6</td>\n",
       "      <td>4180000.0</td>\n",
       "      <td>36.00</td>\n",
       "      <td>2016-09-09</td>\n",
       "      <td>1</td>\n",
       "      <td>NaN</td>\n",
       "      <td>17.0</td>\n",
       "      <td>16.50</td>\n",
       "      <td>7</td>\n",
       "      <td>NaN</td>\n",
       "      <td>...</td>\n",
       "      <td>1.0</td>\n",
       "      <td>859.0</td>\n",
       "      <td>571.0</td>\n",
       "      <td>116111.111111</td>\n",
       "      <td>4</td>\n",
       "      <td>9</td>\n",
       "      <td>2016</td>\n",
       "      <td>14.616</td>\n",
       "      <td>4</td>\n",
       "      <td>другой</td>\n",
       "    </tr>\n",
       "    <tr>\n",
       "      <th>18</th>\n",
       "      <td>8</td>\n",
       "      <td>3250000.0</td>\n",
       "      <td>31.00</td>\n",
       "      <td>2017-01-27</td>\n",
       "      <td>1</td>\n",
       "      <td>2.50</td>\n",
       "      <td>5.0</td>\n",
       "      <td>19.40</td>\n",
       "      <td>2</td>\n",
       "      <td>NaN</td>\n",
       "      <td>...</td>\n",
       "      <td>0.0</td>\n",
       "      <td>NaN</td>\n",
       "      <td>168.0</td>\n",
       "      <td>104838.709677</td>\n",
       "      <td>4</td>\n",
       "      <td>1</td>\n",
       "      <td>2017</td>\n",
       "      <td>10.842</td>\n",
       "      <td>4</td>\n",
       "      <td>другой</td>\n",
       "    </tr>\n",
       "    <tr>\n",
       "      <th>19</th>\n",
       "      <td>16</td>\n",
       "      <td>14200000.0</td>\n",
       "      <td>121.00</td>\n",
       "      <td>2019-01-09</td>\n",
       "      <td>3</td>\n",
       "      <td>2.75</td>\n",
       "      <td>16.0</td>\n",
       "      <td>76.00</td>\n",
       "      <td>8</td>\n",
       "      <td>NaN</td>\n",
       "      <td>...</td>\n",
       "      <td>0.0</td>\n",
       "      <td>NaN</td>\n",
       "      <td>97.0</td>\n",
       "      <td>117355.371901</td>\n",
       "      <td>2</td>\n",
       "      <td>1</td>\n",
       "      <td>2019</td>\n",
       "      <td>12.843</td>\n",
       "      <td>2</td>\n",
       "      <td>другой</td>\n",
       "    </tr>\n",
       "  </tbody>\n",
       "</table>\n",
       "<p>20 rows × 29 columns</p>\n",
       "</div>"
      ],
      "text/plain": [
       "    число фотографий  цена на момент снятия с публикации  общая площадь  \\\n",
       "0                 20                          13000000.0         108.00   \n",
       "1                  7                           3350000.0          40.40   \n",
       "2                 10                           5196000.0          56.00   \n",
       "3                  0                          64900000.0         159.00   \n",
       "4                  2                          10000000.0         100.00   \n",
       "5                 10                           2890000.0          30.40   \n",
       "6                  6                           3700000.0          37.30   \n",
       "7                  5                           7915000.0          71.60   \n",
       "8                 20                           2900000.0          33.16   \n",
       "9                 18                           5400000.0          61.00   \n",
       "10                 5                           5050000.0          39.60   \n",
       "11                 9                           3300000.0          44.00   \n",
       "12                10                           3890000.0          54.00   \n",
       "13                20                           3550000.0          42.80   \n",
       "14                 1                           4400000.0          36.00   \n",
       "15                16                           4650000.0          39.00   \n",
       "16                11                           6700000.0          82.00   \n",
       "17                 6                           4180000.0          36.00   \n",
       "18                 8                           3250000.0          31.00   \n",
       "19                16                          14200000.0         121.00   \n",
       "\n",
       "   дата публикации  число комнат  высота потолков  этажей в доме  \\\n",
       "0       2019-03-07             3             2.70           16.0   \n",
       "1       2018-12-04             1              NaN           11.0   \n",
       "2       2015-08-20             2              NaN            5.0   \n",
       "3       2015-07-24             3              NaN           14.0   \n",
       "4       2018-06-19             2             3.03           14.0   \n",
       "5       2018-09-10             1              NaN           12.0   \n",
       "6       2017-11-02             1              NaN           26.0   \n",
       "7       2019-04-18             2              NaN           24.0   \n",
       "8       2018-05-23             1              NaN           27.0   \n",
       "9       2017-02-26             3             2.50            9.0   \n",
       "10      2017-11-16             1             2.67           12.0   \n",
       "11      2018-08-27             2              NaN            5.0   \n",
       "12      2016-06-30             2              NaN            5.0   \n",
       "13      2017-07-01             2             2.56            5.0   \n",
       "14      2016-06-23             1              NaN            6.0   \n",
       "15      2017-11-18             1              NaN           14.0   \n",
       "16      2017-11-23             3             3.05            5.0   \n",
       "17      2016-09-09             1              NaN           17.0   \n",
       "18      2017-01-27             1             2.50            5.0   \n",
       "19      2019-01-09             3             2.75           16.0   \n",
       "\n",
       "    жилая площадь  этаж  апартаменты  ...  водоёмы в радиусе 3 км  \\\n",
       "0           51.00     8          NaN  ...                     2.0   \n",
       "1           18.60     1          NaN  ...                     0.0   \n",
       "2           34.30     4          NaN  ...                     2.0   \n",
       "3             NaN     9          NaN  ...                     3.0   \n",
       "4           32.00    13          NaN  ...                     1.0   \n",
       "5           14.40     5          NaN  ...                     NaN   \n",
       "6           10.60     6          NaN  ...                     0.0   \n",
       "7             NaN    22          NaN  ...                     0.0   \n",
       "8           15.43    26          NaN  ...                     NaN   \n",
       "9           43.60     7          NaN  ...                     0.0   \n",
       "10          20.30     3          NaN  ...                     2.0   \n",
       "11          31.00     4          0.0  ...                     0.0   \n",
       "12          30.00     5          NaN  ...                     NaN   \n",
       "13          27.00     5          NaN  ...                     3.0   \n",
       "14          17.00     1          NaN  ...                     1.0   \n",
       "15          20.50     5          NaN  ...                     1.0   \n",
       "16          55.60     1          NaN  ...                     0.0   \n",
       "17          16.50     7          NaN  ...                     1.0   \n",
       "18          19.40     2          NaN  ...                     0.0   \n",
       "19          76.00     8          NaN  ...                     0.0   \n",
       "\n",
       "    расстояние до ближайшего водоёма  \\\n",
       "0                              755.0   \n",
       "1                                NaN   \n",
       "2                              574.0   \n",
       "3                              234.0   \n",
       "4                               48.0   \n",
       "5                                NaN   \n",
       "6                                NaN   \n",
       "7                                NaN   \n",
       "8                                NaN   \n",
       "9                                NaN   \n",
       "10                             553.0   \n",
       "11                               NaN   \n",
       "12                               NaN   \n",
       "13                             298.0   \n",
       "14                              96.0   \n",
       "15                             296.0   \n",
       "16                               NaN   \n",
       "17                             859.0   \n",
       "18                               NaN   \n",
       "19                               NaN   \n",
       "\n",
       "    размещено объявление (от публикации до снятия)  один квадратный метр  \\\n",
       "0                                              NaN         120370.370370   \n",
       "1                                             81.0          82920.792079   \n",
       "2                                            558.0          92785.714286   \n",
       "3                                            424.0         408176.100629   \n",
       "4                                            121.0         100000.000000   \n",
       "5                                             55.0          95065.789474   \n",
       "6                                            155.0          99195.710456   \n",
       "7                                              NaN         110544.692737   \n",
       "8                                            189.0          87454.764777   \n",
       "9                                            289.0          88524.590164   \n",
       "10                                           137.0         127525.252525   \n",
       "11                                             7.0          75000.000000   \n",
       "12                                            90.0          72037.037037   \n",
       "13                                           366.0          82943.925234   \n",
       "14                                           203.0         122222.222222   \n",
       "15                                            19.0         119230.769231   \n",
       "16                                           397.0          81707.317073   \n",
       "17                                           571.0         116111.111111   \n",
       "18                                           168.0         104838.709677   \n",
       "19                                            97.0         117355.371901   \n",
       "\n",
       "   день публикации  месяц публикации  год публикации  \\\n",
       "0                3                 3            2019   \n",
       "1                1                12            2018   \n",
       "2                3                 8            2015   \n",
       "3                4                 7            2015   \n",
       "4                1                 6            2018   \n",
       "5                0                 9            2018   \n",
       "6                3                11            2017   \n",
       "7                3                 4            2019   \n",
       "8                2                 5            2018   \n",
       "9                6                 2            2017   \n",
       "10               3                11            2017   \n",
       "11               0                 8            2018   \n",
       "12               3                 6            2016   \n",
       "13               5                 7            2017   \n",
       "14               3                 6            2016   \n",
       "15               5                11            2017   \n",
       "16               3                11            2017   \n",
       "17               4                 9            2016   \n",
       "18               4                 1            2017   \n",
       "19               2                 1            2019   \n",
       "\n",
       "    расстояние до центра города в км  день_публикации  тип_этажа  \n",
       "0                             16.028                3     другой  \n",
       "1                             18.603                1     первый  \n",
       "2                             13.933                3     другой  \n",
       "3                              6.800                4     другой  \n",
       "4                              8.098                1     другой  \n",
       "5                                NaN                0     другой  \n",
       "6                             19.143                3     другой  \n",
       "7                             11.634                3     другой  \n",
       "8                                NaN                2     другой  \n",
       "9                             15.008                6     другой  \n",
       "10                            13.878                3     другой  \n",
       "11                            51.677                0     другой  \n",
       "12                               NaN                3  последний  \n",
       "13                            33.058                5  последний  \n",
       "14                            30.759                3     первый  \n",
       "15                            14.259                5     другой  \n",
       "16                            10.698                3     первый  \n",
       "17                            14.616                4     другой  \n",
       "18                            10.842                4     другой  \n",
       "19                            12.843                2     другой  \n",
       "\n",
       "[20 rows x 29 columns]"
      ]
     },
     "execution_count": 14,
     "metadata": {},
     "output_type": "execute_result"
    }
   ],
   "source": [
    "# цена 1 квадратного метра\n",
    "data['один квадратный метр'] = data['цена на момент снятия с публикации'] / data['общая площадь']\n",
    "# день публикации  (0 - понедельник, 1 - вторник ..)\n",
    "data['день публикации'] = data['дата публикации'].dt.dayofweek\n",
    "# месяц публикации \n",
    "data['месяц публикации'] = data['дата публикации'].dt.month\n",
    "# год публикации\n",
    "data['год публикации'] = data['дата публикации'].dt.year\n",
    "#расстояние до центра города в километрах (переведите из м в км и округлите до целых значений).\n",
    "data['расстояние до центра города в км'] = data['расстояние до центра города'] / 1000\n",
    "round(data['расстояние до центра города в км'])\n",
    "\n",
    "#день публикации объявления (0 - понедельник, 1 - вторник и т.д.)\n",
    "data['день_публикации'] = data['дата публикации'].dt.dayofweek\n",
    "\n",
    "#тип этажа квартиры (значения — «первый», «последний», «другой»)\n",
    "\n",
    "def тип_этажа(этаж):\n",
    "    if этаж ['этаж'] == 1:\n",
    "        return 'первый'\n",
    "    elif этаж ['этаж'] == этаж ['этажей в доме']:\n",
    "        return 'последний'\n",
    "    else:\n",
    "        return 'другой'\n",
    "data['тип_этажа'] = data.apply(тип_этажа,axis = 1)\n",
    "\n",
    "data.head(20)"
   ]
  },
  {
   "cell_type": "markdown",
   "metadata": {},
   "source": [
    "*Исследовательский анализ данных*\n",
    "\n",
    "Построили гистограммы для:\n",
    "\n",
    "1 \n",
    "общая площадь;\n",
    "Наблюдаем очень малое количество квартир с общей площадью более 100 кв.м\n",
    "\n",
    "2 \n",
    "жилая площадь;\n",
    "Наблюдаем два пика - на 18 кв.м. и на 30 кв.м.  есть явный провал около 24 кв.м.\n",
    "\n",
    "3-4 \n",
    "площадь кухни;\n",
    "кухни в основном до 15 кв.м, большой пик на 6 кв.м.\n",
    "\n",
    "5-6 \n",
    "цена объекта;\n",
    "в основном равномерно\n",
    "\n",
    "7-8 \n",
    "количество комнат;\n",
    "1-4 комнатные квртиры преобладают, что логично \n",
    "\n",
    "9-10\n",
    "высота потолков;\n",
    "от 2.5м - 3м основные показатели\n",
    "\n",
    "11-12\n",
    "этаж квартиры;\n",
    "Больше всего квартир с 1 по 5 этаж. Питер не город небоскрёбов\n",
    "\n",
    "13-14 \n",
    "общее количество этажей в доме;\n",
    "2х - 5ти этажные здания \n",
    "\n",
    "\n",
    "15-16    \n",
    "расстояние до центра города в метрах;\n",
    "от 10 км. до 20 км. Так же есть всплески на 30 км. и 5 км.\n",
    "\n",
    "17-18\n",
    "расстояние до ближайшего аэропорта;\n",
    "Здесь видим довольно \"шумный\" график. 10-60 км\n",
    "\n",
    "19-20\n",
    "расстояние до ближайшего парка;\n",
    "Судя по графику больше всего квартир с парками на расстоянии до 700м.\n",
    "\n",
    "21-22\n",
    "день и месяц публикации объявления.\n",
    "\n",
    "Видим провал в публикации объявлений в субботу и воскресенье, что логично.\n",
    "23-24\n",
    "апрель-август-октябрь месяцы активности \n",
    "\n",
    "\n",
    "тип этажа квартиры («первый», «последний», «другой») в этом случае используем тип bar;\n",
    "Больше всего квартир на \"другом\" этаже и это логично. Первых и последних этажей одинакого мало.\n",
    "\n",
    "25 \n",
    "продажа осуществлялась в основном до 200 дней - быстрые продажи\n",
    "больше года - затяжные \n",
    "\n",
    "26\n",
    "тип этажа квартиры («первый», «последний», «другой»);\n",
    "Больше всего квартир на \"другом\" этаже и это логично. Первых и последних этажей мало.\n",
    "\n",
    "\n",
    "Ожидаемо самая дорогая недвижимость в Санкт-Петербурге.\n",
    "В ТОП-10 входят ближайшие к Санкт-Петербургу города.\n"
   ]
  },
  {
   "cell_type": "code",
   "execution_count": 15,
   "metadata": {},
   "outputs": [
    {
     "data": {
      "text/plain": [
       "Text(0, 0.5, 'Количество квартир')"
      ]
     },
     "execution_count": 15,
     "metadata": {},
     "output_type": "execute_result"
    },
    {
     "data": {
      "image/png": "[encoded data removed]",
      "text/plain": [
       "<Figure size 432x288 with 1 Axes>"
      ]
     },
     "metadata": {
      "needs_background": "light"
     },
     "output_type": "display_data"
    }
   ],
   "source": [
    "#1 \n",
    "import matplotlib.pyplot as plt \n",
    "data['общая площадь'].hist(range=(0, 300), bins=50)\n",
    "plt.title('общая площадь')\n",
    "plt.xlabel('Метры')\n",
    "plt.ylabel('Количество квартир')"
   ]
  },
  {
   "cell_type": "code",
   "execution_count": 16,
   "metadata": {},
   "outputs": [
    {
     "data": {
      "text/plain": [
       "Text(0, 0.5, 'Количество квартир')"
      ]
     },
     "execution_count": 16,
     "metadata": {},
     "output_type": "execute_result"
    },
    {
     "data": {
      "image/png": "[encoded data removed]",
      "text/plain": [
       "<Figure size 432x288 with 1 Axes>"
      ]
     },
     "metadata": {
      "needs_background": "light"
     },
     "output_type": "display_data"
    }
   ],
   "source": [
    "#2 \n",
    "data['жилая площадь'].hist(range=(0, 200), bins=50)\n",
    "plt.title('жилая площадь')\n",
    "plt.xlabel('Метры')\n",
    "plt.ylabel('Количество квартир')"
   ]
  },
  {
   "cell_type": "code",
   "execution_count": 17,
   "metadata": {
    "scrolled": false
   },
   "outputs": [
    {
     "data": {
      "text/plain": [
       "Text(0, 0.5, 'Количество квартир')"
      ]
     },
     "execution_count": 17,
     "metadata": {},
     "output_type": "execute_result"
    },
    {
     "data": {
      "image/png": "[encoded data removed]",
      "text/plain": [
       "<Figure size 432x288 with 1 Axes>"
      ]
     },
     "metadata": {
      "needs_background": "light"
     },
     "output_type": "display_data"
    }
   ],
   "source": [
    "#3 \n",
    "data.hist('площадь кухни', bins=50);\n",
    "plt.title('площадь кухни')\n",
    "plt.xlabel('Метры')\n",
    "plt.ylabel('Количество квартир')"
   ]
  },
  {
   "cell_type": "code",
   "execution_count": 18,
   "metadata": {},
   "outputs": [
    {
     "data": {
      "text/plain": [
       "Text(0, 0.5, 'Количество квартир')"
      ]
     },
     "execution_count": 18,
     "metadata": {},
     "output_type": "execute_result"
    },
    {
     "data": {
      "image/png": "[encoded data removed]",
      "text/plain": [
       "<Figure size 432x288 with 1 Axes>"
      ]
     },
     "metadata": {
      "needs_background": "light"
     },
     "output_type": "display_data"
    }
   ],
   "source": [
    "#4\n",
    "data['площадь кухни'].hist(range=(0, 60), bins=50)\n",
    "plt.title('площадь кухни')\n",
    "plt.xlabel('Метры')\n",
    "plt.ylabel('Количество квартир')"
   ]
  },
  {
   "cell_type": "code",
   "execution_count": 19,
   "metadata": {},
   "outputs": [
    {
     "data": {
      "text/plain": [
       "Text(0, 0.5, 'Количество квартир')"
      ]
     },
     "execution_count": 19,
     "metadata": {},
     "output_type": "execute_result"
    },
    {
     "data": {
      "image/png": "[encoded data removed]",
      "text/plain": [
       "<Figure size 432x288 with 1 Axes>"
      ]
     },
     "metadata": {
      "needs_background": "light"
     },
     "output_type": "display_data"
    }
   ],
   "source": [
    "#5\n",
    "data.hist('цена на момент снятия с публикации', bins=10);\n",
    "plt.title('цена на момент снятия с публикации')\n",
    "plt.xlabel('цена')\n",
    "plt.ylabel('Количество квартир')"
   ]
  },
  {
   "cell_type": "code",
   "execution_count": 20,
   "metadata": {},
   "outputs": [
    {
     "data": {
      "text/plain": [
       "Text(0, 0.5, 'Количество квартир')"
      ]
     },
     "execution_count": 20,
     "metadata": {},
     "output_type": "execute_result"
    },
    {
     "data": {
      "image/png": "[encoded data removed]",
      "text/plain": [
       "<Figure size 432x288 with 1 Axes>"
      ]
     },
     "metadata": {
      "needs_background": "light"
     },
     "output_type": "display_data"
    }
   ],
   "source": [
    "#6 \n",
    "data['цена на момент снятия с публикации'].hist()\n",
    "plt.title('цена на момент снятия с публикации')\n",
    "plt.xlabel('цена')\n",
    "plt.ylabel('Количество квартир')"
   ]
  },
  {
   "cell_type": "code",
   "execution_count": 21,
   "metadata": {
    "scrolled": true
   },
   "outputs": [
    {
     "data": {
      "text/plain": [
       "Text(0, 0.5, 'Количество квартир')"
      ]
     },
     "execution_count": 21,
     "metadata": {},
     "output_type": "execute_result"
    },
    {
     "data": {
      "image/png": "[encoded data removed]",
      "text/plain": [
       "<Figure size 432x288 with 1 Axes>"
      ]
     },
     "metadata": {
      "needs_background": "light"
     },
     "output_type": "display_data"
    }
   ],
   "source": [
    "#7 \n",
    "data.hist('число комнат', bins=5);\n",
    "plt.title('число комнат')\n",
    "plt.xlabel('число комнат')\n",
    "plt.ylabel('Количество квартир')"
   ]
  },
  {
   "cell_type": "code",
   "execution_count": 22,
   "metadata": {},
   "outputs": [
    {
     "data": {
      "text/plain": [
       "Text(0, 0.5, 'Количество квартир')"
      ]
     },
     "execution_count": 22,
     "metadata": {},
     "output_type": "execute_result"
    },
    {
     "data": {
      "image/png": "[encoded data removed]",
      "text/plain": [
       "<Figure size 432x288 with 1 Axes>"
      ]
     },
     "metadata": {
      "needs_background": "light"
     },
     "output_type": "display_data"
    }
   ],
   "source": [
    "#8 \n",
    "data['число комнат'].hist(range=(0, 10), bins=10)\n",
    "plt.title('число комнат')\n",
    "plt.xlabel('число комнат')\n",
    "plt.ylabel('Количество квартир')"
   ]
  },
  {
   "cell_type": "code",
   "execution_count": 23,
   "metadata": {},
   "outputs": [
    {
     "data": {
      "text/plain": [
       "Text(0, 0.5, 'Количество квартир')"
      ]
     },
     "execution_count": 23,
     "metadata": {},
     "output_type": "execute_result"
    },
    {
     "data": {
      "image/png": "[encoded data removed]",
      "text/plain": [
       "<Figure size 432x288 with 1 Axes>"
      ]
     },
     "metadata": {
      "needs_background": "light"
     },
     "output_type": "display_data"
    }
   ],
   "source": [
    "#9 \n",
    "data.hist('высота потолков', bins=50);\n",
    "plt.title('высота потолков')\n",
    "plt.xlabel('метры')\n",
    "plt.ylabel('Количество квартир')"
   ]
  },
  {
   "cell_type": "code",
   "execution_count": 24,
   "metadata": {},
   "outputs": [
    {
     "data": {
      "text/plain": [
       "Text(0, 0.5, 'Количество квартир')"
      ]
     },
     "execution_count": 24,
     "metadata": {},
     "output_type": "execute_result"
    },
    {
     "data": {
      "image/png": "[encoded data removed]",
      "text/plain": [
       "<Figure size 432x288 with 1 Axes>"
      ]
     },
     "metadata": {
      "needs_background": "light"
     },
     "output_type": "display_data"
    }
   ],
   "source": [
    "#10 \n",
    "data['высота потолков'].hist(range=(2, 5), bins=20)\n",
    "plt.title('высота потолков')\n",
    "plt.xlabel('метры')\n",
    "plt.ylabel('Количество квартир')"
   ]
  },
  {
   "cell_type": "code",
   "execution_count": 25,
   "metadata": {
    "scrolled": true
   },
   "outputs": [
    {
     "data": {
      "text/plain": [
       "Text(0, 0.5, 'Количество квартир')"
      ]
     },
     "execution_count": 25,
     "metadata": {},
     "output_type": "execute_result"
    },
    {
     "data": {
      "image/png": "[encoded data removed]",
      "text/plain": [
       "<Figure size 432x288 with 1 Axes>"
      ]
     },
     "metadata": {
      "needs_background": "light"
     },
     "output_type": "display_data"
    }
   ],
   "source": [
    "#11 \n",
    "data.hist('этаж', bins=100);\n",
    "plt.title('этаж')\n",
    "plt.xlabel('номер')\n",
    "plt.ylabel('Количество квартир')"
   ]
  },
  {
   "cell_type": "code",
   "execution_count": 26,
   "metadata": {},
   "outputs": [
    {
     "data": {
      "text/plain": [
       "Text(0, 0.5, 'Количество квартир')"
      ]
     },
     "execution_count": 26,
     "metadata": {},
     "output_type": "execute_result"
    },
    {
     "data": {
      "image/png": "[encoded data removed]",
      "text/plain": [
       "<Figure size 432x288 with 1 Axes>"
      ]
     },
     "metadata": {
      "needs_background": "light"
     },
     "output_type": "display_data"
    }
   ],
   "source": [
    "#12 \n",
    "data['этаж'].hist(range=(1, 30), bins=20) \n",
    "plt.title('этаж')\n",
    "plt.xlabel('номер')\n",
    "plt.ylabel('Количество квартир')"
   ]
  },
  {
   "cell_type": "code",
   "execution_count": 27,
   "metadata": {},
   "outputs": [
    {
     "data": {
      "text/plain": [
       "Text(0, 0.5, 'Количество квартир')"
      ]
     },
     "execution_count": 27,
     "metadata": {},
     "output_type": "execute_result"
    },
    {
     "data": {
      "image/png": "[encoded data removed]",
      "text/plain": [
       "<Figure size 432x288 with 1 Axes>"
      ]
     },
     "metadata": {
      "needs_background": "light"
     },
     "output_type": "display_data"
    }
   ],
   "source": [
    "#13\n",
    "data.hist('этажей в доме', bins=100);\n",
    "plt.title('этажей в доме')\n",
    "plt.xlabel('число этажей')\n",
    "plt.ylabel('Количество квартир')"
   ]
  },
  {
   "cell_type": "code",
   "execution_count": 28,
   "metadata": {
    "scrolled": false
   },
   "outputs": [
    {
     "data": {
      "text/plain": [
       "Text(0, 0.5, 'Количество квартир')"
      ]
     },
     "execution_count": 28,
     "metadata": {},
     "output_type": "execute_result"
    },
    {
     "data": {
      "image/png": "[encoded data removed]",
      "text/plain": [
       "<Figure size 432x288 with 1 Axes>"
      ]
     },
     "metadata": {
      "needs_background": "light"
     },
     "output_type": "display_data"
    },
    {
     "data": {
      "image/png": "[encoded data removed]",
      "text/plain": [
       "<Figure size 432x288 with 1 Axes>"
      ]
     },
     "metadata": {
      "needs_background": "light"
     },
     "output_type": "display_data"
    }
   ],
   "source": [
    "#14 \n",
    "data['этажей в доме'].hist(range=(1, 40), bins=20)\n",
    "data.hist('этажей в доме', bins=100);\n",
    "plt.title('этажей в доме')\n",
    "plt.xlabel('число этажей')\n",
    "plt.ylabel('Количество квартир')"
   ]
  },
  {
   "cell_type": "code",
   "execution_count": 29,
   "metadata": {},
   "outputs": [
    {
     "data": {
      "text/plain": [
       "Text(0, 0.5, 'Количество квартир')"
      ]
     },
     "execution_count": 29,
     "metadata": {},
     "output_type": "execute_result"
    },
    {
     "data": {
      "image/png": "[encoded data removed]",
      "text/plain": [
       "<Figure size 432x288 with 1 Axes>"
      ]
     },
     "metadata": {
      "needs_background": "light"
     },
     "output_type": "display_data"
    }
   ],
   "source": [
    "#15 \n",
    "data.hist('расстояние до центра города', bins=100);\n",
    "plt.title('расстояние до центра города')\n",
    "plt.xlabel('метры')\n",
    "plt.ylabel('Количество квартир')"
   ]
  },
  {
   "cell_type": "code",
   "execution_count": 30,
   "metadata": {},
   "outputs": [
    {
     "data": {
      "text/plain": [
       "Text(0, 0.5, 'Количество квартир')"
      ]
     },
     "execution_count": 30,
     "metadata": {},
     "output_type": "execute_result"
    },
    {
     "data": {
      "image/png": "[encoded data removed]",
      "text/plain": [
       "<Figure size 432x288 with 1 Axes>"
      ]
     },
     "metadata": {
      "needs_background": "light"
     },
     "output_type": "display_data"
    }
   ],
   "source": [
    "#16 \n",
    "data['расстояние до центра города'].hist(bins=50)\n",
    "plt.title('расстояние до центра города')\n",
    "plt.xlabel('метры')\n",
    "plt.ylabel('Количество квартир')"
   ]
  },
  {
   "cell_type": "code",
   "execution_count": 31,
   "metadata": {},
   "outputs": [
    {
     "data": {
      "text/plain": [
       "Text(0, 0.5, 'Количество квартир')"
      ]
     },
     "execution_count": 31,
     "metadata": {},
     "output_type": "execute_result"
    },
    {
     "data": {
      "image/png": "[encoded data removed]",
      "text/plain": [
       "<Figure size 432x288 with 1 Axes>"
      ]
     },
     "metadata": {
      "needs_background": "light"
     },
     "output_type": "display_data"
    }
   ],
   "source": [
    "#17 \n",
    "data.hist('расстояние до аэропорта', bins=100);\n",
    "plt.title('Расстояние до аэропорта')\n",
    "plt.xlabel('Метры')\n",
    "plt.ylabel('Количество квартир')"
   ]
  },
  {
   "cell_type": "code",
   "execution_count": 32,
   "metadata": {
    "scrolled": true
   },
   "outputs": [
    {
     "data": {
      "text/plain": [
       "Text(0, 0.5, 'Количество квартир')"
      ]
     },
     "execution_count": 32,
     "metadata": {},
     "output_type": "execute_result"
    },
    {
     "data": {
      "image/png": "[encoded data removed]",
      "text/plain": [
       "<Figure size 432x288 with 1 Axes>"
      ]
     },
     "metadata": {
      "needs_background": "light"
     },
     "output_type": "display_data"
    }
   ],
   "source": [
    "#18 \n",
    "data['расстояние до аэропорта'].hist(bins=100)\n",
    "plt.title('Расстояние до аэропорта')\n",
    "plt.xlabel('Метры')\n",
    "plt.ylabel('Количество квартир')"
   ]
  },
  {
   "cell_type": "code",
   "execution_count": 33,
   "metadata": {},
   "outputs": [
    {
     "data": {
      "text/plain": [
       "Text(0, 0.5, 'Количество квартир')"
      ]
     },
     "execution_count": 33,
     "metadata": {},
     "output_type": "execute_result"
    },
    {
     "data": {
      "image/png": "[encoded data removed]",
      "text/plain": [
       "<Figure size 432x288 with 1 Axes>"
      ]
     },
     "metadata": {
      "needs_background": "light"
     },
     "output_type": "display_data"
    }
   ],
   "source": [
    "#19 \n",
    "data.hist('расстояние до парка', bins=100);\n",
    "plt.title('Расстояние до парка')\n",
    "plt.xlabel('Метры')\n",
    "plt.ylabel('Количество квартир')"
   ]
  },
  {
   "cell_type": "code",
   "execution_count": 34,
   "metadata": {},
   "outputs": [
    {
     "data": {
      "text/plain": [
       "Text(0, 0.5, 'Количество квартир')"
      ]
     },
     "execution_count": 34,
     "metadata": {},
     "output_type": "execute_result"
    },
    {
     "data": {
      "image/png": "[encoded data removed]",
      "text/plain": [
       "<Figure size 432x288 with 1 Axes>"
      ]
     },
     "metadata": {
      "needs_background": "light"
     },
     "output_type": "display_data"
    }
   ],
   "source": [
    "#20 \n",
    "data['расстояние до парка'].hist(bins=100)\n",
    "plt.title('Расстояние до парка')\n",
    "plt.xlabel('Метры')\n",
    "plt.ylabel('Количество квартир')"
   ]
  },
  {
   "cell_type": "code",
   "execution_count": 35,
   "metadata": {},
   "outputs": [
    {
     "data": {
      "text/plain": [
       "Text(0, 0.5, 'Количество квартир')"
      ]
     },
     "execution_count": 35,
     "metadata": {},
     "output_type": "execute_result"
    },
    {
     "data": {
      "image/png": "[encoded data removed]",
      "text/plain": [
       "<Figure size 432x288 with 1 Axes>"
      ]
     },
     "metadata": {
      "needs_background": "light"
     },
     "output_type": "display_data"
    }
   ],
   "source": [
    "#21 \n",
    "data.hist('день публикации');\n",
    "plt.title('день публикации')\n",
    "plt.xlabel('день недели')\n",
    "plt.ylabel('Количество квартир')"
   ]
  },
  {
   "cell_type": "code",
   "execution_count": 36,
   "metadata": {
    "scrolled": true
   },
   "outputs": [
    {
     "data": {
      "text/plain": [
       "Text(0, 0.5, 'Количество квартир')"
      ]
     },
     "execution_count": 36,
     "metadata": {},
     "output_type": "execute_result"
    },
    {
     "data": {
      "image/png": "[encoded data removed]",
      "text/plain": [
       "<Figure size 432x288 with 1 Axes>"
      ]
     },
     "metadata": {
      "needs_background": "light"
     },
     "output_type": "display_data"
    }
   ],
   "source": [
    "#22 \n",
    "data['день публикации'].hist(range=(0, 10), bins=10)\n",
    "plt.title('день публикации')\n",
    "plt.xlabel('день недели')\n",
    "plt.ylabel('Количество квартир')"
   ]
  },
  {
   "cell_type": "code",
   "execution_count": 37,
   "metadata": {},
   "outputs": [
    {
     "data": {
      "text/plain": [
       "Text(0, 0.5, 'Количество квартир')"
      ]
     },
     "execution_count": 37,
     "metadata": {},
     "output_type": "execute_result"
    },
    {
     "data": {
      "image/png": "[encoded data removed]",
      "text/plain": [
       "<Figure size 432x288 with 1 Axes>"
      ]
     },
     "metadata": {
      "needs_background": "light"
     },
     "output_type": "display_data"
    }
   ],
   "source": [
    "#23 \n",
    "data.hist('месяц публикации');\n",
    "plt.title('месяц публикации')\n",
    "plt.xlabel('месяц')\n",
    "plt.ylabel('Количество квартир')"
   ]
  },
  {
   "cell_type": "code",
   "execution_count": 38,
   "metadata": {},
   "outputs": [
    {
     "data": {
      "text/plain": [
       "Text(0, 0.5, 'Количество квартир')"
      ]
     },
     "execution_count": 38,
     "metadata": {},
     "output_type": "execute_result"
    },
    {
     "data": {
      "image/png": "[encoded data removed]",
      "text/plain": [
       "<Figure size 432x288 with 1 Axes>"
      ]
     },
     "metadata": {
      "needs_background": "light"
     },
     "output_type": "display_data"
    }
   ],
   "source": [
    "#24 \n",
    "data['месяц публикации'].hist(range=(0, 15), bins=10)\n",
    "plt.title('месяц публикации')\n",
    "plt.xlabel('месяц')\n",
    "plt.ylabel('Количество квартир')"
   ]
  },
  {
   "cell_type": "code",
   "execution_count": 39,
   "metadata": {},
   "outputs": [
    {
     "data": {
      "text/plain": [
       "Text(0, 0.5, 'Количество квартир')"
      ]
     },
     "execution_count": 39,
     "metadata": {},
     "output_type": "execute_result"
    },
    {
     "data": {
      "image/png": "[encoded data removed]",
      "text/plain": [
       "<Figure size 432x288 with 1 Axes>"
      ]
     },
     "metadata": {
      "needs_background": "light"
     },
     "output_type": "display_data"
    }
   ],
   "source": [
    "data.hist('размещено объявление (от публикации до снятия)')\n",
    "plt.title('размещено объявление (от публикации до снятия)')\n",
    "plt.xlabel('количество дней')\n",
    "plt.ylabel('Количество квартир')"
   ]
  },
  {
   "cell_type": "code",
   "execution_count": 40,
   "metadata": {},
   "outputs": [
    {
     "data": {
      "text/plain": [
       "Text(0, 0.5, 'Количество квартир')"
      ]
     },
     "execution_count": 40,
     "metadata": {},
     "output_type": "execute_result"
    },
    {
     "data": {
      "image/png": "[encoded data removed]",
      "text/plain": [
       "<Figure size 432x288 with 1 Axes>"
      ]
     },
     "metadata": {
      "needs_background": "light"
     },
     "output_type": "display_data"
    }
   ],
   "source": [
    "#26\n",
    "data['тип_этажа'].hist(range=(0, 5), bins=10)\n",
    "plt.title('тип_этажа')\n",
    "plt.xlabel('тип_этажа')\n",
    "plt.ylabel('Количество квартир')"
   ]
  },
  {
   "cell_type": "markdown",
   "metadata": {},
   "source": [
    "Населённые пункты с самой высокой и низкой стоимостью квадратного метра:\n",
    "\n",
    "санкт-петербург\t15721\n",
    "\n",
    "выборг\t237\t58158.319871\n"
   ]
  },
  {
   "cell_type": "code",
   "execution_count": 41,
   "metadata": {},
   "outputs": [
    {
     "data": {
      "text/html": [
       "<div>\n",
       "<style scoped>\n",
       "    .dataframe tbody tr th:only-of-type {\n",
       "        vertical-align: middle;\n",
       "    }\n",
       "\n",
       "    .dataframe tbody tr th {\n",
       "        vertical-align: top;\n",
       "    }\n",
       "\n",
       "    .dataframe thead th {\n",
       "        text-align: right;\n",
       "    }\n",
       "</style>\n",
       "<table border=\"1\" class=\"dataframe\">\n",
       "  <thead>\n",
       "    <tr style=\"text-align: right;\">\n",
       "      <th></th>\n",
       "      <th>count</th>\n",
       "      <th>median</th>\n",
       "    </tr>\n",
       "    <tr>\n",
       "      <th>название населённого пункта</th>\n",
       "      <th></th>\n",
       "      <th></th>\n",
       "    </tr>\n",
       "  </thead>\n",
       "  <tbody>\n",
       "    <tr>\n",
       "      <th>санкт-петербург</th>\n",
       "      <td>15721</td>\n",
       "      <td>104761.904762</td>\n",
       "    </tr>\n",
       "    <tr>\n",
       "      <th>пушкин</th>\n",
       "      <td>369</td>\n",
       "      <td>100000.000000</td>\n",
       "    </tr>\n",
       "    <tr>\n",
       "      <th>деревня кудрово</th>\n",
       "      <td>299</td>\n",
       "      <td>91860.465116</td>\n",
       "    </tr>\n",
       "    <tr>\n",
       "      <th>поселок парголово</th>\n",
       "      <td>327</td>\n",
       "      <td>91642.857143</td>\n",
       "    </tr>\n",
       "    <tr>\n",
       "      <th>поселок мурино</th>\n",
       "      <td>556</td>\n",
       "      <td>85878.462169</td>\n",
       "    </tr>\n",
       "    <tr>\n",
       "      <th>поселок шушары</th>\n",
       "      <td>440</td>\n",
       "      <td>76876.172608</td>\n",
       "    </tr>\n",
       "    <tr>\n",
       "      <th>колпино</th>\n",
       "      <td>338</td>\n",
       "      <td>74723.748474</td>\n",
       "    </tr>\n",
       "    <tr>\n",
       "      <th>гатчина</th>\n",
       "      <td>307</td>\n",
       "      <td>67796.610169</td>\n",
       "    </tr>\n",
       "    <tr>\n",
       "      <th>всеволожск</th>\n",
       "      <td>398</td>\n",
       "      <td>65789.473684</td>\n",
       "    </tr>\n",
       "    <tr>\n",
       "      <th>выборг</th>\n",
       "      <td>237</td>\n",
       "      <td>58158.319871</td>\n",
       "    </tr>\n",
       "  </tbody>\n",
       "</table>\n",
       "</div>"
      ],
      "text/plain": [
       "                             count         median\n",
       "название населённого пункта                      \n",
       "санкт-петербург              15721  104761.904762\n",
       "пушкин                         369  100000.000000\n",
       "деревня кудрово                299   91860.465116\n",
       "поселок парголово              327   91642.857143\n",
       "поселок мурино                 556   85878.462169\n",
       "поселок шушары                 440   76876.172608\n",
       "колпино                        338   74723.748474\n",
       "гатчина                        307   67796.610169\n",
       "всеволожск                     398   65789.473684\n",
       "выборг                         237   58158.319871"
      ]
     },
     "execution_count": 41,
     "metadata": {},
     "output_type": "execute_result"
    }
   ],
   "source": [
    "data.pivot_table(index='название населённого пункта', values='один квадратный метр', aggfunc={'median','count'}).sort_values(by='count', ascending=False).head(10).sort_values(by='median',ascending=False)"
   ]
  },
  {
   "cell_type": "code",
   "execution_count": 62,
   "metadata": {
    "scrolled": true
   },
   "outputs": [
    {
     "name": "stdout",
     "output_type": "stream",
     "text": [
      "<class 'pandas.core.frame.DataFrame'>\n",
      "RangeIndex: 23699 entries, 0 to 23698\n",
      "Data columns (total 29 columns):\n",
      " #   Column                                          Non-Null Count  Dtype         \n",
      "---  ------                                          --------------  -----         \n",
      " 0   число фотографий                                23699 non-null  int64         \n",
      " 1   цена на момент снятия с публикации              23699 non-null  float64       \n",
      " 2   общая площадь                                   23699 non-null  float64       \n",
      " 3   дата публикации                                 23699 non-null  datetime64[ns]\n",
      " 4   число комнат                                    23699 non-null  int64         \n",
      " 5   высота потолков                                 14504 non-null  float64       \n",
      " 6   этажей в доме                                   23613 non-null  float64       \n",
      " 7   жилая площадь                                   21796 non-null  float64       \n",
      " 8   этаж                                            23699 non-null  int64         \n",
      " 9   апартаменты                                     2775 non-null   float64       \n",
      " 10  квартира-студия                                 23699 non-null  bool          \n",
      " 11  свободная планировка                            23699 non-null  bool          \n",
      " 12  площадь кухни                                   21421 non-null  float64       \n",
      " 13  число балконов                                  23699 non-null  float64       \n",
      " 14  название населённого пункта                     23650 non-null  object        \n",
      " 15  расстояние до аэропорта                         18157 non-null  float64       \n",
      " 16  расстояние до центра города                     18180 non-null  float64       \n",
      " 17  парки в радиусе 3 км                            18181 non-null  float64       \n",
      " 18  расстояние до парка                             8079 non-null   float64       \n",
      " 19  водоёмы в радиусе 3 км                          18181 non-null  float64       \n",
      " 20  расстояние до ближайшего водоёма                9110 non-null   float64       \n",
      " 21  размещено объявление (от публикации до снятия)  20518 non-null  float64       \n",
      " 22  один квадратный метр                            23699 non-null  float64       \n",
      " 23  день публикации                                 23699 non-null  int64         \n",
      " 24  месяц публикации                                23699 non-null  int64         \n",
      " 25  год публикации                                  23699 non-null  int64         \n",
      " 26  расстояние до центра города в км                23699 non-null  int64         \n",
      " 27  день_публикации                                 23699 non-null  int64         \n",
      " 28  тип_этажа                                       23699 non-null  object        \n",
      "dtypes: bool(2), datetime64[ns](1), float64(16), int64(8), object(2)\n",
      "memory usage: 4.9+ MB\n"
     ]
    }
   ],
   "source": [
    "data['расстояние до центра города в км'] = data['расстояние до центра города в км'].fillna(0)\n",
    "data['расстояние до центра города в км'] = data['расстояние до центра города в км'].astype(int) \n",
    "data.info()"
   ]
  },
  {
   "cell_type": "code",
   "execution_count": 63,
   "metadata": {},
   "outputs": [
    {
     "data": {
      "text/plain": [
       "<AxesSubplot:xlabel='расстояние до центра города в км'>"
      ]
     },
     "execution_count": 63,
     "metadata": {},
     "output_type": "execute_result"
    },
    {
     "data": {
      "image/png": "[encoded data removed]",
      "text/plain": [
       "<Figure size 432x288 with 1 Axes>"
      ]
     },
     "metadata": {
      "needs_background": "light"
     },
     "output_type": "display_data"
    }
   ],
   "source": [
    "data[data['название населённого пункта']=='санкт-петербург'].pivot_table(index='расстояние до центра города в км',\n",
    "                                                                         values='цена на момент снятия с публикации',\n",
    "                                                                         aggfunc='mean').plot(kind='bar')"
   ]
  },
  {
   "cell_type": "markdown",
   "metadata": {},
   "source": [
    "**Общий вывод**\n",
    "\n",
    "Для определения рыночной стоимости объектов недвижимости важны следующие параметры:\n",
    "\n",
    "* общая площадь квартиры (аномальные значения: более 114,25 кв. м)\n",
    "\n",
    "* расстояние до центра города (центр города огранчен окружностью радиусом 8 км)\n",
    "\n",
    "* число комнат и этаж квартиры (чем ближе к центру, тем эти факторы весомее)\n",
    "\n",
    "* срок продажи квартиры (слишком быстрая продажа — до 1 месяца (особенно аномальные сроки меньше 2-х недель), слишком долгая продажа — более 14 месяцев (428 дней))\n",
    "\n",
    "кроме того, необходимо ввести ограничения на ввод данных о высоте потолков: допущено множество ручных ошибок (27 м вместо 2,7 м, потолки менее 2 м и т.д.)."
   ]
  }
 ],
 "metadata": {
  "ExecuteTimeLog": [
   {
    "duration": 568,
    "start_time": "2023-02-20T19:47:03.631Z"
   },
   {
    "duration": 45,
    "start_time": "2023-02-20T19:47:15.551Z"
   },
   {
    "duration": 44,
    "start_time": "2023-02-20T19:47:18.332Z"
   },
   {
    "duration": 527,
    "start_time": "2023-02-20T19:47:26.322Z"
   },
   {
    "duration": 45,
    "start_time": "2023-02-20T19:47:34.466Z"
   },
   {
    "duration": 46,
    "start_time": "2023-02-20T19:47:44.448Z"
   },
   {
    "duration": 329,
    "start_time": "2023-02-20T19:47:49.952Z"
   },
   {
    "duration": 53,
    "start_time": "2023-02-20T19:51:45.259Z"
   },
   {
    "duration": 52,
    "start_time": "2023-02-20T19:51:56.645Z"
   },
   {
    "duration": 52,
    "start_time": "2023-02-20T19:52:17.830Z"
   },
   {
    "duration": 46,
    "start_time": "2023-02-20T19:52:50.327Z"
   },
   {
    "duration": 86,
    "start_time": "2023-02-20T19:54:11.020Z"
   },
   {
    "duration": 91,
    "start_time": "2023-02-20T19:54:14.942Z"
   },
   {
    "duration": 93,
    "start_time": "2023-02-20T19:54:22.588Z"
   },
   {
    "duration": 482,
    "start_time": "2023-02-20T19:55:21.072Z"
   },
   {
    "duration": 64,
    "start_time": "2023-02-20T19:55:21.556Z"
   },
   {
    "duration": 96,
    "start_time": "2023-02-20T19:55:29.349Z"
   },
   {
    "duration": 86,
    "start_time": "2023-02-20T19:56:27.835Z"
   },
   {
    "duration": 91,
    "start_time": "2023-02-20T19:56:43.540Z"
   },
   {
    "duration": 90,
    "start_time": "2023-02-20T19:57:10.423Z"
   },
   {
    "duration": 91,
    "start_time": "2023-02-20T19:57:35.728Z"
   },
   {
    "duration": 94,
    "start_time": "2023-02-20T19:57:55.039Z"
   },
   {
    "duration": 228,
    "start_time": "2023-02-20T19:58:09.312Z"
   },
   {
    "duration": 110,
    "start_time": "2023-02-20T19:59:13.526Z"
   },
   {
    "duration": 1631,
    "start_time": "2023-02-20T19:59:30.716Z"
   },
   {
    "duration": 81,
    "start_time": "2023-02-20T19:59:46.203Z"
   },
   {
    "duration": 76,
    "start_time": "2023-02-20T19:59:50.018Z"
   },
   {
    "duration": 122,
    "start_time": "2023-02-20T20:00:27.068Z"
   },
   {
    "duration": 176,
    "start_time": "2023-02-20T20:00:45.583Z"
   },
   {
    "duration": 134,
    "start_time": "2023-02-20T20:02:23.005Z"
   },
   {
    "duration": 962,
    "start_time": "2023-02-20T20:03:21.161Z"
   },
   {
    "duration": 722,
    "start_time": "2023-02-20T20:09:43.928Z"
   },
   {
    "duration": 699,
    "start_time": "2023-02-20T20:11:57.327Z"
   },
   {
    "duration": 695,
    "start_time": "2023-02-20T20:12:56.677Z"
   },
   {
    "duration": 757,
    "start_time": "2023-02-20T20:13:06.482Z"
   },
   {
    "duration": 232,
    "start_time": "2023-02-20T20:13:45.736Z"
   },
   {
    "duration": 195,
    "start_time": "2023-02-20T20:16:08.888Z"
   },
   {
    "duration": 188,
    "start_time": "2023-02-20T20:18:01.281Z"
   },
   {
    "duration": 1651,
    "start_time": "2023-02-21T15:15:41.336Z"
   },
   {
    "duration": 58,
    "start_time": "2023-02-21T15:17:03.467Z"
   },
   {
    "duration": 83,
    "start_time": "2023-02-21T15:17:16.800Z"
   },
   {
    "duration": 8,
    "start_time": "2023-02-21T15:18:24.041Z"
   },
   {
    "duration": 73,
    "start_time": "2023-02-21T15:18:30.408Z"
   },
   {
    "duration": 67,
    "start_time": "2023-02-21T15:25:44.439Z"
   },
   {
    "duration": 1447,
    "start_time": "2023-02-21T18:38:20.850Z"
   },
   {
    "duration": 79,
    "start_time": "2023-02-21T18:38:22.299Z"
   },
   {
    "duration": 751,
    "start_time": "2023-02-21T18:39:07.405Z"
   },
   {
    "duration": 708,
    "start_time": "2023-02-21T18:39:24.446Z"
   },
   {
    "duration": 77,
    "start_time": "2023-02-21T18:39:29.535Z"
   },
   {
    "duration": 80,
    "start_time": "2023-02-21T18:41:08.880Z"
   },
   {
    "duration": 61,
    "start_time": "2023-02-21T18:47:13.192Z"
   },
   {
    "duration": 82,
    "start_time": "2023-02-21T18:47:21.420Z"
   },
   {
    "duration": 67,
    "start_time": "2023-02-21T18:47:39.474Z"
   },
   {
    "duration": 85,
    "start_time": "2023-02-21T18:48:08.305Z"
   },
   {
    "duration": 103,
    "start_time": "2023-02-21T19:04:20.698Z"
   },
   {
    "duration": 85,
    "start_time": "2023-02-21T19:04:35.467Z"
   },
   {
    "duration": 89,
    "start_time": "2023-02-21T19:04:45.810Z"
   },
   {
    "duration": 97,
    "start_time": "2023-02-21T19:04:54.726Z"
   },
   {
    "duration": 187,
    "start_time": "2023-02-21T19:07:18.777Z"
   },
   {
    "duration": 104,
    "start_time": "2023-02-21T19:07:29.493Z"
   },
   {
    "duration": 92,
    "start_time": "2023-02-21T19:07:48.213Z"
   },
   {
    "duration": 67,
    "start_time": "2023-02-21T19:09:12.230Z"
   },
   {
    "duration": 74,
    "start_time": "2023-02-21T19:20:21.735Z"
   },
   {
    "duration": 109,
    "start_time": "2023-02-21T19:20:32.068Z"
   },
   {
    "duration": 72,
    "start_time": "2023-02-21T19:20:47.096Z"
   },
   {
    "duration": 10967,
    "start_time": "2023-02-21T19:26:30.437Z"
   },
   {
    "duration": 71,
    "start_time": "2023-02-21T19:27:07.429Z"
   },
   {
    "duration": 79,
    "start_time": "2023-02-21T19:27:59.296Z"
   },
   {
    "duration": 87,
    "start_time": "2023-02-21T19:30:13.968Z"
   },
   {
    "duration": 9,
    "start_time": "2023-02-21T19:32:32.111Z"
   },
   {
    "duration": 88,
    "start_time": "2023-02-21T19:32:43.497Z"
   },
   {
    "duration": 94,
    "start_time": "2023-02-21T19:33:19.076Z"
   },
   {
    "duration": 107,
    "start_time": "2023-02-21T19:42:24.570Z"
   },
   {
    "duration": 114,
    "start_time": "2023-02-21T19:42:42.310Z"
   },
   {
    "duration": 94,
    "start_time": "2023-02-21T19:42:53.306Z"
   },
   {
    "duration": 118,
    "start_time": "2023-02-21T19:47:08.816Z"
   },
   {
    "duration": 115,
    "start_time": "2023-02-21T19:53:45.248Z"
   },
   {
    "duration": 144,
    "start_time": "2023-02-21T20:01:16.063Z"
   },
   {
    "duration": 120,
    "start_time": "2023-02-21T20:01:21.056Z"
   },
   {
    "duration": 117,
    "start_time": "2023-02-21T20:13:33.903Z"
   },
   {
    "duration": 142,
    "start_time": "2023-02-21T20:13:47.521Z"
   },
   {
    "duration": 132,
    "start_time": "2023-02-21T20:13:52.817Z"
   },
   {
    "duration": 53,
    "start_time": "2023-02-21T20:19:46.955Z"
   },
   {
    "duration": 58,
    "start_time": "2023-02-21T20:20:44.416Z"
   },
   {
    "duration": 823,
    "start_time": "2023-02-21T20:21:15.698Z"
   },
   {
    "duration": 51,
    "start_time": "2023-02-21T20:22:18.480Z"
   },
   {
    "duration": 53,
    "start_time": "2023-02-21T20:22:30.249Z"
   },
   {
    "duration": 50,
    "start_time": "2023-02-21T20:22:57.011Z"
   },
   {
    "duration": 346,
    "start_time": "2023-02-21T20:24:18.730Z"
   },
   {
    "duration": 135,
    "start_time": "2023-02-21T20:27:29.024Z"
   },
   {
    "duration": 132,
    "start_time": "2023-02-21T20:28:34.956Z"
   },
   {
    "duration": 955,
    "start_time": "2023-02-21T20:28:59.366Z"
   },
   {
    "duration": 157,
    "start_time": "2023-02-21T20:30:30.043Z"
   },
   {
    "duration": 180,
    "start_time": "2023-02-21T20:30:46.614Z"
   },
   {
    "duration": 8,
    "start_time": "2023-02-21T20:40:43.283Z"
   },
   {
    "duration": 126,
    "start_time": "2023-02-21T20:40:47.275Z"
   },
   {
    "duration": 140,
    "start_time": "2023-02-21T20:41:14.728Z"
   },
   {
    "duration": 143,
    "start_time": "2023-02-21T20:42:44.290Z"
   },
   {
    "duration": 162,
    "start_time": "2023-02-21T20:45:13.640Z"
   },
   {
    "duration": 56,
    "start_time": "2023-02-21T20:45:23.315Z"
   },
   {
    "duration": 10,
    "start_time": "2023-02-21T20:47:53.361Z"
   },
   {
    "duration": 279,
    "start_time": "2023-02-21T20:48:06.825Z"
   },
   {
    "duration": 86,
    "start_time": "2023-02-22T08:56:44.383Z"
   },
   {
    "duration": 91,
    "start_time": "2023-02-22T08:57:16.363Z"
   },
   {
    "duration": 107,
    "start_time": "2023-02-22T08:57:24.717Z"
   },
   {
    "duration": 149,
    "start_time": "2023-02-22T08:57:36.188Z"
   },
   {
    "duration": 47,
    "start_time": "2023-02-22T08:58:02.485Z"
   },
   {
    "duration": 1680,
    "start_time": "2023-02-22T08:58:54.965Z"
   },
   {
    "duration": 207,
    "start_time": "2023-02-22T08:58:56.647Z"
   },
   {
    "duration": 186,
    "start_time": "2023-02-22T08:58:59.638Z"
   },
   {
    "duration": 163,
    "start_time": "2023-02-22T08:59:44.121Z"
   },
   {
    "duration": 132,
    "start_time": "2023-02-22T09:00:00.797Z"
   },
   {
    "duration": 431,
    "start_time": "2023-02-22T09:05:15.372Z"
   },
   {
    "duration": 153,
    "start_time": "2023-02-22T09:10:21.746Z"
   },
   {
    "duration": 134,
    "start_time": "2023-02-22T09:13:09.755Z"
   },
   {
    "duration": 144,
    "start_time": "2023-02-22T09:19:15.100Z"
   },
   {
    "duration": 879,
    "start_time": "2023-02-22T09:19:42.538Z"
   },
   {
    "duration": 158,
    "start_time": "2023-02-22T09:22:15.577Z"
   },
   {
    "duration": 156,
    "start_time": "2023-02-22T09:22:27.842Z"
   },
   {
    "duration": 158,
    "start_time": "2023-02-22T09:38:03.590Z"
   },
   {
    "duration": 163,
    "start_time": "2023-02-22T09:38:13.527Z"
   },
   {
    "duration": 209,
    "start_time": "2023-02-22T09:44:19.442Z"
   },
   {
    "duration": 152,
    "start_time": "2023-02-22T09:46:16.422Z"
   },
   {
    "duration": 202,
    "start_time": "2023-02-22T09:46:30.278Z"
   },
   {
    "duration": 88,
    "start_time": "2023-02-22T09:47:38.989Z"
   },
   {
    "duration": 80,
    "start_time": "2023-02-22T09:48:17.527Z"
   },
   {
    "duration": 81,
    "start_time": "2023-02-22T09:48:28.134Z"
   },
   {
    "duration": 83,
    "start_time": "2023-02-22T09:48:38.988Z"
   },
   {
    "duration": 2246,
    "start_time": "2023-02-22T09:49:01.295Z"
   },
   {
    "duration": 281,
    "start_time": "2023-02-22T09:50:03.689Z"
   },
   {
    "duration": 208,
    "start_time": "2023-02-22T09:50:53.523Z"
   },
   {
    "duration": 123,
    "start_time": "2023-02-22T09:51:11.976Z"
   },
   {
    "duration": 87,
    "start_time": "2023-02-22T09:51:30.387Z"
   },
   {
    "duration": 88,
    "start_time": "2023-02-22T09:52:00.532Z"
   },
   {
    "duration": 113,
    "start_time": "2023-02-22T09:52:14.677Z"
   },
   {
    "duration": 90,
    "start_time": "2023-02-22T09:54:07.388Z"
   },
   {
    "duration": 2596,
    "start_time": "2023-02-22T09:54:53.826Z"
   },
   {
    "duration": 2397,
    "start_time": "2023-02-22T10:12:25.459Z"
   },
   {
    "duration": 117,
    "start_time": "2023-02-22T10:12:40.000Z"
   },
   {
    "duration": 1667,
    "start_time": "2023-02-22T20:36:29.469Z"
   },
   {
    "duration": 274,
    "start_time": "2023-02-22T20:36:31.139Z"
   },
   {
    "duration": 203,
    "start_time": "2023-02-22T20:37:12.964Z"
   },
   {
    "duration": 115,
    "start_time": "2023-02-22T20:37:23.443Z"
   },
   {
    "duration": 115,
    "start_time": "2023-02-22T20:37:48.300Z"
   },
   {
    "duration": 115,
    "start_time": "2023-02-22T20:38:19.585Z"
   },
   {
    "duration": 1273,
    "start_time": "2023-02-22T20:38:35.937Z"
   },
   {
    "duration": 257,
    "start_time": "2023-02-22T20:38:37.212Z"
   },
   {
    "duration": 2193,
    "start_time": "2023-02-22T20:53:39.263Z"
   },
   {
    "duration": 182,
    "start_time": "2023-02-22T21:06:21.486Z"
   },
   {
    "duration": 108,
    "start_time": "2023-02-22T21:16:40.263Z"
   },
   {
    "duration": 65,
    "start_time": "2023-02-22T21:17:04.516Z"
   },
   {
    "duration": 80,
    "start_time": "2023-02-22T21:17:13.120Z"
   },
   {
    "duration": 139,
    "start_time": "2023-02-22T21:17:49.405Z"
   },
   {
    "duration": 190,
    "start_time": "2023-02-22T21:18:53.325Z"
   },
   {
    "duration": 2475,
    "start_time": "2023-02-22T21:48:09.348Z"
   },
   {
    "duration": 111,
    "start_time": "2023-02-23T19:23:35.602Z"
   },
   {
    "duration": 64,
    "start_time": "2023-02-23T19:23:54.410Z"
   },
   {
    "duration": 1792,
    "start_time": "2023-02-23T19:24:16.369Z"
   },
   {
    "duration": 2668,
    "start_time": "2023-02-23T19:24:18.163Z"
   },
   {
    "duration": 26,
    "start_time": "2023-02-23T19:24:20.833Z"
   },
   {
    "duration": 21,
    "start_time": "2023-02-23T19:29:41.083Z"
   },
   {
    "duration": 255,
    "start_time": "2023-02-23T20:00:45.962Z"
   },
   {
    "duration": 185,
    "start_time": "2023-02-23T20:13:50.775Z"
   },
   {
    "duration": 3190,
    "start_time": "2023-02-23T20:15:44.446Z"
   },
   {
    "duration": 95,
    "start_time": "2023-02-23T20:19:35.693Z"
   },
   {
    "duration": 33,
    "start_time": "2023-02-23T20:21:06.232Z"
   },
   {
    "duration": 22,
    "start_time": "2023-02-23T20:21:36.482Z"
   },
   {
    "duration": 27,
    "start_time": "2023-02-23T20:22:45.389Z"
   },
   {
    "duration": 22,
    "start_time": "2023-02-23T20:23:33.178Z"
   },
   {
    "duration": 3055,
    "start_time": "2023-02-23T20:37:09.636Z"
   },
   {
    "duration": 87,
    "start_time": "2023-02-23T20:39:33.174Z"
   },
   {
    "duration": 13,
    "start_time": "2023-02-23T20:39:51.389Z"
   },
   {
    "duration": 100,
    "start_time": "2023-02-23T20:39:56.874Z"
   },
   {
    "duration": 3030,
    "start_time": "2023-02-23T20:40:55.022Z"
   },
   {
    "duration": 3113,
    "start_time": "2023-02-23T20:42:13.704Z"
   },
   {
    "duration": 3078,
    "start_time": "2023-02-23T20:42:30.119Z"
   },
   {
    "duration": 3158,
    "start_time": "2023-02-23T20:42:41.676Z"
   },
   {
    "duration": 3400,
    "start_time": "2023-02-23T20:42:47.680Z"
   },
   {
    "duration": 3257,
    "start_time": "2023-02-23T20:44:48.985Z"
   },
   {
    "duration": 2976,
    "start_time": "2023-02-23T20:45:26.899Z"
   },
   {
    "duration": 3156,
    "start_time": "2023-02-23T20:46:09.483Z"
   },
   {
    "duration": 3102,
    "start_time": "2023-02-23T20:50:37.283Z"
   },
   {
    "duration": 2873,
    "start_time": "2023-02-23T20:54:16.814Z"
   },
   {
    "duration": 3311,
    "start_time": "2023-02-23T21:06:26.636Z"
   },
   {
    "duration": 3568,
    "start_time": "2023-02-23T21:06:47.802Z"
   },
   {
    "duration": 470,
    "start_time": "2023-02-23T21:07:31.676Z"
   },
   {
    "duration": 621,
    "start_time": "2023-02-23T21:08:52.218Z"
   },
   {
    "duration": 507,
    "start_time": "2023-02-23T21:09:35.875Z"
   },
   {
    "duration": 1247,
    "start_time": "2023-02-23T21:16:36.592Z"
   },
   {
    "duration": 1461,
    "start_time": "2023-02-23T21:16:37.841Z"
   },
   {
    "duration": 0,
    "start_time": "2023-02-23T21:16:39.304Z"
   },
   {
    "duration": 1419,
    "start_time": "2023-02-23T21:17:05.263Z"
   },
   {
    "duration": 1362,
    "start_time": "2023-02-23T21:17:16.640Z"
   },
   {
    "duration": 249,
    "start_time": "2023-02-23T21:17:32.880Z"
   },
   {
    "duration": 2721,
    "start_time": "2023-02-23T21:18:45.322Z"
   },
   {
    "duration": 2537,
    "start_time": "2023-02-23T21:18:54.294Z"
   },
   {
    "duration": 2847,
    "start_time": "2023-02-23T21:23:02.091Z"
   },
   {
    "duration": 844,
    "start_time": "2023-02-23T21:23:37.812Z"
   },
   {
    "duration": 250,
    "start_time": "2023-02-23T21:24:12.624Z"
   },
   {
    "duration": 937,
    "start_time": "2023-02-23T21:24:23.280Z"
   },
   {
    "duration": 1000,
    "start_time": "2023-02-23T21:25:21.221Z"
   },
   {
    "duration": 1059,
    "start_time": "2023-02-23T21:25:46.708Z"
   },
   {
    "duration": 834,
    "start_time": "2023-02-23T21:26:20.887Z"
   },
   {
    "duration": 945,
    "start_time": "2023-02-23T21:27:22.585Z"
   },
   {
    "duration": 953,
    "start_time": "2023-02-23T21:28:03.580Z"
   },
   {
    "duration": 832,
    "start_time": "2023-02-23T21:28:33.477Z"
   },
   {
    "duration": 1580,
    "start_time": "2023-02-24T08:46:38.069Z"
   },
   {
    "duration": 908,
    "start_time": "2023-02-24T08:46:39.651Z"
   },
   {
    "duration": 26,
    "start_time": "2023-02-24T08:46:40.561Z"
   },
   {
    "duration": 113,
    "start_time": "2023-02-24T08:46:40.589Z"
   },
   {
    "duration": 257,
    "start_time": "2023-02-24T08:48:34.584Z"
   },
   {
    "duration": 177,
    "start_time": "2023-02-24T08:54:46.539Z"
   },
   {
    "duration": 351,
    "start_time": "2023-02-24T08:54:53.652Z"
   },
   {
    "duration": 137,
    "start_time": "2023-02-24T08:56:23.165Z"
   },
   {
    "duration": 175,
    "start_time": "2023-02-24T08:58:00.248Z"
   },
   {
    "duration": 570,
    "start_time": "2023-02-24T08:58:11.059Z"
   },
   {
    "duration": 263,
    "start_time": "2023-02-24T08:58:21.041Z"
   },
   {
    "duration": 185,
    "start_time": "2023-02-24T08:58:26.777Z"
   },
   {
    "duration": 296,
    "start_time": "2023-02-24T08:59:20.524Z"
   },
   {
    "duration": 264,
    "start_time": "2023-02-24T08:59:27.292Z"
   },
   {
    "duration": 2024,
    "start_time": "2023-02-24T09:14:58.144Z"
   },
   {
    "duration": 262,
    "start_time": "2023-02-24T09:16:06.367Z"
   },
   {
    "duration": 436,
    "start_time": "2023-02-24T09:18:17.281Z"
   },
   {
    "duration": 261,
    "start_time": "2023-02-24T09:18:53.659Z"
   },
   {
    "duration": 617,
    "start_time": "2023-02-24T09:19:33.367Z"
   },
   {
    "duration": 387,
    "start_time": "2023-02-24T09:20:03.133Z"
   },
   {
    "duration": 772,
    "start_time": "2023-02-24T09:20:14.918Z"
   },
   {
    "duration": 705,
    "start_time": "2023-02-24T09:20:28.600Z"
   },
   {
    "duration": 8,
    "start_time": "2023-02-24T09:22:41.279Z"
   },
   {
    "duration": 552,
    "start_time": "2023-02-24T09:22:51.240Z"
   },
   {
    "duration": 550,
    "start_time": "2023-02-24T09:23:00.944Z"
   },
   {
    "duration": 697,
    "start_time": "2023-02-24T09:23:20.030Z"
   },
   {
    "duration": 567,
    "start_time": "2023-02-24T09:23:28.892Z"
   },
   {
    "duration": 59,
    "start_time": "2023-02-24T09:23:49.686Z"
   },
   {
    "duration": 387,
    "start_time": "2023-02-24T09:24:00.540Z"
   },
   {
    "duration": 271,
    "start_time": "2023-02-24T09:29:16.189Z"
   },
   {
    "duration": 245,
    "start_time": "2023-02-24T09:29:27.534Z"
   },
   {
    "duration": 192,
    "start_time": "2023-02-24T09:29:47.726Z"
   },
   {
    "duration": 431,
    "start_time": "2023-02-24T09:29:53.648Z"
   },
   {
    "duration": 400,
    "start_time": "2023-02-24T09:29:59.981Z"
   },
   {
    "duration": 188,
    "start_time": "2023-02-24T09:30:05.142Z"
   },
   {
    "duration": 210,
    "start_time": "2023-02-24T09:30:17.362Z"
   },
   {
    "duration": 268,
    "start_time": "2023-02-24T09:30:37.838Z"
   },
   {
    "duration": 208,
    "start_time": "2023-02-24T09:30:59.453Z"
   },
   {
    "duration": 171,
    "start_time": "2023-02-24T09:31:17.879Z"
   },
   {
    "duration": 195,
    "start_time": "2023-02-24T09:31:25.479Z"
   },
   {
    "duration": 364,
    "start_time": "2023-02-24T09:31:49.433Z"
   },
   {
    "duration": 211,
    "start_time": "2023-02-24T09:31:59.375Z"
   },
   {
    "duration": 237,
    "start_time": "2023-02-24T09:32:06.916Z"
   },
   {
    "duration": 273,
    "start_time": "2023-02-24T09:32:41.641Z"
   },
   {
    "duration": 196,
    "start_time": "2023-02-24T09:33:00.362Z"
   },
   {
    "duration": 830,
    "start_time": "2023-02-24T09:33:05.436Z"
   },
   {
    "duration": 996,
    "start_time": "2023-02-24T09:33:21.639Z"
   },
   {
    "duration": 357,
    "start_time": "2023-02-24T09:33:29.823Z"
   },
   {
    "duration": 248,
    "start_time": "2023-02-24T09:33:52.135Z"
   },
   {
    "duration": 237,
    "start_time": "2023-02-24T09:33:57.857Z"
   },
   {
    "duration": 262,
    "start_time": "2023-02-24T09:34:05.326Z"
   },
   {
    "duration": 178,
    "start_time": "2023-02-24T09:34:09.860Z"
   },
   {
    "duration": 136,
    "start_time": "2023-02-24T09:34:25.314Z"
   },
   {
    "duration": 189,
    "start_time": "2023-02-24T09:34:56.342Z"
   },
   {
    "duration": 200,
    "start_time": "2023-02-24T09:35:30.592Z"
   },
   {
    "duration": 400,
    "start_time": "2023-02-24T09:35:37.860Z"
   },
   {
    "duration": 212,
    "start_time": "2023-02-24T09:35:50.686Z"
   },
   {
    "duration": 234,
    "start_time": "2023-02-24T09:36:27.386Z"
   },
   {
    "duration": 222,
    "start_time": "2023-02-24T09:36:35.154Z"
   },
   {
    "duration": 279,
    "start_time": "2023-02-24T09:36:41.841Z"
   },
   {
    "duration": 154,
    "start_time": "2023-02-24T09:36:46.988Z"
   },
   {
    "duration": 290,
    "start_time": "2023-02-24T09:36:59.541Z"
   },
   {
    "duration": 158,
    "start_time": "2023-02-24T09:37:06.167Z"
   },
   {
    "duration": 164,
    "start_time": "2023-02-24T09:37:18.088Z"
   },
   {
    "duration": 211,
    "start_time": "2023-02-24T09:37:25.434Z"
   },
   {
    "duration": 156,
    "start_time": "2023-02-24T09:37:30.641Z"
   },
   {
    "duration": 168,
    "start_time": "2023-02-24T09:38:32.695Z"
   },
   {
    "duration": 170,
    "start_time": "2023-02-24T09:38:40.580Z"
   },
   {
    "duration": 3,
    "start_time": "2023-02-24T09:39:10.734Z"
   },
   {
    "duration": 309,
    "start_time": "2023-02-24T09:39:16.626Z"
   },
   {
    "duration": 363,
    "start_time": "2023-02-24T09:39:30.953Z"
   },
   {
    "duration": 342,
    "start_time": "2023-02-24T09:39:39.024Z"
   },
   {
    "duration": 290,
    "start_time": "2023-02-24T09:39:55.763Z"
   },
   {
    "duration": 258,
    "start_time": "2023-02-24T09:40:28.179Z"
   },
   {
    "duration": 584,
    "start_time": "2023-02-24T09:41:16.163Z"
   },
   {
    "duration": 305,
    "start_time": "2023-02-24T09:42:01.730Z"
   },
   {
    "duration": 282,
    "start_time": "2023-02-24T09:42:10.536Z"
   },
   {
    "duration": 135,
    "start_time": "2023-02-24T09:42:17.768Z"
   },
   {
    "duration": 159,
    "start_time": "2023-02-24T09:43:00.145Z"
   },
   {
    "duration": 201,
    "start_time": "2023-02-24T09:43:07.366Z"
   },
   {
    "duration": 263,
    "start_time": "2023-02-24T09:47:34.580Z"
   },
   {
    "duration": 354,
    "start_time": "2023-02-24T09:47:45.425Z"
   },
   {
    "duration": 202,
    "start_time": "2023-02-24T09:48:15.563Z"
   },
   {
    "duration": 471,
    "start_time": "2023-02-24T09:48:33.355Z"
   },
   {
    "duration": 268,
    "start_time": "2023-02-24T09:48:51.778Z"
   },
   {
    "duration": 1806,
    "start_time": "2023-02-24T12:56:07.708Z"
   },
   {
    "duration": 947,
    "start_time": "2023-02-24T12:56:09.516Z"
   },
   {
    "duration": 20,
    "start_time": "2023-02-24T12:56:10.464Z"
   },
   {
    "duration": 252,
    "start_time": "2023-02-24T12:56:10.487Z"
   },
   {
    "duration": 238,
    "start_time": "2023-02-24T12:59:19.400Z"
   },
   {
    "duration": 310,
    "start_time": "2023-02-24T12:59:24.551Z"
   },
   {
    "duration": 205,
    "start_time": "2023-02-24T12:59:52.875Z"
   },
   {
    "duration": 329,
    "start_time": "2023-02-24T13:01:23.121Z"
   },
   {
    "duration": 266,
    "start_time": "2023-02-24T13:01:42.676Z"
   },
   {
    "duration": 466,
    "start_time": "2023-02-24T13:02:44.473Z"
   },
   {
    "duration": 139,
    "start_time": "2023-02-24T13:02:49.327Z"
   },
   {
    "duration": 309,
    "start_time": "2023-02-24T13:03:13.232Z"
   },
   {
    "duration": 293,
    "start_time": "2023-02-24T13:03:30.857Z"
   },
   {
    "duration": 284,
    "start_time": "2023-02-24T13:03:49.977Z"
   },
   {
    "duration": 287,
    "start_time": "2023-02-24T13:04:06.670Z"
   },
   {
    "duration": 141,
    "start_time": "2023-02-24T13:04:22.015Z"
   },
   {
    "duration": 256,
    "start_time": "2023-02-24T13:04:49.725Z"
   },
   {
    "duration": 157,
    "start_time": "2023-02-24T13:05:07.181Z"
   },
   {
    "duration": 270,
    "start_time": "2023-02-24T13:05:54.846Z"
   },
   {
    "duration": 174,
    "start_time": "2023-02-24T13:06:04.138Z"
   },
   {
    "duration": 340,
    "start_time": "2023-02-24T13:06:24.809Z"
   },
   {
    "duration": 258,
    "start_time": "2023-02-24T13:06:37.731Z"
   },
   {
    "duration": 206,
    "start_time": "2023-02-24T13:06:53.462Z"
   },
   {
    "duration": 349,
    "start_time": "2023-02-24T13:06:59.184Z"
   },
   {
    "duration": 194,
    "start_time": "2023-02-24T13:07:05.594Z"
   },
   {
    "duration": 229,
    "start_time": "2023-02-24T13:07:18.860Z"
   },
   {
    "duration": 378,
    "start_time": "2023-02-24T13:07:36.131Z"
   },
   {
    "duration": 247,
    "start_time": "2023-02-24T13:07:50.850Z"
   },
   {
    "duration": 228,
    "start_time": "2023-02-24T13:08:04.774Z"
   },
   {
    "duration": 119,
    "start_time": "2023-02-24T13:08:17.612Z"
   },
   {
    "duration": 130,
    "start_time": "2023-02-24T13:08:29.287Z"
   },
   {
    "duration": 145,
    "start_time": "2023-02-24T13:08:46.560Z"
   },
   {
    "duration": 135,
    "start_time": "2023-02-24T13:09:04.412Z"
   },
   {
    "duration": 24,
    "start_time": "2023-02-24T13:19:27.924Z"
   },
   {
    "duration": 82,
    "start_time": "2023-02-24T13:21:30.645Z"
   },
   {
    "duration": 199,
    "start_time": "2023-02-24T13:21:44.626Z"
   },
   {
    "duration": 321,
    "start_time": "2023-02-24T13:22:30.447Z"
   },
   {
    "duration": 69,
    "start_time": "2023-02-24T13:23:17.234Z"
   },
   {
    "duration": 280,
    "start_time": "2023-02-24T13:23:23.258Z"
   },
   {
    "duration": 193,
    "start_time": "2023-02-24T13:23:35.884Z"
   },
   {
    "duration": 162,
    "start_time": "2023-02-24T13:25:50.179Z"
   },
   {
    "duration": 301,
    "start_time": "2023-02-24T13:26:00.403Z"
   },
   {
    "duration": 137,
    "start_time": "2023-02-24T13:26:12.066Z"
   },
   {
    "duration": 159,
    "start_time": "2023-02-24T13:27:06.238Z"
   },
   {
    "duration": 143,
    "start_time": "2023-02-24T13:28:06.607Z"
   },
   {
    "duration": 143,
    "start_time": "2023-02-24T13:29:02.218Z"
   },
   {
    "duration": 193,
    "start_time": "2023-02-24T13:31:03.430Z"
   },
   {
    "duration": 377,
    "start_time": "2023-02-24T13:32:30.008Z"
   },
   {
    "duration": 223,
    "start_time": "2023-02-24T13:33:56.693Z"
   },
   {
    "duration": 148,
    "start_time": "2023-02-24T13:34:55.661Z"
   },
   {
    "duration": 161,
    "start_time": "2023-02-24T13:36:03.335Z"
   },
   {
    "duration": 133,
    "start_time": "2023-02-24T13:36:17.761Z"
   },
   {
    "duration": 145,
    "start_time": "2023-02-24T13:44:43.978Z"
   },
   {
    "duration": 174,
    "start_time": "2023-02-24T13:44:55.526Z"
   },
   {
    "duration": 237,
    "start_time": "2023-02-24T13:45:01.553Z"
   },
   {
    "duration": 224,
    "start_time": "2023-02-24T13:45:08.591Z"
   },
   {
    "duration": 503,
    "start_time": "2023-02-24T13:45:22.217Z"
   },
   {
    "duration": 186,
    "start_time": "2023-02-24T13:45:27.000Z"
   },
   {
    "duration": 4,
    "start_time": "2023-02-24T13:45:48.190Z"
   },
   {
    "duration": 171,
    "start_time": "2023-02-24T13:46:02.237Z"
   },
   {
    "duration": 77,
    "start_time": "2023-02-24T13:51:03.842Z"
   },
   {
    "duration": 160,
    "start_time": "2023-02-24T13:55:39.586Z"
   },
   {
    "duration": 1808,
    "start_time": "2023-02-24T13:58:47.607Z"
   },
   {
    "duration": 282,
    "start_time": "2023-02-24T13:58:49.417Z"
   },
   {
    "duration": 18,
    "start_time": "2023-02-24T13:58:49.700Z"
   },
   {
    "duration": 1651,
    "start_time": "2023-02-25T10:45:13.798Z"
   },
   {
    "duration": 342,
    "start_time": "2023-02-25T10:45:15.452Z"
   },
   {
    "duration": 25,
    "start_time": "2023-02-25T10:45:15.796Z"
   },
   {
    "duration": 1539,
    "start_time": "2023-02-25T10:45:31.596Z"
   },
   {
    "duration": 259,
    "start_time": "2023-02-25T10:45:33.137Z"
   },
   {
    "duration": 18,
    "start_time": "2023-02-25T10:45:33.398Z"
   },
   {
    "duration": 1316,
    "start_time": "2023-02-25T10:48:15.654Z"
   },
   {
    "duration": 266,
    "start_time": "2023-02-25T10:48:16.972Z"
   },
   {
    "duration": 19,
    "start_time": "2023-02-25T10:48:17.239Z"
   },
   {
    "duration": 54,
    "start_time": "2023-02-25T10:48:35.961Z"
   },
   {
    "duration": 7,
    "start_time": "2023-02-25T10:49:22.786Z"
   },
   {
    "duration": 1308,
    "start_time": "2023-02-25T10:49:30.322Z"
   },
   {
    "duration": 258,
    "start_time": "2023-02-25T10:49:31.637Z"
   },
   {
    "duration": 24,
    "start_time": "2023-02-25T10:49:31.897Z"
   },
   {
    "duration": 44,
    "start_time": "2023-02-25T10:49:37.846Z"
   },
   {
    "duration": 7,
    "start_time": "2023-02-25T10:49:41.876Z"
   },
   {
    "duration": 16,
    "start_time": "2023-02-25T10:49:46.301Z"
   },
   {
    "duration": 1336,
    "start_time": "2023-02-25T10:49:53.072Z"
   },
   {
    "duration": 254,
    "start_time": "2023-02-25T10:49:57.140Z"
   },
   {
    "duration": 24,
    "start_time": "2023-02-25T10:50:01.343Z"
   },
   {
    "duration": 66,
    "start_time": "2023-02-25T10:55:33.245Z"
   },
   {
    "duration": 7,
    "start_time": "2023-02-25T10:55:37.163Z"
   },
   {
    "duration": 1397,
    "start_time": "2023-02-25T11:00:52.036Z"
   },
   {
    "duration": 274,
    "start_time": "2023-02-25T11:00:53.436Z"
   },
   {
    "duration": 30,
    "start_time": "2023-02-25T11:00:53.712Z"
   },
   {
    "duration": 57,
    "start_time": "2023-02-25T11:01:02.397Z"
   },
   {
    "duration": 1334,
    "start_time": "2023-02-25T11:08:44.989Z"
   },
   {
    "duration": 267,
    "start_time": "2023-02-25T11:08:46.325Z"
   },
   {
    "duration": 18,
    "start_time": "2023-02-25T11:08:46.597Z"
   },
   {
    "duration": 1441,
    "start_time": "2023-02-25T11:19:24.485Z"
   },
   {
    "duration": 333,
    "start_time": "2023-02-25T11:19:25.928Z"
   },
   {
    "duration": 20,
    "start_time": "2023-02-25T11:19:26.265Z"
   },
   {
    "duration": 1417,
    "start_time": "2023-02-25T11:19:41.463Z"
   },
   {
    "duration": 272,
    "start_time": "2023-02-25T11:19:42.882Z"
   },
   {
    "duration": 18,
    "start_time": "2023-02-25T11:19:43.155Z"
   },
   {
    "duration": 1202,
    "start_time": "2023-02-25T11:33:12.980Z"
   },
   {
    "duration": 277,
    "start_time": "2023-02-25T11:33:14.184Z"
   },
   {
    "duration": 19,
    "start_time": "2023-02-25T11:33:14.463Z"
   },
   {
    "duration": 1274,
    "start_time": "2023-02-25T11:44:32.052Z"
   },
   {
    "duration": 240,
    "start_time": "2023-02-25T11:44:33.328Z"
   },
   {
    "duration": 18,
    "start_time": "2023-02-25T11:44:33.569Z"
   },
   {
    "duration": 1289,
    "start_time": "2023-02-25T11:48:29.118Z"
   },
   {
    "duration": 267,
    "start_time": "2023-02-25T11:48:30.409Z"
   },
   {
    "duration": 18,
    "start_time": "2023-02-25T11:48:30.678Z"
   },
   {
    "duration": 1463,
    "start_time": "2023-02-25T11:52:14.165Z"
   },
   {
    "duration": 312,
    "start_time": "2023-02-25T11:52:15.631Z"
   },
   {
    "duration": 24,
    "start_time": "2023-02-25T11:52:15.944Z"
   },
   {
    "duration": 1232,
    "start_time": "2023-02-25T13:02:12.591Z"
   },
   {
    "duration": 245,
    "start_time": "2023-02-25T13:02:13.825Z"
   },
   {
    "duration": 18,
    "start_time": "2023-02-25T13:02:14.072Z"
   },
   {
    "duration": 1333,
    "start_time": "2023-02-25T13:14:55.316Z"
   },
   {
    "duration": 247,
    "start_time": "2023-02-25T13:14:56.651Z"
   },
   {
    "duration": 17,
    "start_time": "2023-02-25T13:14:56.899Z"
   },
   {
    "duration": 1280,
    "start_time": "2023-02-25T13:23:32.448Z"
   },
   {
    "duration": 250,
    "start_time": "2023-02-25T13:23:33.730Z"
   },
   {
    "duration": 19,
    "start_time": "2023-02-25T13:23:33.981Z"
   },
   {
    "duration": 1209,
    "start_time": "2023-02-25T13:27:33.983Z"
   },
   {
    "duration": 245,
    "start_time": "2023-02-25T13:27:35.194Z"
   },
   {
    "duration": 18,
    "start_time": "2023-02-25T13:27:35.441Z"
   },
   {
    "duration": 1254,
    "start_time": "2023-02-25T13:29:44.797Z"
   },
   {
    "duration": 246,
    "start_time": "2023-02-25T13:29:46.052Z"
   },
   {
    "duration": 17,
    "start_time": "2023-02-25T13:29:46.300Z"
   },
   {
    "duration": 1310,
    "start_time": "2023-02-25T13:49:28.295Z"
   },
   {
    "duration": 271,
    "start_time": "2023-02-25T13:49:29.607Z"
   },
   {
    "duration": 18,
    "start_time": "2023-02-25T13:49:29.880Z"
   },
   {
    "duration": 1815,
    "start_time": "2023-02-25T18:32:30.442Z"
   },
   {
    "duration": 348,
    "start_time": "2023-02-25T18:32:32.260Z"
   },
   {
    "duration": 33,
    "start_time": "2023-02-25T18:32:32.610Z"
   },
   {
    "duration": 1622,
    "start_time": "2023-02-25T18:33:40.764Z"
   },
   {
    "duration": 301,
    "start_time": "2023-02-25T18:33:48.905Z"
   },
   {
    "duration": 20,
    "start_time": "2023-02-25T18:33:55.049Z"
   },
   {
    "duration": 53,
    "start_time": "2023-02-25T18:34:21.449Z"
   },
   {
    "duration": 87,
    "start_time": "2023-02-25T18:37:27.461Z"
   },
   {
    "duration": 75,
    "start_time": "2023-02-25T18:37:34.230Z"
   },
   {
    "duration": 8,
    "start_time": "2023-02-25T18:37:41.667Z"
   },
   {
    "duration": 1849,
    "start_time": "2023-02-25T18:37:49.747Z"
   },
   {
    "duration": 306,
    "start_time": "2023-02-25T18:37:53.966Z"
   },
   {
    "duration": 21,
    "start_time": "2023-02-25T18:37:56.323Z"
   },
   {
    "duration": 20,
    "start_time": "2023-02-25T18:38:02.687Z"
   },
   {
    "duration": 75,
    "start_time": "2023-02-25T18:39:03.833Z"
   },
   {
    "duration": 227,
    "start_time": "2023-02-25T18:41:36.389Z"
   },
   {
    "duration": 94,
    "start_time": "2023-02-25T18:47:53.483Z"
   },
   {
    "duration": 71,
    "start_time": "2023-02-25T18:48:41.578Z"
   },
   {
    "duration": 142,
    "start_time": "2023-02-25T18:49:14.709Z"
   },
   {
    "duration": 1302,
    "start_time": "2023-02-25T19:09:03.689Z"
   },
   {
    "duration": 299,
    "start_time": "2023-02-25T19:09:04.993Z"
   },
   {
    "duration": 22,
    "start_time": "2023-02-25T19:09:05.293Z"
   },
   {
    "duration": 1689,
    "start_time": "2023-02-25T19:14:49.834Z"
   },
   {
    "duration": 308,
    "start_time": "2023-02-25T19:14:51.525Z"
   },
   {
    "duration": 112,
    "start_time": "2023-02-25T19:14:51.838Z"
   },
   {
    "duration": 0,
    "start_time": "2023-02-25T19:14:51.952Z"
   },
   {
    "duration": 423,
    "start_time": "2023-02-25T19:15:39.653Z"
   },
   {
    "duration": 393,
    "start_time": "2023-02-25T19:15:42.982Z"
   },
   {
    "duration": 384,
    "start_time": "2023-02-25T19:16:07.243Z"
   },
   {
    "duration": 15,
    "start_time": "2023-02-25T19:19:37.432Z"
   },
   {
    "duration": 13,
    "start_time": "2023-02-25T19:20:09.145Z"
   },
   {
    "duration": 78,
    "start_time": "2023-02-25T19:20:47.355Z"
   },
   {
    "duration": 126,
    "start_time": "2023-02-25T19:20:55.064Z"
   },
   {
    "duration": 112,
    "start_time": "2023-02-25T19:21:40.521Z"
   },
   {
    "duration": 1738,
    "start_time": "2023-02-26T09:29:43.525Z"
   },
   {
    "duration": 258,
    "start_time": "2023-02-26T09:29:47.982Z"
   },
   {
    "duration": 1266,
    "start_time": "2023-02-26T09:29:55.451Z"
   },
   {
    "duration": 264,
    "start_time": "2023-02-26T09:29:56.720Z"
   },
   {
    "duration": 420,
    "start_time": "2023-02-26T09:29:56.986Z"
   },
   {
    "duration": 3,
    "start_time": "2023-02-26T09:29:57.408Z"
   },
   {
    "duration": 730,
    "start_time": "2023-02-26T09:30:01.530Z"
   },
   {
    "duration": 255,
    "start_time": "2023-02-26T09:30:04.258Z"
   },
   {
    "duration": 393,
    "start_time": "2023-02-26T09:30:06.518Z"
   },
   {
    "duration": 5,
    "start_time": "2023-02-26T09:30:20.080Z"
   },
   {
    "duration": 27,
    "start_time": "2023-02-26T09:35:58.541Z"
   },
   {
    "duration": 57,
    "start_time": "2023-02-26T09:39:36.776Z"
   },
   {
    "duration": 251,
    "start_time": "2023-02-26T09:40:19.552Z"
   },
   {
    "duration": 73,
    "start_time": "2023-02-26T09:42:39.394Z"
   },
   {
    "duration": 74,
    "start_time": "2023-02-26T09:42:45.995Z"
   },
   {
    "duration": 1272,
    "start_time": "2023-02-26T09:44:22.055Z"
   },
   {
    "duration": 262,
    "start_time": "2023-02-26T09:44:23.329Z"
   },
   {
    "duration": 436,
    "start_time": "2023-02-26T09:44:23.593Z"
   },
   {
    "duration": 361,
    "start_time": "2023-02-26T09:47:07.333Z"
   },
   {
    "duration": 86402,
    "start_time": "2023-02-26T09:50:00.808Z"
   },
   {
    "duration": 653,
    "start_time": "2023-02-26T09:51:27.212Z"
   },
   {
    "duration": 284,
    "start_time": "2023-02-26T09:51:27.868Z"
   },
   {
    "duration": 1405,
    "start_time": "2023-02-26T10:31:51.688Z"
   },
   {
    "duration": 294,
    "start_time": "2023-02-26T10:31:53.096Z"
   },
   {
    "duration": 465,
    "start_time": "2023-02-26T10:31:53.393Z"
   },
   {
    "duration": 337,
    "start_time": "2023-02-26T10:33:22.156Z"
   },
   {
    "duration": 390,
    "start_time": "2023-02-26T10:33:22.495Z"
   },
   {
    "duration": 86539,
    "start_time": "2023-02-26T10:33:22.888Z"
   },
   {
    "duration": 766,
    "start_time": "2023-02-26T10:34:49.429Z"
   },
   {
    "duration": 1447,
    "start_time": "2023-02-26T10:40:03.611Z"
   },
   {
    "duration": 300,
    "start_time": "2023-02-26T10:40:05.060Z"
   },
   {
    "duration": 463,
    "start_time": "2023-02-26T10:40:05.362Z"
   },
   {
    "duration": 33,
    "start_time": "2023-02-26T10:45:40.222Z"
   },
   {
    "duration": 376,
    "start_time": "2023-02-26T10:45:40.258Z"
   },
   {
    "duration": 167,
    "start_time": "2023-02-26T10:50:02.487Z"
   },
   {
    "duration": 1535,
    "start_time": "2023-02-26T10:50:10.007Z"
   },
   {
    "duration": 127,
    "start_time": "2023-02-26T10:50:11.830Z"
   },
   {
    "duration": 0,
    "start_time": "2023-02-26T11:07:53.767Z"
   },
   {
    "duration": 192,
    "start_time": "2023-02-26T11:08:05.188Z"
   },
   {
    "duration": 218,
    "start_time": "2023-02-26T11:09:06.750Z"
   },
   {
    "duration": 470,
    "start_time": "2023-02-26T11:09:23.542Z"
   },
   {
    "duration": 23,
    "start_time": "2023-02-26T11:09:29.106Z"
   },
   {
    "duration": 49,
    "start_time": "2023-02-26T11:11:08.953Z"
   },
   {
    "duration": 5,
    "start_time": "2023-02-26T11:11:24.343Z"
   },
   {
    "duration": 74,
    "start_time": "2023-02-26T11:11:55.202Z"
   },
   {
    "duration": 7,
    "start_time": "2023-02-26T11:12:11.788Z"
   },
   {
    "duration": 10,
    "start_time": "2023-02-26T11:12:25.719Z"
   },
   {
    "duration": 106,
    "start_time": "2023-02-26T11:12:44.089Z"
   },
   {
    "duration": 12,
    "start_time": "2023-02-26T11:12:58.277Z"
   },
   {
    "duration": 10,
    "start_time": "2023-02-26T11:13:06.568Z"
   },
   {
    "duration": 45,
    "start_time": "2023-02-26T11:13:12.785Z"
   },
   {
    "duration": 369,
    "start_time": "2023-02-26T11:14:02.867Z"
   },
   {
    "duration": 187,
    "start_time": "2023-02-26T11:14:46.211Z"
   },
   {
    "duration": 182,
    "start_time": "2023-02-26T11:14:56.914Z"
   },
   {
    "duration": 244,
    "start_time": "2023-02-26T11:15:08.276Z"
   },
   {
    "duration": 191,
    "start_time": "2023-02-26T11:15:17.095Z"
   },
   {
    "duration": 257,
    "start_time": "2023-02-26T11:15:25.854Z"
   },
   {
    "duration": 145,
    "start_time": "2023-02-26T11:15:39.279Z"
   },
   {
    "duration": 131,
    "start_time": "2023-02-26T11:15:51.617Z"
   },
   {
    "duration": 187,
    "start_time": "2023-02-26T11:16:05.049Z"
   },
   {
    "duration": 260,
    "start_time": "2023-02-26T11:16:25.448Z"
   },
   {
    "duration": 141,
    "start_time": "2023-02-26T11:16:34.378Z"
   },
   {
    "duration": 124,
    "start_time": "2023-02-26T11:16:48.604Z"
   },
   {
    "duration": 131,
    "start_time": "2023-02-26T11:16:53.716Z"
   },
   {
    "duration": 236,
    "start_time": "2023-02-26T11:17:03.663Z"
   },
   {
    "duration": 146,
    "start_time": "2023-02-26T11:17:10.542Z"
   },
   {
    "duration": 127,
    "start_time": "2023-02-26T11:17:17.229Z"
   },
   {
    "duration": 2235,
    "start_time": "2023-02-26T11:17:24.279Z"
   },
   {
    "duration": 147,
    "start_time": "2023-02-26T11:17:33.175Z"
   },
   {
    "duration": 236,
    "start_time": "2023-02-26T11:17:40.641Z"
   },
   {
    "duration": 177,
    "start_time": "2023-02-26T11:17:47.853Z"
   },
   {
    "duration": 135,
    "start_time": "2023-02-26T11:17:56.961Z"
   },
   {
    "duration": 239,
    "start_time": "2023-02-26T11:18:05.694Z"
   },
   {
    "duration": 170,
    "start_time": "2023-02-26T11:18:16.539Z"
   },
   {
    "duration": 242,
    "start_time": "2023-02-26T11:18:27.133Z"
   },
   {
    "duration": 151,
    "start_time": "2023-02-26T11:18:37.065Z"
   },
   {
    "duration": 223,
    "start_time": "2023-02-26T11:18:48.143Z"
   },
   {
    "duration": 187,
    "start_time": "2023-02-26T11:18:55.741Z"
   },
   {
    "duration": 223,
    "start_time": "2023-02-26T11:19:04.063Z"
   },
   {
    "duration": 221,
    "start_time": "2023-02-26T11:19:11.214Z"
   },
   {
    "duration": 245,
    "start_time": "2023-02-26T11:19:23.909Z"
   },
   {
    "duration": 236,
    "start_time": "2023-02-26T11:19:33.015Z"
   },
   {
    "duration": 123,
    "start_time": "2023-02-26T11:19:40.533Z"
   },
   {
    "duration": 114,
    "start_time": "2023-02-26T11:19:48.615Z"
   },
   {
    "duration": 155,
    "start_time": "2023-02-26T11:19:56.978Z"
   },
   {
    "duration": 176,
    "start_time": "2023-02-26T11:20:06.690Z"
   },
   {
    "duration": 153,
    "start_time": "2023-02-26T11:20:17.957Z"
   },
   {
    "duration": 123,
    "start_time": "2023-02-26T11:20:28.672Z"
   },
   {
    "duration": 24,
    "start_time": "2023-02-26T11:20:42.583Z"
   },
   {
    "duration": 88188,
    "start_time": "2023-02-26T11:20:46.184Z"
   },
   {
    "duration": 207,
    "start_time": "2023-02-26T11:22:16.851Z"
   },
   {
    "duration": 539,
    "start_time": "2023-02-26T11:22:17.060Z"
   },
   {
    "duration": 25,
    "start_time": "2023-02-26T11:22:17.603Z"
   },
   {
    "duration": 86,
    "start_time": "2023-02-26T11:22:17.631Z"
   },
   {
    "duration": 5,
    "start_time": "2023-02-26T11:22:17.719Z"
   },
   {
    "duration": 88,
    "start_time": "2023-02-26T11:22:17.726Z"
   },
   {
    "duration": 10,
    "start_time": "2023-02-26T11:22:17.816Z"
   },
   {
    "duration": 13,
    "start_time": "2023-02-26T11:22:17.827Z"
   },
   {
    "duration": 140,
    "start_time": "2023-02-26T11:22:17.842Z"
   },
   {
    "duration": 20,
    "start_time": "2023-02-26T11:22:17.985Z"
   },
   {
    "duration": 11,
    "start_time": "2023-02-26T11:22:18.007Z"
   },
   {
    "duration": 50,
    "start_time": "2023-02-26T11:22:18.020Z"
   },
   {
    "duration": 376,
    "start_time": "2023-02-26T11:22:18.073Z"
   },
   {
    "duration": 209,
    "start_time": "2023-02-26T11:22:18.451Z"
   },
   {
    "duration": 200,
    "start_time": "2023-02-26T11:22:18.662Z"
   },
   {
    "duration": 203,
    "start_time": "2023-02-26T11:22:18.864Z"
   },
   {
    "duration": 244,
    "start_time": "2023-02-26T11:22:19.070Z"
   },
   {
    "duration": 158,
    "start_time": "2023-02-26T11:22:19.316Z"
   },
   {
    "duration": 158,
    "start_time": "2023-02-26T11:22:19.476Z"
   },
   {
    "duration": 146,
    "start_time": "2023-02-26T11:22:19.636Z"
   },
   {
    "duration": 161,
    "start_time": "2023-02-26T11:22:19.783Z"
   },
   {
    "duration": 206,
    "start_time": "2023-02-26T11:22:19.946Z"
   },
   {
    "duration": 165,
    "start_time": "2023-02-26T11:22:20.154Z"
   },
   {
    "duration": 296,
    "start_time": "2023-02-26T11:22:20.321Z"
   },
   {
    "duration": 160,
    "start_time": "2023-02-26T11:22:20.619Z"
   },
   {
    "duration": 308,
    "start_time": "2023-02-26T11:22:20.782Z"
   },
   {
    "duration": 233,
    "start_time": "2023-02-26T11:22:21.092Z"
   },
   {
    "duration": 303,
    "start_time": "2023-02-26T11:22:21.330Z"
   },
   {
    "duration": 216,
    "start_time": "2023-02-26T11:22:21.635Z"
   },
   {
    "duration": 309,
    "start_time": "2023-02-26T11:22:21.853Z"
   },
   {
    "duration": 311,
    "start_time": "2023-02-26T11:22:22.165Z"
   },
   {
    "duration": 291,
    "start_time": "2023-02-26T11:22:22.478Z"
   },
   {
    "duration": 257,
    "start_time": "2023-02-26T11:22:22.771Z"
   },
   {
    "duration": 158,
    "start_time": "2023-02-26T11:22:23.029Z"
   },
   {
    "duration": 144,
    "start_time": "2023-02-26T11:22:23.188Z"
   },
   {
    "duration": 161,
    "start_time": "2023-02-26T11:22:23.334Z"
   },
   {
    "duration": 217,
    "start_time": "2023-02-26T11:22:23.497Z"
   },
   {
    "duration": 197,
    "start_time": "2023-02-26T11:22:23.716Z"
   },
   {
    "duration": 153,
    "start_time": "2023-02-26T11:22:23.915Z"
   },
   {
    "duration": 36,
    "start_time": "2023-02-26T11:22:24.069Z"
   },
   {
    "duration": 3,
    "start_time": "2023-02-26T11:22:24.107Z"
   },
   {
    "duration": 86277,
    "start_time": "2023-02-26T11:29:36.357Z"
   },
   {
    "duration": 219,
    "start_time": "2023-02-26T11:31:41.231Z"
   },
   {
    "duration": 287,
    "start_time": "2023-02-26T11:32:14.907Z"
   },
   {
    "duration": 27,
    "start_time": "2023-02-26T12:01:03.419Z"
   },
   {
    "duration": 546,
    "start_time": "2023-02-26T12:03:53.864Z"
   },
   {
    "duration": 704,
    "start_time": "2023-02-26T12:03:54.412Z"
   },
   {
    "duration": 27,
    "start_time": "2023-02-26T12:03:55.118Z"
   },
   {
    "duration": 71,
    "start_time": "2023-02-26T12:03:55.146Z"
   },
   {
    "duration": 5,
    "start_time": "2023-02-26T12:03:55.219Z"
   },
   {
    "duration": 83,
    "start_time": "2023-02-26T12:03:55.225Z"
   },
   {
    "duration": 7,
    "start_time": "2023-02-26T12:03:55.310Z"
   },
   {
    "duration": 17,
    "start_time": "2023-02-26T12:03:55.318Z"
   },
   {
    "duration": 107,
    "start_time": "2023-02-26T12:03:55.337Z"
   },
   {
    "duration": 11,
    "start_time": "2023-02-26T12:03:55.447Z"
   },
   {
    "duration": 9,
    "start_time": "2023-02-26T12:03:55.459Z"
   },
   {
    "duration": 66,
    "start_time": "2023-02-26T12:03:55.470Z"
   },
   {
    "duration": 434,
    "start_time": "2023-02-26T12:03:55.538Z"
   },
   {
    "duration": 179,
    "start_time": "2023-02-26T12:03:55.974Z"
   },
   {
    "duration": 179,
    "start_time": "2023-02-26T12:03:56.155Z"
   },
   {
    "duration": 183,
    "start_time": "2023-02-26T12:03:56.335Z"
   },
   {
    "duration": 223,
    "start_time": "2023-02-26T12:03:56.520Z"
   },
   {
    "duration": 167,
    "start_time": "2023-02-26T12:03:56.745Z"
   },
   {
    "duration": 136,
    "start_time": "2023-02-26T12:03:56.913Z"
   },
   {
    "duration": 126,
    "start_time": "2023-02-26T12:03:57.050Z"
   },
   {
    "duration": 146,
    "start_time": "2023-02-26T12:03:57.177Z"
   },
   {
    "duration": 240,
    "start_time": "2023-02-26T12:03:57.324Z"
   },
   {
    "duration": 147,
    "start_time": "2023-02-26T12:03:57.566Z"
   },
   {
    "duration": 250,
    "start_time": "2023-02-26T12:03:57.714Z"
   },
   {
    "duration": 150,
    "start_time": "2023-02-26T12:03:57.966Z"
   },
   {
    "duration": 227,
    "start_time": "2023-02-26T12:03:58.118Z"
   },
   {
    "duration": 160,
    "start_time": "2023-02-26T12:03:58.347Z"
   },
   {
    "duration": 231,
    "start_time": "2023-02-26T12:03:58.511Z"
   },
   {
    "duration": 188,
    "start_time": "2023-02-26T12:03:58.744Z"
   },
   {
    "duration": 325,
    "start_time": "2023-02-26T12:03:58.934Z"
   },
   {
    "duration": 214,
    "start_time": "2023-02-26T12:03:59.261Z"
   },
   {
    "duration": 228,
    "start_time": "2023-02-26T12:03:59.477Z"
   },
   {
    "duration": 232,
    "start_time": "2023-02-26T12:03:59.707Z"
   },
   {
    "duration": 124,
    "start_time": "2023-02-26T12:03:59.940Z"
   },
   {
    "duration": 125,
    "start_time": "2023-02-26T12:04:00.065Z"
   },
   {
    "duration": 155,
    "start_time": "2023-02-26T12:04:00.192Z"
   },
   {
    "duration": 228,
    "start_time": "2023-02-26T12:04:00.348Z"
   },
   {
    "duration": 160,
    "start_time": "2023-02-26T12:04:00.578Z"
   },
   {
    "duration": 130,
    "start_time": "2023-02-26T12:04:00.740Z"
   },
   {
    "duration": 32,
    "start_time": "2023-02-26T12:04:00.872Z"
   },
   {
    "duration": 82292,
    "start_time": "2023-02-26T12:04:00.906Z"
   },
   {
    "duration": 81162,
    "start_time": "2023-02-26T12:14:08.176Z"
   },
   {
    "duration": 97,
    "start_time": "2023-02-26T12:20:43.611Z"
   },
   {
    "duration": 76,
    "start_time": "2023-02-26T12:24:08.490Z"
   },
   {
    "duration": 126,
    "start_time": "2023-02-26T12:24:23.664Z"
   },
   {
    "duration": 70,
    "start_time": "2023-02-26T12:24:29.308Z"
   },
   {
    "duration": 12,
    "start_time": "2023-02-26T12:24:47.396Z"
   },
   {
    "duration": 517,
    "start_time": "2023-02-26T16:09:19.660Z"
   },
   {
    "duration": 680,
    "start_time": "2023-02-26T16:09:20.179Z"
   },
   {
    "duration": 25,
    "start_time": "2023-02-26T16:09:20.860Z"
   },
   {
    "duration": 62,
    "start_time": "2023-02-26T16:09:20.886Z"
   },
   {
    "duration": 5,
    "start_time": "2023-02-26T16:09:20.950Z"
   },
   {
    "duration": 76,
    "start_time": "2023-02-26T16:09:20.956Z"
   },
   {
    "duration": 5,
    "start_time": "2023-02-26T16:09:21.034Z"
   },
   {
    "duration": 22,
    "start_time": "2023-02-26T16:09:21.040Z"
   },
   {
    "duration": 82,
    "start_time": "2023-02-26T16:09:21.064Z"
   },
   {
    "duration": 9,
    "start_time": "2023-02-26T16:09:21.148Z"
   },
   {
    "duration": 16,
    "start_time": "2023-02-26T16:09:21.158Z"
   },
   {
    "duration": 54,
    "start_time": "2023-02-26T16:09:21.175Z"
   },
   {
    "duration": 422,
    "start_time": "2023-02-26T16:09:21.230Z"
   },
   {
    "duration": 171,
    "start_time": "2023-02-26T16:09:21.654Z"
   },
   {
    "duration": 160,
    "start_time": "2023-02-26T16:09:21.826Z"
   },
   {
    "duration": 161,
    "start_time": "2023-02-26T16:09:21.987Z"
   },
   {
    "duration": 174,
    "start_time": "2023-02-26T16:09:22.149Z"
   },
   {
    "duration": 132,
    "start_time": "2023-02-26T16:09:22.325Z"
   },
   {
    "duration": 132,
    "start_time": "2023-02-26T16:09:22.458Z"
   },
   {
    "duration": 121,
    "start_time": "2023-02-26T16:09:22.591Z"
   },
   {
    "duration": 130,
    "start_time": "2023-02-26T16:09:22.714Z"
   },
   {
    "duration": 232,
    "start_time": "2023-02-26T16:09:22.846Z"
   },
   {
    "duration": 140,
    "start_time": "2023-02-26T16:09:23.080Z"
   },
   {
    "duration": 226,
    "start_time": "2023-02-26T16:09:23.221Z"
   },
   {
    "duration": 132,
    "start_time": "2023-02-26T16:09:23.448Z"
   },
   {
    "duration": 214,
    "start_time": "2023-02-26T16:09:23.581Z"
   },
   {
    "duration": 148,
    "start_time": "2023-02-26T16:09:23.796Z"
   },
   {
    "duration": 214,
    "start_time": "2023-02-26T16:09:23.945Z"
   },
   {
    "duration": 176,
    "start_time": "2023-02-26T16:09:24.160Z"
   },
   {
    "duration": 264,
    "start_time": "2023-02-26T16:09:24.337Z"
   },
   {
    "duration": 199,
    "start_time": "2023-02-26T16:09:24.602Z"
   },
   {
    "duration": 210,
    "start_time": "2023-02-26T16:09:24.802Z"
   },
   {
    "duration": 203,
    "start_time": "2023-02-26T16:09:25.014Z"
   },
   {
    "duration": 116,
    "start_time": "2023-02-26T16:09:25.219Z"
   },
   {
    "duration": 116,
    "start_time": "2023-02-26T16:09:25.336Z"
   },
   {
    "duration": 129,
    "start_time": "2023-02-26T16:09:25.453Z"
   },
   {
    "duration": 183,
    "start_time": "2023-02-26T16:09:25.583Z"
   },
   {
    "duration": 148,
    "start_time": "2023-02-26T16:09:25.768Z"
   },
   {
    "duration": 121,
    "start_time": "2023-02-26T16:09:25.918Z"
   },
   {
    "duration": 106,
    "start_time": "2023-02-26T16:09:26.041Z"
   },
   {
    "duration": 0,
    "start_time": "2023-02-26T16:09:26.149Z"
   },
   {
    "duration": 0,
    "start_time": "2023-02-26T16:09:26.150Z"
   },
   {
    "duration": 0,
    "start_time": "2023-02-26T16:09:26.151Z"
   },
   {
    "duration": 108,
    "start_time": "2023-02-26T16:10:06.527Z"
   },
   {
    "duration": 131,
    "start_time": "2023-02-26T16:10:06.686Z"
   },
   {
    "duration": 27933,
    "start_time": "2023-02-26T16:10:06.870Z"
   },
   {
    "duration": 70807,
    "start_time": "2023-02-26T16:10:45.481Z"
   },
   {
    "duration": 21,
    "start_time": "2023-02-26T16:16:04.005Z"
   },
   {
    "duration": 646,
    "start_time": "2023-02-27T19:38:12.329Z"
   },
   {
    "duration": 743,
    "start_time": "2023-02-27T19:46:55.104Z"
   },
   {
    "duration": 540,
    "start_time": "2023-02-27T19:47:09.025Z"
   },
   {
    "duration": 397,
    "start_time": "2023-02-27T19:47:09.567Z"
   },
   {
    "duration": 0,
    "start_time": "2023-02-27T19:47:09.967Z"
   },
   {
    "duration": 0,
    "start_time": "2023-02-27T19:47:09.969Z"
   },
   {
    "duration": 0,
    "start_time": "2023-02-27T19:47:09.970Z"
   },
   {
    "duration": 0,
    "start_time": "2023-02-27T19:47:09.972Z"
   },
   {
    "duration": 0,
    "start_time": "2023-02-27T19:47:09.973Z"
   },
   {
    "duration": 0,
    "start_time": "2023-02-27T19:47:09.974Z"
   },
   {
    "duration": 0,
    "start_time": "2023-02-27T19:47:09.975Z"
   },
   {
    "duration": 0,
    "start_time": "2023-02-27T19:47:09.977Z"
   },
   {
    "duration": 0,
    "start_time": "2023-02-27T19:47:09.978Z"
   },
   {
    "duration": 0,
    "start_time": "2023-02-27T19:47:09.979Z"
   },
   {
    "duration": 0,
    "start_time": "2023-02-27T19:47:09.980Z"
   },
   {
    "duration": 0,
    "start_time": "2023-02-27T19:47:09.981Z"
   },
   {
    "duration": 0,
    "start_time": "2023-02-27T19:47:09.983Z"
   },
   {
    "duration": 0,
    "start_time": "2023-02-27T19:47:09.984Z"
   },
   {
    "duration": 0,
    "start_time": "2023-02-27T19:47:09.985Z"
   },
   {
    "duration": 0,
    "start_time": "2023-02-27T19:47:09.986Z"
   },
   {
    "duration": 0,
    "start_time": "2023-02-27T19:47:09.988Z"
   },
   {
    "duration": 0,
    "start_time": "2023-02-27T19:47:09.989Z"
   },
   {
    "duration": 0,
    "start_time": "2023-02-27T19:47:09.990Z"
   },
   {
    "duration": 0,
    "start_time": "2023-02-27T19:47:09.991Z"
   },
   {
    "duration": 0,
    "start_time": "2023-02-27T19:47:09.992Z"
   },
   {
    "duration": 0,
    "start_time": "2023-02-27T19:47:09.993Z"
   },
   {
    "duration": 0,
    "start_time": "2023-02-27T19:47:09.994Z"
   },
   {
    "duration": 0,
    "start_time": "2023-02-27T19:47:10.041Z"
   },
   {
    "duration": 0,
    "start_time": "2023-02-27T19:47:10.042Z"
   },
   {
    "duration": 0,
    "start_time": "2023-02-27T19:47:10.044Z"
   },
   {
    "duration": 0,
    "start_time": "2023-02-27T19:47:10.044Z"
   },
   {
    "duration": 0,
    "start_time": "2023-02-27T19:47:10.046Z"
   },
   {
    "duration": 0,
    "start_time": "2023-02-27T19:47:10.047Z"
   },
   {
    "duration": 0,
    "start_time": "2023-02-27T19:47:10.048Z"
   },
   {
    "duration": 0,
    "start_time": "2023-02-27T19:47:10.050Z"
   },
   {
    "duration": 0,
    "start_time": "2023-02-27T19:47:10.051Z"
   },
   {
    "duration": 0,
    "start_time": "2023-02-27T19:47:10.052Z"
   },
   {
    "duration": 0,
    "start_time": "2023-02-27T19:47:10.054Z"
   },
   {
    "duration": 0,
    "start_time": "2023-02-27T19:47:10.055Z"
   },
   {
    "duration": 0,
    "start_time": "2023-02-27T19:47:10.056Z"
   },
   {
    "duration": 0,
    "start_time": "2023-02-27T19:47:10.057Z"
   },
   {
    "duration": 0,
    "start_time": "2023-02-27T19:47:10.058Z"
   },
   {
    "duration": 727,
    "start_time": "2023-02-27T19:47:20.215Z"
   },
   {
    "duration": 10,
    "start_time": "2023-02-27T19:48:27.894Z"
   },
   {
    "duration": 559,
    "start_time": "2023-02-27T19:49:03.176Z"
   },
   {
    "duration": 224,
    "start_time": "2023-02-27T19:49:03.737Z"
   },
   {
    "duration": 0,
    "start_time": "2023-02-27T19:49:03.964Z"
   },
   {
    "duration": 0,
    "start_time": "2023-02-27T19:49:03.965Z"
   },
   {
    "duration": 0,
    "start_time": "2023-02-27T19:49:03.966Z"
   },
   {
    "duration": 0,
    "start_time": "2023-02-27T19:49:03.967Z"
   },
   {
    "duration": 0,
    "start_time": "2023-02-27T19:49:03.969Z"
   },
   {
    "duration": 0,
    "start_time": "2023-02-27T19:49:03.970Z"
   },
   {
    "duration": 0,
    "start_time": "2023-02-27T19:49:03.972Z"
   },
   {
    "duration": 0,
    "start_time": "2023-02-27T19:49:03.973Z"
   },
   {
    "duration": 0,
    "start_time": "2023-02-27T19:49:03.974Z"
   },
   {
    "duration": 0,
    "start_time": "2023-02-27T19:49:03.975Z"
   },
   {
    "duration": 0,
    "start_time": "2023-02-27T19:49:03.976Z"
   },
   {
    "duration": 0,
    "start_time": "2023-02-27T19:49:03.977Z"
   },
   {
    "duration": 0,
    "start_time": "2023-02-27T19:49:03.978Z"
   },
   {
    "duration": 0,
    "start_time": "2023-02-27T19:49:03.979Z"
   },
   {
    "duration": 0,
    "start_time": "2023-02-27T19:49:03.980Z"
   },
   {
    "duration": 0,
    "start_time": "2023-02-27T19:49:03.981Z"
   },
   {
    "duration": 0,
    "start_time": "2023-02-27T19:49:03.982Z"
   },
   {
    "duration": 0,
    "start_time": "2023-02-27T19:49:03.983Z"
   },
   {
    "duration": 0,
    "start_time": "2023-02-27T19:49:03.984Z"
   },
   {
    "duration": 0,
    "start_time": "2023-02-27T19:49:03.985Z"
   },
   {
    "duration": 0,
    "start_time": "2023-02-27T19:49:03.986Z"
   },
   {
    "duration": 0,
    "start_time": "2023-02-27T19:49:03.987Z"
   },
   {
    "duration": 0,
    "start_time": "2023-02-27T19:49:03.988Z"
   },
   {
    "duration": 0,
    "start_time": "2023-02-27T19:49:03.989Z"
   },
   {
    "duration": 0,
    "start_time": "2023-02-27T19:49:03.990Z"
   },
   {
    "duration": 0,
    "start_time": "2023-02-27T19:49:03.991Z"
   },
   {
    "duration": 0,
    "start_time": "2023-02-27T19:49:03.992Z"
   },
   {
    "duration": 0,
    "start_time": "2023-02-27T19:49:04.040Z"
   },
   {
    "duration": 0,
    "start_time": "2023-02-27T19:49:04.042Z"
   },
   {
    "duration": 0,
    "start_time": "2023-02-27T19:49:04.043Z"
   },
   {
    "duration": 0,
    "start_time": "2023-02-27T19:49:04.044Z"
   },
   {
    "duration": 0,
    "start_time": "2023-02-27T19:49:04.045Z"
   },
   {
    "duration": 0,
    "start_time": "2023-02-27T19:49:04.047Z"
   },
   {
    "duration": 0,
    "start_time": "2023-02-27T19:49:04.048Z"
   },
   {
    "duration": 0,
    "start_time": "2023-02-27T19:49:04.049Z"
   },
   {
    "duration": 0,
    "start_time": "2023-02-27T19:49:04.051Z"
   },
   {
    "duration": 0,
    "start_time": "2023-02-27T19:49:04.052Z"
   },
   {
    "duration": 0,
    "start_time": "2023-02-27T19:49:04.053Z"
   },
   {
    "duration": 1205,
    "start_time": "2023-02-27T19:50:01.746Z"
   },
   {
    "duration": 93,
    "start_time": "2023-02-27T19:50:48.835Z"
   },
   {
    "duration": 16,
    "start_time": "2023-02-27T19:50:48.931Z"
   },
   {
    "duration": 0,
    "start_time": "2023-02-27T19:50:48.950Z"
   },
   {
    "duration": 0,
    "start_time": "2023-02-27T19:50:48.951Z"
   },
   {
    "duration": 0,
    "start_time": "2023-02-27T19:50:48.952Z"
   },
   {
    "duration": 0,
    "start_time": "2023-02-27T19:50:48.953Z"
   },
   {
    "duration": 0,
    "start_time": "2023-02-27T19:50:48.954Z"
   },
   {
    "duration": 0,
    "start_time": "2023-02-27T19:50:48.956Z"
   },
   {
    "duration": 0,
    "start_time": "2023-02-27T19:50:48.958Z"
   },
   {
    "duration": 0,
    "start_time": "2023-02-27T19:50:48.959Z"
   },
   {
    "duration": 0,
    "start_time": "2023-02-27T19:50:48.960Z"
   },
   {
    "duration": 0,
    "start_time": "2023-02-27T19:50:48.961Z"
   },
   {
    "duration": 0,
    "start_time": "2023-02-27T19:50:48.962Z"
   },
   {
    "duration": 0,
    "start_time": "2023-02-27T19:50:48.964Z"
   },
   {
    "duration": 0,
    "start_time": "2023-02-27T19:50:48.965Z"
   },
   {
    "duration": 0,
    "start_time": "2023-02-27T19:50:48.966Z"
   },
   {
    "duration": 0,
    "start_time": "2023-02-27T19:50:48.967Z"
   },
   {
    "duration": 0,
    "start_time": "2023-02-27T19:50:48.968Z"
   },
   {
    "duration": 0,
    "start_time": "2023-02-27T19:50:48.969Z"
   },
   {
    "duration": 0,
    "start_time": "2023-02-27T19:50:48.970Z"
   },
   {
    "duration": 0,
    "start_time": "2023-02-27T19:50:48.972Z"
   },
   {
    "duration": 0,
    "start_time": "2023-02-27T19:50:48.973Z"
   },
   {
    "duration": 0,
    "start_time": "2023-02-27T19:50:48.974Z"
   },
   {
    "duration": 0,
    "start_time": "2023-02-27T19:50:48.975Z"
   },
   {
    "duration": 0,
    "start_time": "2023-02-27T19:50:48.976Z"
   },
   {
    "duration": 0,
    "start_time": "2023-02-27T19:50:48.977Z"
   },
   {
    "duration": 0,
    "start_time": "2023-02-27T19:50:48.978Z"
   },
   {
    "duration": 0,
    "start_time": "2023-02-27T19:50:48.979Z"
   },
   {
    "duration": 0,
    "start_time": "2023-02-27T19:50:48.980Z"
   },
   {
    "duration": 0,
    "start_time": "2023-02-27T19:50:48.981Z"
   },
   {
    "duration": 0,
    "start_time": "2023-02-27T19:50:48.982Z"
   },
   {
    "duration": 0,
    "start_time": "2023-02-27T19:50:49.040Z"
   },
   {
    "duration": 0,
    "start_time": "2023-02-27T19:50:49.041Z"
   },
   {
    "duration": 0,
    "start_time": "2023-02-27T19:50:49.043Z"
   },
   {
    "duration": 0,
    "start_time": "2023-02-27T19:50:49.044Z"
   },
   {
    "duration": 0,
    "start_time": "2023-02-27T19:50:49.046Z"
   },
   {
    "duration": 0,
    "start_time": "2023-02-27T19:50:49.047Z"
   },
   {
    "duration": 0,
    "start_time": "2023-02-27T19:50:49.049Z"
   },
   {
    "duration": 0,
    "start_time": "2023-02-27T19:50:49.050Z"
   },
   {
    "duration": 0,
    "start_time": "2023-02-27T19:50:49.052Z"
   },
   {
    "duration": 92,
    "start_time": "2023-02-27T19:51:02.746Z"
   },
   {
    "duration": 11,
    "start_time": "2023-02-27T19:51:05.076Z"
   },
   {
    "duration": 83,
    "start_time": "2023-02-27T19:51:25.751Z"
   },
   {
    "duration": 87,
    "start_time": "2023-02-27T19:51:28.946Z"
   },
   {
    "duration": 91,
    "start_time": "2023-02-27T19:51:33.193Z"
   },
   {
    "duration": 12,
    "start_time": "2023-02-27T19:51:35.980Z"
   },
   {
    "duration": 13,
    "start_time": "2023-02-27T19:51:39.935Z"
   },
   {
    "duration": 143,
    "start_time": "2023-02-27T19:52:01.083Z"
   },
   {
    "duration": 594,
    "start_time": "2023-02-27T19:52:07.118Z"
   },
   {
    "duration": 159,
    "start_time": "2023-02-27T19:52:14.921Z"
   },
   {
    "duration": 572,
    "start_time": "2023-02-27T19:52:15.081Z"
   },
   {
    "duration": 23,
    "start_time": "2023-02-27T19:52:15.655Z"
   },
   {
    "duration": 77,
    "start_time": "2023-02-27T19:52:15.680Z"
   },
   {
    "duration": 5,
    "start_time": "2023-02-27T19:52:15.760Z"
   },
   {
    "duration": 94,
    "start_time": "2023-02-27T19:52:15.767Z"
   },
   {
    "duration": 6,
    "start_time": "2023-02-27T19:52:15.863Z"
   },
   {
    "duration": 18,
    "start_time": "2023-02-27T19:52:15.871Z"
   },
   {
    "duration": 115,
    "start_time": "2023-02-27T19:52:15.891Z"
   },
   {
    "duration": 14,
    "start_time": "2023-02-27T19:52:16.008Z"
   },
   {
    "duration": 26,
    "start_time": "2023-02-27T19:52:16.024Z"
   },
   {
    "duration": 56,
    "start_time": "2023-02-27T19:52:16.052Z"
   },
   {
    "duration": 419,
    "start_time": "2023-02-27T19:52:16.111Z"
   },
   {
    "duration": 198,
    "start_time": "2023-02-27T19:52:16.539Z"
   },
   {
    "duration": 196,
    "start_time": "2023-02-27T19:52:16.739Z"
   },
   {
    "duration": 220,
    "start_time": "2023-02-27T19:52:16.940Z"
   },
   {
    "duration": 210,
    "start_time": "2023-02-27T19:52:17.162Z"
   },
   {
    "duration": 166,
    "start_time": "2023-02-27T19:52:17.374Z"
   },
   {
    "duration": 234,
    "start_time": "2023-02-27T19:52:17.541Z"
   },
   {
    "duration": 160,
    "start_time": "2023-02-27T19:52:17.777Z"
   },
   {
    "duration": 163,
    "start_time": "2023-02-27T19:52:17.940Z"
   },
   {
    "duration": 204,
    "start_time": "2023-02-27T19:52:18.105Z"
   },
   {
    "duration": 184,
    "start_time": "2023-02-27T19:52:18.311Z"
   },
   {
    "duration": 271,
    "start_time": "2023-02-27T19:52:18.497Z"
   },
   {
    "duration": 164,
    "start_time": "2023-02-27T19:52:18.770Z"
   },
   {
    "duration": 275,
    "start_time": "2023-02-27T19:52:18.939Z"
   },
   {
    "duration": 180,
    "start_time": "2023-02-27T19:52:19.216Z"
   },
   {
    "duration": 376,
    "start_time": "2023-02-27T19:52:19.398Z"
   },
   {
    "duration": 229,
    "start_time": "2023-02-27T19:52:19.776Z"
   },
   {
    "duration": 259,
    "start_time": "2023-02-27T19:52:20.007Z"
   },
   {
    "duration": 246,
    "start_time": "2023-02-27T19:52:20.267Z"
   },
   {
    "duration": 265,
    "start_time": "2023-02-27T19:52:20.515Z"
   },
   {
    "duration": 437,
    "start_time": "2023-02-27T19:52:20.782Z"
   },
   {
    "duration": 169,
    "start_time": "2023-02-27T19:52:21.221Z"
   },
   {
    "duration": 142,
    "start_time": "2023-02-27T19:52:21.392Z"
   },
   {
    "duration": 228,
    "start_time": "2023-02-27T19:52:21.535Z"
   },
   {
    "duration": 214,
    "start_time": "2023-02-27T19:52:21.765Z"
   },
   {
    "duration": 179,
    "start_time": "2023-02-27T19:52:21.981Z"
   },
   {
    "duration": 159,
    "start_time": "2023-02-27T19:52:22.163Z"
   },
   {
    "duration": 89072,
    "start_time": "2023-02-27T19:52:22.324Z"
   },
   {
    "duration": 45,
    "start_time": "2023-02-27T19:54:41.268Z"
   },
   {
    "duration": 42,
    "start_time": "2023-02-27T19:54:47.317Z"
   },
   {
    "duration": 45,
    "start_time": "2023-02-27T19:55:37.343Z"
   },
   {
    "duration": 51,
    "start_time": "2023-02-27T19:55:45.198Z"
   },
   {
    "duration": 14,
    "start_time": "2023-02-27T19:56:10.497Z"
   },
   {
    "duration": 48,
    "start_time": "2023-02-27T19:56:47.283Z"
   },
   {
    "duration": 45,
    "start_time": "2023-02-27T19:57:02.937Z"
   },
   {
    "duration": 51,
    "start_time": "2023-02-27T19:57:08.049Z"
   },
   {
    "duration": 27,
    "start_time": "2023-02-27T19:57:16.369Z"
   },
   {
    "duration": 12,
    "start_time": "2023-02-27T19:57:27.921Z"
   },
   {
    "duration": 49,
    "start_time": "2023-02-27T19:57:37.153Z"
   },
   {
    "duration": 51,
    "start_time": "2023-02-27T19:58:24.350Z"
   },
   {
    "duration": 50,
    "start_time": "2023-02-27T19:58:33.481Z"
   },
   {
    "duration": 71,
    "start_time": "2023-02-27T19:59:01.929Z"
   },
   {
    "duration": 10,
    "start_time": "2023-02-27T19:59:52.000Z"
   },
   {
    "duration": 15,
    "start_time": "2023-02-27T19:59:56.929Z"
   },
   {
    "duration": 70,
    "start_time": "2023-02-27T20:00:15.057Z"
   },
   {
    "duration": 22,
    "start_time": "2023-02-27T20:00:21.581Z"
   },
   {
    "duration": 26,
    "start_time": "2023-02-27T20:00:34.261Z"
   },
   {
    "duration": 61,
    "start_time": "2023-02-27T20:01:27.782Z"
   },
   {
    "duration": 10,
    "start_time": "2023-02-27T20:01:44.851Z"
   },
   {
    "duration": 14,
    "start_time": "2023-02-27T20:02:08.938Z"
   },
   {
    "duration": 126,
    "start_time": "2023-02-27T20:03:22.892Z"
   },
   {
    "duration": 12,
    "start_time": "2023-02-27T20:04:14.559Z"
   },
   {
    "duration": 141,
    "start_time": "2023-02-27T20:04:17.663Z"
   },
   {
    "duration": 40,
    "start_time": "2023-02-27T20:04:21.868Z"
   },
   {
    "duration": 255,
    "start_time": "2023-02-27T20:11:23.455Z"
   },
   {
    "duration": 246,
    "start_time": "2023-02-27T20:13:07.690Z"
   },
   {
    "duration": 214,
    "start_time": "2023-02-27T20:13:39.215Z"
   },
   {
    "duration": 221,
    "start_time": "2023-02-27T20:14:04.424Z"
   },
   {
    "duration": 224,
    "start_time": "2023-02-27T20:14:57.426Z"
   },
   {
    "duration": 173,
    "start_time": "2023-02-27T20:16:50.980Z"
   },
   {
    "duration": 168,
    "start_time": "2023-02-27T20:17:04.514Z"
   },
   {
    "duration": 155,
    "start_time": "2023-02-27T20:17:15.503Z"
   },
   {
    "duration": 178,
    "start_time": "2023-02-27T20:17:41.273Z"
   },
   {
    "duration": 159,
    "start_time": "2023-02-27T20:17:50.880Z"
   },
   {
    "duration": 204,
    "start_time": "2023-02-27T20:18:14.173Z"
   },
   {
    "duration": 182,
    "start_time": "2023-02-27T20:18:24.991Z"
   },
   {
    "duration": 282,
    "start_time": "2023-02-27T20:18:51.179Z"
   },
   {
    "duration": 223,
    "start_time": "2023-02-27T20:19:04.793Z"
   },
   {
    "duration": 260,
    "start_time": "2023-02-27T20:19:23.256Z"
   },
   {
    "duration": 306,
    "start_time": "2023-02-27T20:19:39.778Z"
   },
   {
    "duration": 474,
    "start_time": "2023-02-27T20:19:51.460Z"
   },
   {
    "duration": 435,
    "start_time": "2023-02-27T20:20:50.414Z"
   },
   {
    "duration": 290,
    "start_time": "2023-02-27T20:21:04.988Z"
   },
   {
    "duration": 356,
    "start_time": "2023-02-27T20:21:29.249Z"
   },
   {
    "duration": 268,
    "start_time": "2023-02-27T20:21:41.354Z"
   },
   {
    "duration": 406,
    "start_time": "2023-02-27T20:21:58.827Z"
   },
   {
    "duration": 321,
    "start_time": "2023-02-27T20:22:05.377Z"
   },
   {
    "duration": 182,
    "start_time": "2023-02-27T20:22:36.739Z"
   },
   {
    "duration": 165,
    "start_time": "2023-02-27T20:22:45.224Z"
   },
   {
    "duration": 198,
    "start_time": "2023-02-27T20:23:12.123Z"
   },
   {
    "duration": 188,
    "start_time": "2023-02-27T20:23:23.925Z"
   },
   {
    "duration": 225,
    "start_time": "2023-02-27T20:23:47.558Z"
   },
   {
    "duration": 169,
    "start_time": "2023-02-27T20:24:17.114Z"
   },
   {
    "duration": 46,
    "start_time": "2023-02-27T20:24:32.058Z"
   },
   {
    "duration": 28,
    "start_time": "2023-02-27T20:24:39.210Z"
   },
   {
    "duration": 30,
    "start_time": "2023-02-27T20:39:35.758Z"
   },
   {
    "duration": 94315,
    "start_time": "2023-02-27T20:44:40.393Z"
   },
   {
    "duration": 622,
    "start_time": "2023-02-28T11:05:47.604Z"
   },
   {
    "duration": 904,
    "start_time": "2023-02-28T11:05:48.229Z"
   },
   {
    "duration": 19,
    "start_time": "2023-02-28T11:05:49.135Z"
   },
   {
    "duration": 25,
    "start_time": "2023-02-28T11:05:49.157Z"
   },
   {
    "duration": 71,
    "start_time": "2023-02-28T11:05:49.184Z"
   },
   {
    "duration": 5,
    "start_time": "2023-02-28T11:05:49.256Z"
   },
   {
    "duration": 84,
    "start_time": "2023-02-28T11:05:49.263Z"
   },
   {
    "duration": 6,
    "start_time": "2023-02-28T11:05:49.349Z"
   },
   {
    "duration": 11,
    "start_time": "2023-02-28T11:05:49.357Z"
   },
   {
    "duration": 111,
    "start_time": "2023-02-28T11:05:49.371Z"
   },
   {
    "duration": 21,
    "start_time": "2023-02-28T11:05:49.484Z"
   },
   {
    "duration": 14,
    "start_time": "2023-02-28T11:05:49.507Z"
   },
   {
    "duration": 48,
    "start_time": "2023-02-28T11:05:49.523Z"
   },
   {
    "duration": 436,
    "start_time": "2023-02-28T11:05:49.573Z"
   },
   {
    "duration": 230,
    "start_time": "2023-02-28T11:05:50.011Z"
   },
   {
    "duration": 217,
    "start_time": "2023-02-28T11:05:50.243Z"
   },
   {
    "duration": 235,
    "start_time": "2023-02-28T11:05:50.462Z"
   },
   {
    "duration": 253,
    "start_time": "2023-02-28T11:05:50.699Z"
   },
   {
    "duration": 193,
    "start_time": "2023-02-28T11:05:50.954Z"
   },
   {
    "duration": 176,
    "start_time": "2023-02-28T11:05:51.149Z"
   },
   {
    "duration": 161,
    "start_time": "2023-02-28T11:05:51.327Z"
   },
   {
    "duration": 249,
    "start_time": "2023-02-28T11:05:51.490Z"
   },
   {
    "duration": 222,
    "start_time": "2023-02-28T11:05:51.741Z"
   },
   {
    "duration": 186,
    "start_time": "2023-02-28T11:05:51.965Z"
   },
   {
    "duration": 274,
    "start_time": "2023-02-28T11:05:52.153Z"
   },
   {
    "duration": 186,
    "start_time": "2023-02-28T11:05:52.429Z"
   },
   {
    "duration": 270,
    "start_time": "2023-02-28T11:05:52.617Z"
   },
   {
    "duration": 415,
    "start_time": "2023-02-28T11:05:52.890Z"
   },
   {
    "duration": 367,
    "start_time": "2023-02-28T11:05:53.307Z"
   },
   {
    "duration": 212,
    "start_time": "2023-02-28T11:05:53.676Z"
   },
   {
    "duration": 324,
    "start_time": "2023-02-28T11:05:53.890Z"
   },
   {
    "duration": 258,
    "start_time": "2023-02-28T11:05:54.216Z"
   },
   {
    "duration": 244,
    "start_time": "2023-02-28T11:05:54.476Z"
   },
   {
    "duration": 390,
    "start_time": "2023-02-28T11:05:54.722Z"
   },
   {
    "duration": 156,
    "start_time": "2023-02-28T11:05:55.114Z"
   },
   {
    "duration": 151,
    "start_time": "2023-02-28T11:05:55.272Z"
   },
   {
    "duration": 164,
    "start_time": "2023-02-28T11:05:55.424Z"
   },
   {
    "duration": 167,
    "start_time": "2023-02-28T11:05:55.590Z"
   },
   {
    "duration": 179,
    "start_time": "2023-02-28T11:05:55.759Z"
   },
   {
    "duration": 152,
    "start_time": "2023-02-28T11:05:55.940Z"
   },
   {
    "duration": 33,
    "start_time": "2023-02-28T11:05:56.094Z"
   },
   {
    "duration": 85067,
    "start_time": "2023-02-28T11:05:56.130Z"
   },
   {
    "duration": 618,
    "start_time": "2023-02-28T11:12:07.816Z"
   },
   {
    "duration": 898,
    "start_time": "2023-02-28T11:12:08.436Z"
   },
   {
    "duration": 21,
    "start_time": "2023-02-28T11:12:09.336Z"
   },
   {
    "duration": 59,
    "start_time": "2023-02-28T11:12:09.359Z"
   },
   {
    "duration": 64,
    "start_time": "2023-02-28T11:12:09.420Z"
   },
   {
    "duration": 5,
    "start_time": "2023-02-28T11:12:09.486Z"
   },
   {
    "duration": 99,
    "start_time": "2023-02-28T11:12:09.493Z"
   },
   {
    "duration": 13,
    "start_time": "2023-02-28T11:12:09.594Z"
   },
   {
    "duration": 12,
    "start_time": "2023-02-28T11:12:09.609Z"
   },
   {
    "duration": 130,
    "start_time": "2023-02-28T11:12:09.625Z"
   },
   {
    "duration": 14,
    "start_time": "2023-02-28T11:12:09.757Z"
   },
   {
    "duration": 33,
    "start_time": "2023-02-28T11:12:09.773Z"
   },
   {
    "duration": 71,
    "start_time": "2023-02-28T11:12:09.808Z"
   },
   {
    "duration": 518,
    "start_time": "2023-02-28T11:12:09.881Z"
   },
   {
    "duration": 237,
    "start_time": "2023-02-28T11:12:10.401Z"
   },
   {
    "duration": 283,
    "start_time": "2023-02-28T11:12:10.640Z"
   },
   {
    "duration": 256,
    "start_time": "2023-02-28T11:12:10.924Z"
   },
   {
    "duration": 249,
    "start_time": "2023-02-28T11:12:11.182Z"
   },
   {
    "duration": 183,
    "start_time": "2023-02-28T11:12:11.433Z"
   },
   {
    "duration": 176,
    "start_time": "2023-02-28T11:12:11.617Z"
   },
   {
    "duration": 186,
    "start_time": "2023-02-28T11:12:11.804Z"
   },
   {
    "duration": 172,
    "start_time": "2023-02-28T11:12:11.992Z"
   },
   {
    "duration": 320,
    "start_time": "2023-02-28T11:12:12.167Z"
   },
   {
    "duration": 212,
    "start_time": "2023-02-28T11:12:12.490Z"
   },
   {
    "duration": 342,
    "start_time": "2023-02-28T11:12:12.704Z"
   },
   {
    "duration": 231,
    "start_time": "2023-02-28T11:12:13.048Z"
   },
   {
    "duration": 329,
    "start_time": "2023-02-28T11:12:13.282Z"
   },
   {
    "duration": 574,
    "start_time": "2023-02-28T11:12:13.615Z"
   },
   {
    "duration": 430,
    "start_time": "2023-02-28T11:12:14.191Z"
   },
   {
    "duration": 229,
    "start_time": "2023-02-28T11:12:14.623Z"
   },
   {
    "duration": 279,
    "start_time": "2023-02-28T11:12:14.854Z"
   },
   {
    "duration": 293,
    "start_time": "2023-02-28T11:12:15.135Z"
   },
   {
    "duration": 327,
    "start_time": "2023-02-28T11:12:15.430Z"
   },
   {
    "duration": 289,
    "start_time": "2023-02-28T11:12:15.759Z"
   },
   {
    "duration": 309,
    "start_time": "2023-02-28T11:12:16.050Z"
   },
   {
    "duration": 163,
    "start_time": "2023-02-28T11:12:16.360Z"
   },
   {
    "duration": 209,
    "start_time": "2023-02-28T11:12:16.525Z"
   },
   {
    "duration": 174,
    "start_time": "2023-02-28T11:12:16.736Z"
   },
   {
    "duration": 192,
    "start_time": "2023-02-28T11:12:16.912Z"
   },
   {
    "duration": 184,
    "start_time": "2023-02-28T11:12:17.107Z"
   },
   {
    "duration": 38,
    "start_time": "2023-02-28T11:12:17.292Z"
   },
   {
    "duration": 86915,
    "start_time": "2023-02-28T11:12:17.331Z"
   },
   {
    "duration": 741,
    "start_time": "2023-02-28T18:35:38.690Z"
   },
   {
    "duration": 864,
    "start_time": "2023-02-28T18:35:39.434Z"
   },
   {
    "duration": 19,
    "start_time": "2023-02-28T18:35:40.299Z"
   },
   {
    "duration": 45,
    "start_time": "2023-02-28T18:35:40.321Z"
   },
   {
    "duration": 60,
    "start_time": "2023-02-28T18:35:40.368Z"
   },
   {
    "duration": 21,
    "start_time": "2023-02-28T18:35:40.430Z"
   },
   {
    "duration": 85,
    "start_time": "2023-02-28T18:35:40.453Z"
   },
   {
    "duration": 17,
    "start_time": "2023-02-28T18:35:40.540Z"
   },
   {
    "duration": 19,
    "start_time": "2023-02-28T18:35:40.559Z"
   },
   {
    "duration": 124,
    "start_time": "2023-02-28T18:35:40.583Z"
   },
   {
    "duration": 11,
    "start_time": "2023-02-28T18:35:40.709Z"
   },
   {
    "duration": 26,
    "start_time": "2023-02-28T18:35:40.723Z"
   },
   {
    "duration": 50,
    "start_time": "2023-02-28T18:35:40.751Z"
   },
   {
    "duration": 451,
    "start_time": "2023-02-28T18:35:40.803Z"
   },
   {
    "duration": 212,
    "start_time": "2023-02-28T18:35:41.256Z"
   },
   {
    "duration": 190,
    "start_time": "2023-02-28T18:35:41.469Z"
   },
   {
    "duration": 207,
    "start_time": "2023-02-28T18:35:41.661Z"
   },
   {
    "duration": 202,
    "start_time": "2023-02-28T18:35:41.870Z"
   },
   {
    "duration": 163,
    "start_time": "2023-02-28T18:35:42.074Z"
   },
   {
    "duration": 152,
    "start_time": "2023-02-28T18:35:42.239Z"
   },
   {
    "duration": 146,
    "start_time": "2023-02-28T18:35:42.393Z"
   },
   {
    "duration": 237,
    "start_time": "2023-02-28T18:35:42.541Z"
   },
   {
    "duration": 186,
    "start_time": "2023-02-28T18:35:42.780Z"
   },
   {
    "duration": 162,
    "start_time": "2023-02-28T18:35:42.968Z"
   },
   {
    "duration": 267,
    "start_time": "2023-02-28T18:35:43.131Z"
   },
   {
    "duration": 160,
    "start_time": "2023-02-28T18:35:43.399Z"
   },
   {
    "duration": 248,
    "start_time": "2023-02-28T18:35:43.561Z"
   },
   {
    "duration": 397,
    "start_time": "2023-02-28T18:35:43.812Z"
   },
   {
    "duration": 315,
    "start_time": "2023-02-28T18:35:44.210Z"
   },
   {
    "duration": 200,
    "start_time": "2023-02-28T18:35:44.526Z"
   },
   {
    "duration": 248,
    "start_time": "2023-02-28T18:35:44.727Z"
   },
   {
    "duration": 239,
    "start_time": "2023-02-28T18:35:44.976Z"
   },
   {
    "duration": 242,
    "start_time": "2023-02-28T18:35:45.218Z"
   },
   {
    "duration": 385,
    "start_time": "2023-02-28T18:35:45.462Z"
   },
   {
    "duration": 147,
    "start_time": "2023-02-28T18:35:45.850Z"
   },
   {
    "duration": 157,
    "start_time": "2023-02-28T18:35:45.998Z"
   },
   {
    "duration": 213,
    "start_time": "2023-02-28T18:35:46.157Z"
   },
   {
    "duration": 151,
    "start_time": "2023-02-28T18:35:46.372Z"
   },
   {
    "duration": 161,
    "start_time": "2023-02-28T18:35:46.525Z"
   },
   {
    "duration": 142,
    "start_time": "2023-02-28T18:35:46.688Z"
   },
   {
    "duration": 30,
    "start_time": "2023-02-28T18:35:46.831Z"
   },
   {
    "duration": 77996,
    "start_time": "2023-02-28T18:35:46.863Z"
   },
   {
    "duration": 74,
    "start_time": "2023-02-28T18:38:06.340Z"
   },
   {
    "duration": 73,
    "start_time": "2023-02-28T18:38:57.947Z"
   },
   {
    "duration": 72,
    "start_time": "2023-02-28T18:39:36.028Z"
   },
   {
    "duration": 115,
    "start_time": "2023-02-28T18:40:04.210Z"
   },
   {
    "duration": 64,
    "start_time": "2023-02-28T18:40:48.970Z"
   },
   {
    "duration": 77,
    "start_time": "2023-02-28T18:41:49.327Z"
   },
   {
    "duration": 524,
    "start_time": "2023-02-28T18:44:06.712Z"
   },
   {
    "duration": 690,
    "start_time": "2023-02-28T18:44:07.238Z"
   },
   {
    "duration": 25,
    "start_time": "2023-02-28T18:44:07.929Z"
   },
   {
    "duration": 21,
    "start_time": "2023-02-28T18:44:07.956Z"
   },
   {
    "duration": 48,
    "start_time": "2023-02-28T18:44:07.979Z"
   },
   {
    "duration": 20,
    "start_time": "2023-02-28T18:44:08.029Z"
   },
   {
    "duration": 83,
    "start_time": "2023-02-28T18:44:08.051Z"
   },
   {
    "duration": 5,
    "start_time": "2023-02-28T18:44:08.136Z"
   },
   {
    "duration": 23,
    "start_time": "2023-02-28T18:44:08.143Z"
   },
   {
    "duration": 87,
    "start_time": "2023-02-28T18:44:08.168Z"
   },
   {
    "duration": 10,
    "start_time": "2023-02-28T18:44:08.257Z"
   },
   {
    "duration": 25,
    "start_time": "2023-02-28T18:44:08.269Z"
   },
   {
    "duration": 53,
    "start_time": "2023-02-28T18:44:08.296Z"
   },
   {
    "duration": 419,
    "start_time": "2023-02-28T18:44:08.351Z"
   },
   {
    "duration": 198,
    "start_time": "2023-02-28T18:44:08.772Z"
   },
   {
    "duration": 181,
    "start_time": "2023-02-28T18:44:08.971Z"
   },
   {
    "duration": 183,
    "start_time": "2023-02-28T18:44:09.154Z"
   },
   {
    "duration": 196,
    "start_time": "2023-02-28T18:44:09.338Z"
   },
   {
    "duration": 147,
    "start_time": "2023-02-28T18:44:09.536Z"
   },
   {
    "duration": 155,
    "start_time": "2023-02-28T18:44:09.685Z"
   },
   {
    "duration": 145,
    "start_time": "2023-02-28T18:44:09.842Z"
   },
   {
    "duration": 149,
    "start_time": "2023-02-28T18:44:09.989Z"
   },
   {
    "duration": 275,
    "start_time": "2023-02-28T18:44:10.140Z"
   },
   {
    "duration": 148,
    "start_time": "2023-02-28T18:44:10.417Z"
   },
   {
    "duration": 271,
    "start_time": "2023-02-28T18:44:10.567Z"
   },
   {
    "duration": 161,
    "start_time": "2023-02-28T18:44:10.839Z"
   },
   {
    "duration": 256,
    "start_time": "2023-02-28T18:44:11.002Z"
   },
   {
    "duration": 418,
    "start_time": "2023-02-28T18:44:11.261Z"
   },
   {
    "duration": 405,
    "start_time": "2023-02-28T18:44:11.681Z"
   },
   {
    "duration": 221,
    "start_time": "2023-02-28T18:44:12.088Z"
   },
   {
    "duration": 269,
    "start_time": "2023-02-28T18:44:12.311Z"
   },
   {
    "duration": 254,
    "start_time": "2023-02-28T18:44:12.582Z"
   },
   {
    "duration": 259,
    "start_time": "2023-02-28T18:44:12.838Z"
   },
   {
    "duration": 286,
    "start_time": "2023-02-28T18:44:13.098Z"
   },
   {
    "duration": 291,
    "start_time": "2023-02-28T18:44:13.386Z"
   },
   {
    "duration": 159,
    "start_time": "2023-02-28T18:44:13.679Z"
   },
   {
    "duration": 163,
    "start_time": "2023-02-28T18:44:13.848Z"
   },
   {
    "duration": 162,
    "start_time": "2023-02-28T18:44:14.013Z"
   },
   {
    "duration": 206,
    "start_time": "2023-02-28T18:44:14.177Z"
   },
   {
    "duration": 168,
    "start_time": "2023-02-28T18:44:14.385Z"
   },
   {
    "duration": 27,
    "start_time": "2023-02-28T18:44:14.555Z"
   },
   {
    "duration": 20,
    "start_time": "2023-02-28T18:45:31.376Z"
   },
   {
    "duration": 31365,
    "start_time": "2023-02-28T18:45:31.398Z"
   },
   {
    "duration": 484,
    "start_time": "2023-02-28T18:52:59.185Z"
   },
   {
    "duration": 705,
    "start_time": "2023-02-28T18:52:59.671Z"
   },
   {
    "duration": 18,
    "start_time": "2023-02-28T18:53:00.378Z"
   },
   {
    "duration": 71,
    "start_time": "2023-02-28T18:53:00.398Z"
   },
   {
    "duration": 53,
    "start_time": "2023-02-28T18:53:00.470Z"
   },
   {
    "duration": 5,
    "start_time": "2023-02-28T18:53:00.524Z"
   },
   {
    "duration": 99,
    "start_time": "2023-02-28T18:53:00.531Z"
   },
   {
    "duration": 7,
    "start_time": "2023-02-28T18:53:00.631Z"
   },
   {
    "duration": 42,
    "start_time": "2023-02-28T18:53:00.639Z"
   },
   {
    "duration": 108,
    "start_time": "2023-02-28T18:53:00.684Z"
   },
   {
    "duration": 10,
    "start_time": "2023-02-28T18:53:00.794Z"
   },
   {
    "duration": 53,
    "start_time": "2023-02-28T18:53:00.806Z"
   },
   {
    "duration": 89,
    "start_time": "2023-02-28T18:53:00.861Z"
   },
   {
    "duration": 447,
    "start_time": "2023-02-28T18:53:00.951Z"
   },
   {
    "duration": 199,
    "start_time": "2023-02-28T18:53:01.400Z"
   },
   {
    "duration": 202,
    "start_time": "2023-02-28T18:53:01.601Z"
   },
   {
    "duration": 247,
    "start_time": "2023-02-28T18:53:01.805Z"
   },
   {
    "duration": 203,
    "start_time": "2023-02-28T18:53:02.054Z"
   },
   {
    "duration": 151,
    "start_time": "2023-02-28T18:53:02.259Z"
   },
   {
    "duration": 156,
    "start_time": "2023-02-28T18:53:02.411Z"
   },
   {
    "duration": 142,
    "start_time": "2023-02-28T18:53:02.569Z"
   },
   {
    "duration": 156,
    "start_time": "2023-02-28T18:53:02.713Z"
   },
   {
    "duration": 281,
    "start_time": "2023-02-28T18:53:02.873Z"
   },
   {
    "duration": 171,
    "start_time": "2023-02-28T18:53:03.156Z"
   },
   {
    "duration": 242,
    "start_time": "2023-02-28T18:53:03.329Z"
   },
   {
    "duration": 162,
    "start_time": "2023-02-28T18:53:03.573Z"
   },
   {
    "duration": 247,
    "start_time": "2023-02-28T18:53:03.737Z"
   },
   {
    "duration": 398,
    "start_time": "2023-02-28T18:53:03.987Z"
   },
   {
    "duration": 356,
    "start_time": "2023-02-28T18:53:04.387Z"
   },
   {
    "duration": 194,
    "start_time": "2023-02-28T18:53:04.744Z"
   },
   {
    "duration": 242,
    "start_time": "2023-02-28T18:53:04.939Z"
   },
   {
    "duration": 232,
    "start_time": "2023-02-28T18:53:05.183Z"
   },
   {
    "duration": 242,
    "start_time": "2023-02-28T18:53:05.417Z"
   },
   {
    "duration": 280,
    "start_time": "2023-02-28T18:53:05.661Z"
   },
   {
    "duration": 311,
    "start_time": "2023-02-28T18:53:05.943Z"
   },
   {
    "duration": 139,
    "start_time": "2023-02-28T18:53:06.255Z"
   },
   {
    "duration": 154,
    "start_time": "2023-02-28T18:53:06.396Z"
   },
   {
    "duration": 146,
    "start_time": "2023-02-28T18:53:06.551Z"
   },
   {
    "duration": 160,
    "start_time": "2023-02-28T18:53:06.698Z"
   },
   {
    "duration": 134,
    "start_time": "2023-02-28T18:53:06.860Z"
   },
   {
    "duration": 24,
    "start_time": "2023-02-28T18:53:06.995Z"
   },
   {
    "duration": 5,
    "start_time": "2023-02-28T18:53:07.020Z"
   },
   {
    "duration": 77435,
    "start_time": "2023-02-28T18:53:07.049Z"
   },
   {
    "duration": 77054,
    "start_time": "2023-02-28T18:55:15.830Z"
   },
   {
    "duration": 111,
    "start_time": "2023-02-28T18:58:08.414Z"
   },
   {
    "duration": 72,
    "start_time": "2023-02-28T18:58:26.605Z"
   },
   {
    "duration": 65,
    "start_time": "2023-02-28T18:59:36.456Z"
   },
   {
    "duration": 8,
    "start_time": "2023-02-28T19:00:16.427Z"
   },
   {
    "duration": 10,
    "start_time": "2023-02-28T19:00:48.122Z"
   },
   {
    "duration": 14,
    "start_time": "2023-02-28T19:02:10.621Z"
   },
   {
    "duration": 10,
    "start_time": "2023-02-28T19:02:15.105Z"
   },
   {
    "duration": 14,
    "start_time": "2023-02-28T19:02:43.216Z"
   },
   {
    "duration": 9,
    "start_time": "2023-02-28T19:04:18.769Z"
   },
   {
    "duration": 16,
    "start_time": "2023-02-28T19:04:24.316Z"
   },
   {
    "duration": 73,
    "start_time": "2023-02-28T19:05:12.050Z"
   },
   {
    "duration": 74,
    "start_time": "2023-02-28T19:05:19.067Z"
   },
   {
    "duration": 13,
    "start_time": "2023-02-28T19:05:34.785Z"
   },
   {
    "duration": 20,
    "start_time": "2023-02-28T19:06:47.749Z"
   },
   {
    "duration": 275,
    "start_time": "2023-02-28T19:06:54.503Z"
   },
   {
    "duration": 17,
    "start_time": "2023-02-28T19:07:34.112Z"
   },
   {
    "duration": 335,
    "start_time": "2023-02-28T19:07:37.404Z"
   },
   {
    "duration": 22,
    "start_time": "2023-02-28T19:07:46.731Z"
   },
   {
    "duration": 261,
    "start_time": "2023-02-28T19:07:50.207Z"
   }
  ],
  "kernelspec": {
   "display_name": "Python 3 (ipykernel)",
   "language": "python",
   "name": "python3"
  },
  "language_info": {
   "codemirror_mode": {
    "name": "ipython",
    "version": 3
   },
   "file_extension": ".py",
   "mimetype": "text/x-python",
   "name": "python",
   "nbconvert_exporter": "python",
   "pygments_lexer": "ipython3",
   "version": "3.9.13"
  },
  "toc": {
   "base_numbering": 1,
   "nav_menu": {},
   "number_sections": true,
   "sideBar": true,
   "skip_h1_title": true,
   "title_cell": "Table of Contents",
   "title_sidebar": "Contents",
   "toc_cell": false,
   "toc_position": {
    "height": "calc(100% - 180px)",
    "left": "10px",
    "top": "150px",
    "width": "336px"
   },
   "toc_section_display": true,
   "toc_window_display": false
  }
 },
 "nbformat": 4,
 "nbformat_minor": 2
}
