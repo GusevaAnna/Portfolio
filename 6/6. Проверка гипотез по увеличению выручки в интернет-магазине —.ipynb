{
 "cells": [
  {
   "cell_type": "markdown",
   "metadata": {},
   "source": [
    "# 6. Проверка гипотез по увеличению выручки в интернет-магазине - оценить результаты A/B теста"
   ]
  },
  {
   "cell_type": "markdown",
   "metadata": {},
   "source": [
    "**Задача - Проанализируйте A/B-тест:**\n",
    "- Постройте график кумулятивной выручки по группам. Сделайте выводы и предположения.\n",
    "- Постройте график кумулятивного среднего чека по группам. Сделайте выводы и предположения.\n",
    "- Постройте график относительного изменения кумулятивного среднего чека группы B к группе A. Сделайте выводы и предположения.\n",
    "- Постройте график кумулятивного среднего количества заказов на посетителя по группам. Сделайте выводы и предположения.\n",
    "- Постройте график относительного изменения кумулятивного среднего количества заказов на посетителя группы B к группе A. \n",
    "- Сделайте выводы и предположения.\n",
    "- Постройте точечный график количества заказов по пользователям. Сделайте выводы и предположения.\n",
    "- Посчитайте 95-й и 99-й перцентили количества заказов на пользователя. Выберите границу для определения аномальных пользователей.\n",
    "- Постройте точечный график стоимостей заказов. Сделайте выводы и предположения.\n",
    "- Посчитайте 95-й и 99-й перцентили стоимости заказов. Выберите границу для определения аномальных заказов.\n",
    "- Посчитайте статистическую значимость различий в среднем количестве заказов на посетителя между группами по «сырым» данным. \n",
    "- Сделайте выводы и предположения.\n",
    "- Посчитайте статистическую значимость различий в среднем чеке заказа между группами по «сырым» данным. Сделайте выводы и предположения.\n",
    "- Посчитайте статистическую значимость различий в среднем количестве заказов на посетителя между группами по «очищенным» данным. - Сделайте выводы и предположения.\n",
    "- Посчитайте статистическую значимость различий в среднем чеке заказа между группами по «очищенным» данным. Сделайте выводы и предположения.\n",
    "\n",
    "*Примите решение по результатам теста и объясните его.*\n",
    "*Варианты :*\n",
    "\n",
    "1. Остановить тест, зафиксировать победу одной из групп.\n",
    "\n",
    "2. Остановить тест, зафиксировать отсутствие различий между группами.\n",
    "\n",
    "3. Продолжить тест."
   ]
  },
  {
   "cell_type": "code",
   "execution_count": 1,
   "metadata": {},
   "outputs": [],
   "source": [
    "import pandas as pd\n",
    "import datetime as dt\n",
    "import numpy as np\n",
    "import matplotlib.pyplot as plt\n",
    "from pandas.plotting import register_matplotlib_converters\n",
    "import warnings\n",
    "import scipy.stats as stats"
   ]
  },
  {
   "cell_type": "code",
   "execution_count": 2,
   "metadata": {},
   "outputs": [],
   "source": [
    "hyp = pd.read_csv('/datasets/hypothesis.csv') "
   ]
  },
  {
   "cell_type": "code",
   "execution_count": 3,
   "metadata": {},
   "outputs": [
    {
     "data": {
      "text/plain": [
       "Hypothesis    0\n",
       "Reach         0\n",
       "Impact        0\n",
       "Confidence    0\n",
       "Efforts       0\n",
       "dtype: int64"
      ]
     },
     "execution_count": 3,
     "metadata": {},
     "output_type": "execute_result"
    }
   ],
   "source": [
    "hyp.isna().sum()"
   ]
  },
  {
   "cell_type": "code",
   "execution_count": 4,
   "metadata": {},
   "outputs": [
    {
     "name": "stdout",
     "output_type": "stream",
     "text": [
      "<class 'pandas.core.frame.DataFrame'>\n",
      "RangeIndex: 9 entries, 0 to 8\n",
      "Data columns (total 5 columns):\n",
      " #   Column      Non-Null Count  Dtype \n",
      "---  ------      --------------  ----- \n",
      " 0   Hypothesis  9 non-null      object\n",
      " 1   Reach       9 non-null      int64 \n",
      " 2   Impact      9 non-null      int64 \n",
      " 3   Confidence  9 non-null      int64 \n",
      " 4   Efforts     9 non-null      int64 \n",
      "dtypes: int64(4), object(1)\n",
      "memory usage: 488.0+ bytes\n"
     ]
    }
   ],
   "source": [
    "hyp.info()"
   ]
  },
  {
   "cell_type": "code",
   "execution_count": 5,
   "metadata": {},
   "outputs": [
    {
     "data": {
      "text/html": [
       "<div>\n",
       "<style scoped>\n",
       "    .dataframe tbody tr th:only-of-type {\n",
       "        vertical-align: middle;\n",
       "    }\n",
       "\n",
       "    .dataframe tbody tr th {\n",
       "        vertical-align: top;\n",
       "    }\n",
       "\n",
       "    .dataframe thead th {\n",
       "        text-align: right;\n",
       "    }\n",
       "</style>\n",
       "<table border=\"1\" class=\"dataframe\">\n",
       "  <thead>\n",
       "    <tr style=\"text-align: right;\">\n",
       "      <th></th>\n",
       "      <th>Hypothesis</th>\n",
       "      <th>Reach</th>\n",
       "      <th>Impact</th>\n",
       "      <th>Confidence</th>\n",
       "      <th>Efforts</th>\n",
       "    </tr>\n",
       "  </thead>\n",
       "  <tbody>\n",
       "    <tr>\n",
       "      <th>0</th>\n",
       "      <td>Добавить два новых канала привлечения трафика,...</td>\n",
       "      <td>3</td>\n",
       "      <td>10</td>\n",
       "      <td>8</td>\n",
       "      <td>6</td>\n",
       "    </tr>\n",
       "    <tr>\n",
       "      <th>1</th>\n",
       "      <td>Запустить собственную службу доставки, что сок...</td>\n",
       "      <td>2</td>\n",
       "      <td>5</td>\n",
       "      <td>4</td>\n",
       "      <td>10</td>\n",
       "    </tr>\n",
       "    <tr>\n",
       "      <th>2</th>\n",
       "      <td>Добавить блоки рекомендаций товаров на сайт ин...</td>\n",
       "      <td>8</td>\n",
       "      <td>3</td>\n",
       "      <td>7</td>\n",
       "      <td>3</td>\n",
       "    </tr>\n",
       "    <tr>\n",
       "      <th>3</th>\n",
       "      <td>Изменить структура категорий, что увеличит кон...</td>\n",
       "      <td>8</td>\n",
       "      <td>3</td>\n",
       "      <td>3</td>\n",
       "      <td>8</td>\n",
       "    </tr>\n",
       "    <tr>\n",
       "      <th>4</th>\n",
       "      <td>Изменить цвет фона главной страницы, чтобы уве...</td>\n",
       "      <td>3</td>\n",
       "      <td>1</td>\n",
       "      <td>1</td>\n",
       "      <td>1</td>\n",
       "    </tr>\n",
       "    <tr>\n",
       "      <th>5</th>\n",
       "      <td>Добавить страницу отзывов клиентов о магазине,...</td>\n",
       "      <td>3</td>\n",
       "      <td>2</td>\n",
       "      <td>2</td>\n",
       "      <td>3</td>\n",
       "    </tr>\n",
       "    <tr>\n",
       "      <th>6</th>\n",
       "      <td>Показать на главной странице баннеры с актуаль...</td>\n",
       "      <td>5</td>\n",
       "      <td>3</td>\n",
       "      <td>8</td>\n",
       "      <td>3</td>\n",
       "    </tr>\n",
       "    <tr>\n",
       "      <th>7</th>\n",
       "      <td>Добавить форму подписки на все основные страни...</td>\n",
       "      <td>10</td>\n",
       "      <td>7</td>\n",
       "      <td>8</td>\n",
       "      <td>5</td>\n",
       "    </tr>\n",
       "    <tr>\n",
       "      <th>8</th>\n",
       "      <td>Запустить акцию, дающую скидку на товар в день...</td>\n",
       "      <td>1</td>\n",
       "      <td>9</td>\n",
       "      <td>9</td>\n",
       "      <td>5</td>\n",
       "    </tr>\n",
       "  </tbody>\n",
       "</table>\n",
       "</div>"
      ],
      "text/plain": [
       "                                          Hypothesis  Reach  Impact  \\\n",
       "0  Добавить два новых канала привлечения трафика,...      3      10   \n",
       "1  Запустить собственную службу доставки, что сок...      2       5   \n",
       "2  Добавить блоки рекомендаций товаров на сайт ин...      8       3   \n",
       "3  Изменить структура категорий, что увеличит кон...      8       3   \n",
       "4  Изменить цвет фона главной страницы, чтобы уве...      3       1   \n",
       "5  Добавить страницу отзывов клиентов о магазине,...      3       2   \n",
       "6  Показать на главной странице баннеры с актуаль...      5       3   \n",
       "7  Добавить форму подписки на все основные страни...     10       7   \n",
       "8  Запустить акцию, дающую скидку на товар в день...      1       9   \n",
       "\n",
       "   Confidence  Efforts  \n",
       "0           8        6  \n",
       "1           4       10  \n",
       "2           7        3  \n",
       "3           3        8  \n",
       "4           1        1  \n",
       "5           2        3  \n",
       "6           8        3  \n",
       "7           8        5  \n",
       "8           9        5  "
      ]
     },
     "execution_count": 5,
     "metadata": {},
     "output_type": "execute_result"
    }
   ],
   "source": [
    "hyp.head(9)"
   ]
  },
  {
   "cell_type": "code",
   "execution_count": 6,
   "metadata": {},
   "outputs": [
    {
     "data": {
      "text/plain": [
       "'DataSet hyp:'"
      ]
     },
     "metadata": {},
     "output_type": "display_data"
    },
    {
     "data": {
      "text/html": [
       "<div>\n",
       "<style scoped>\n",
       "    .dataframe tbody tr th:only-of-type {\n",
       "        vertical-align: middle;\n",
       "    }\n",
       "\n",
       "    .dataframe tbody tr th {\n",
       "        vertical-align: top;\n",
       "    }\n",
       "\n",
       "    .dataframe thead th {\n",
       "        text-align: right;\n",
       "    }\n",
       "</style>\n",
       "<table border=\"1\" class=\"dataframe\">\n",
       "  <thead>\n",
       "    <tr style=\"text-align: right;\">\n",
       "      <th></th>\n",
       "      <th>Hypothesis</th>\n",
       "      <th>Reach</th>\n",
       "      <th>Impact</th>\n",
       "      <th>Confidence</th>\n",
       "      <th>Efforts</th>\n",
       "    </tr>\n",
       "  </thead>\n",
       "  <tbody>\n",
       "  </tbody>\n",
       "</table>\n",
       "</div>"
      ],
      "text/plain": [
       "Empty DataFrame\n",
       "Columns: [Hypothesis, Reach, Impact, Confidence, Efforts]\n",
       "Index: []"
      ]
     },
     "metadata": {},
     "output_type": "display_data"
    }
   ],
   "source": [
    "display('DataSet hyp:', hyp[hyp.duplicated(keep=False)])"
   ]
  },
  {
   "cell_type": "code",
   "execution_count": 7,
   "metadata": {},
   "outputs": [],
   "source": [
    "hyp.columns = map(str.lower, hyp.columns)"
   ]
  },
  {
   "cell_type": "code",
   "execution_count": 8,
   "metadata": {},
   "outputs": [
    {
     "data": {
      "text/html": [
       "<div>\n",
       "<style scoped>\n",
       "    .dataframe tbody tr th:only-of-type {\n",
       "        vertical-align: middle;\n",
       "    }\n",
       "\n",
       "    .dataframe tbody tr th {\n",
       "        vertical-align: top;\n",
       "    }\n",
       "\n",
       "    .dataframe thead th {\n",
       "        text-align: right;\n",
       "    }\n",
       "</style>\n",
       "<table border=\"1\" class=\"dataframe\">\n",
       "  <thead>\n",
       "    <tr style=\"text-align: right;\">\n",
       "      <th></th>\n",
       "      <th>hypothesis</th>\n",
       "      <th>ICE</th>\n",
       "    </tr>\n",
       "  </thead>\n",
       "  <tbody>\n",
       "    <tr>\n",
       "      <th>8</th>\n",
       "      <td>Запустить акцию, дающую скидку на товар в день...</td>\n",
       "      <td>16.20</td>\n",
       "    </tr>\n",
       "    <tr>\n",
       "      <th>0</th>\n",
       "      <td>Добавить два новых канала привлечения трафика,...</td>\n",
       "      <td>13.33</td>\n",
       "    </tr>\n",
       "    <tr>\n",
       "      <th>7</th>\n",
       "      <td>Добавить форму подписки на все основные страни...</td>\n",
       "      <td>11.20</td>\n",
       "    </tr>\n",
       "    <tr>\n",
       "      <th>6</th>\n",
       "      <td>Показать на главной странице баннеры с актуаль...</td>\n",
       "      <td>8.00</td>\n",
       "    </tr>\n",
       "    <tr>\n",
       "      <th>2</th>\n",
       "      <td>Добавить блоки рекомендаций товаров на сайт ин...</td>\n",
       "      <td>7.00</td>\n",
       "    </tr>\n",
       "    <tr>\n",
       "      <th>1</th>\n",
       "      <td>Запустить собственную службу доставки, что сок...</td>\n",
       "      <td>2.00</td>\n",
       "    </tr>\n",
       "    <tr>\n",
       "      <th>5</th>\n",
       "      <td>Добавить страницу отзывов клиентов о магазине,...</td>\n",
       "      <td>1.33</td>\n",
       "    </tr>\n",
       "    <tr>\n",
       "      <th>3</th>\n",
       "      <td>Изменить структура категорий, что увеличит кон...</td>\n",
       "      <td>1.12</td>\n",
       "    </tr>\n",
       "    <tr>\n",
       "      <th>4</th>\n",
       "      <td>Изменить цвет фона главной страницы, чтобы уве...</td>\n",
       "      <td>1.00</td>\n",
       "    </tr>\n",
       "  </tbody>\n",
       "</table>\n",
       "</div>"
      ],
      "text/plain": [
       "                                          hypothesis    ICE\n",
       "8  Запустить акцию, дающую скидку на товар в день...  16.20\n",
       "0  Добавить два новых канала привлечения трафика,...  13.33\n",
       "7  Добавить форму подписки на все основные страни...  11.20\n",
       "6  Показать на главной странице баннеры с актуаль...   8.00\n",
       "2  Добавить блоки рекомендаций товаров на сайт ин...   7.00\n",
       "1  Запустить собственную службу доставки, что сок...   2.00\n",
       "5  Добавить страницу отзывов клиентов о магазине,...   1.33\n",
       "3  Изменить структура категорий, что увеличит кон...   1.12\n",
       "4  Изменить цвет фона главной страницы, чтобы уве...   1.00"
      ]
     },
     "execution_count": 8,
     "metadata": {},
     "output_type": "execute_result"
    }
   ],
   "source": [
    "# Применим фреймворк ICE для приоритизации гипотез. Отсортируемих по убыванию приоритета\n",
    "hyp['ICE'] = hyp['impact'] * hyp['confidence'] / hyp['efforts']\n",
    "hyp_ICE = hyp[['hypothesis', 'ICE']].sort_values(by='ICE', ascending=False).round(2)\n",
    "hyp_ICE"
   ]
  },
  {
   "cell_type": "code",
   "execution_count": 9,
   "metadata": {},
   "outputs": [
    {
     "data": {
      "text/html": [
       "<div>\n",
       "<style scoped>\n",
       "    .dataframe tbody tr th:only-of-type {\n",
       "        vertical-align: middle;\n",
       "    }\n",
       "\n",
       "    .dataframe tbody tr th {\n",
       "        vertical-align: top;\n",
       "    }\n",
       "\n",
       "    .dataframe thead th {\n",
       "        text-align: right;\n",
       "    }\n",
       "</style>\n",
       "<table border=\"1\" class=\"dataframe\">\n",
       "  <thead>\n",
       "    <tr style=\"text-align: right;\">\n",
       "      <th></th>\n",
       "      <th>hypothesis</th>\n",
       "      <th>RICE</th>\n",
       "    </tr>\n",
       "  </thead>\n",
       "  <tbody>\n",
       "    <tr>\n",
       "      <th>7</th>\n",
       "      <td>Добавить форму подписки на все основные страни...</td>\n",
       "      <td>112.0</td>\n",
       "    </tr>\n",
       "    <tr>\n",
       "      <th>2</th>\n",
       "      <td>Добавить блоки рекомендаций товаров на сайт ин...</td>\n",
       "      <td>56.0</td>\n",
       "    </tr>\n",
       "    <tr>\n",
       "      <th>0</th>\n",
       "      <td>Добавить два новых канала привлечения трафика,...</td>\n",
       "      <td>40.0</td>\n",
       "    </tr>\n",
       "    <tr>\n",
       "      <th>6</th>\n",
       "      <td>Показать на главной странице баннеры с актуаль...</td>\n",
       "      <td>40.0</td>\n",
       "    </tr>\n",
       "    <tr>\n",
       "      <th>8</th>\n",
       "      <td>Запустить акцию, дающую скидку на товар в день...</td>\n",
       "      <td>16.2</td>\n",
       "    </tr>\n",
       "    <tr>\n",
       "      <th>3</th>\n",
       "      <td>Изменить структура категорий, что увеличит кон...</td>\n",
       "      <td>9.0</td>\n",
       "    </tr>\n",
       "    <tr>\n",
       "      <th>1</th>\n",
       "      <td>Запустить собственную службу доставки, что сок...</td>\n",
       "      <td>4.0</td>\n",
       "    </tr>\n",
       "    <tr>\n",
       "      <th>5</th>\n",
       "      <td>Добавить страницу отзывов клиентов о магазине,...</td>\n",
       "      <td>4.0</td>\n",
       "    </tr>\n",
       "    <tr>\n",
       "      <th>4</th>\n",
       "      <td>Изменить цвет фона главной страницы, чтобы уве...</td>\n",
       "      <td>3.0</td>\n",
       "    </tr>\n",
       "  </tbody>\n",
       "</table>\n",
       "</div>"
      ],
      "text/plain": [
       "                                          hypothesis   RICE\n",
       "7  Добавить форму подписки на все основные страни...  112.0\n",
       "2  Добавить блоки рекомендаций товаров на сайт ин...   56.0\n",
       "0  Добавить два новых канала привлечения трафика,...   40.0\n",
       "6  Показать на главной странице баннеры с актуаль...   40.0\n",
       "8  Запустить акцию, дающую скидку на товар в день...   16.2\n",
       "3  Изменить структура категорий, что увеличит кон...    9.0\n",
       "1  Запустить собственную службу доставки, что сок...    4.0\n",
       "5  Добавить страницу отзывов клиентов о магазине,...    4.0\n",
       "4  Изменить цвет фона главной страницы, чтобы уве...    3.0"
      ]
     },
     "execution_count": 9,
     "metadata": {},
     "output_type": "execute_result"
    }
   ],
   "source": [
    "# Применим фреймворк RICE для приоритизации гипотез. Отсортируемих по убыванию приоритета\n",
    "hyp['RICE'] = hyp['impact'] * hyp['reach'] * hyp['confidence'] / hyp['efforts']\n",
    "hyp_RICE = hyp[['hypothesis', 'RICE']].sort_values(by='RICE', ascending=False).round(2)\n",
    "hyp_RICE"
   ]
  },
  {
   "cell_type": "code",
   "execution_count": 10,
   "metadata": {},
   "outputs": [
    {
     "data": {
      "text/html": [
       "<div>\n",
       "<style scoped>\n",
       "    .dataframe tbody tr th:only-of-type {\n",
       "        vertical-align: middle;\n",
       "    }\n",
       "\n",
       "    .dataframe tbody tr th {\n",
       "        vertical-align: top;\n",
       "    }\n",
       "\n",
       "    .dataframe thead th {\n",
       "        text-align: right;\n",
       "    }\n",
       "</style>\n",
       "<table border=\"1\" class=\"dataframe\">\n",
       "  <thead>\n",
       "    <tr style=\"text-align: right;\">\n",
       "      <th></th>\n",
       "      <th>hypothesis</th>\n",
       "      <th>reach</th>\n",
       "      <th>impact</th>\n",
       "      <th>confidence</th>\n",
       "      <th>efforts</th>\n",
       "      <th>ICE</th>\n",
       "      <th>RICE</th>\n",
       "    </tr>\n",
       "  </thead>\n",
       "  <tbody>\n",
       "    <tr>\n",
       "      <th>8</th>\n",
       "      <td>Запустить акцию, дающую скидку на товар в день...</td>\n",
       "      <td>1</td>\n",
       "      <td>9</td>\n",
       "      <td>9</td>\n",
       "      <td>5</td>\n",
       "      <td>16.20</td>\n",
       "      <td>16.2</td>\n",
       "    </tr>\n",
       "    <tr>\n",
       "      <th>0</th>\n",
       "      <td>Добавить два новых канала привлечения трафика,...</td>\n",
       "      <td>3</td>\n",
       "      <td>10</td>\n",
       "      <td>8</td>\n",
       "      <td>6</td>\n",
       "      <td>13.33</td>\n",
       "      <td>40.0</td>\n",
       "    </tr>\n",
       "    <tr>\n",
       "      <th>7</th>\n",
       "      <td>Добавить форму подписки на все основные страни...</td>\n",
       "      <td>10</td>\n",
       "      <td>7</td>\n",
       "      <td>8</td>\n",
       "      <td>5</td>\n",
       "      <td>11.20</td>\n",
       "      <td>112.0</td>\n",
       "    </tr>\n",
       "    <tr>\n",
       "      <th>6</th>\n",
       "      <td>Показать на главной странице баннеры с актуаль...</td>\n",
       "      <td>5</td>\n",
       "      <td>3</td>\n",
       "      <td>8</td>\n",
       "      <td>3</td>\n",
       "      <td>8.00</td>\n",
       "      <td>40.0</td>\n",
       "    </tr>\n",
       "    <tr>\n",
       "      <th>2</th>\n",
       "      <td>Добавить блоки рекомендаций товаров на сайт ин...</td>\n",
       "      <td>8</td>\n",
       "      <td>3</td>\n",
       "      <td>7</td>\n",
       "      <td>3</td>\n",
       "      <td>7.00</td>\n",
       "      <td>56.0</td>\n",
       "    </tr>\n",
       "    <tr>\n",
       "      <th>1</th>\n",
       "      <td>Запустить собственную службу доставки, что сок...</td>\n",
       "      <td>2</td>\n",
       "      <td>5</td>\n",
       "      <td>4</td>\n",
       "      <td>10</td>\n",
       "      <td>2.00</td>\n",
       "      <td>4.0</td>\n",
       "    </tr>\n",
       "    <tr>\n",
       "      <th>5</th>\n",
       "      <td>Добавить страницу отзывов клиентов о магазине,...</td>\n",
       "      <td>3</td>\n",
       "      <td>2</td>\n",
       "      <td>2</td>\n",
       "      <td>3</td>\n",
       "      <td>1.33</td>\n",
       "      <td>4.0</td>\n",
       "    </tr>\n",
       "    <tr>\n",
       "      <th>3</th>\n",
       "      <td>Изменить структура категорий, что увеличит кон...</td>\n",
       "      <td>8</td>\n",
       "      <td>3</td>\n",
       "      <td>3</td>\n",
       "      <td>8</td>\n",
       "      <td>1.12</td>\n",
       "      <td>9.0</td>\n",
       "    </tr>\n",
       "    <tr>\n",
       "      <th>4</th>\n",
       "      <td>Изменить цвет фона главной страницы, чтобы уве...</td>\n",
       "      <td>3</td>\n",
       "      <td>1</td>\n",
       "      <td>1</td>\n",
       "      <td>1</td>\n",
       "      <td>1.00</td>\n",
       "      <td>3.0</td>\n",
       "    </tr>\n",
       "  </tbody>\n",
       "</table>\n",
       "</div>"
      ],
      "text/plain": [
       "                                          hypothesis  reach  impact  \\\n",
       "8  Запустить акцию, дающую скидку на товар в день...      1       9   \n",
       "0  Добавить два новых канала привлечения трафика,...      3      10   \n",
       "7  Добавить форму подписки на все основные страни...     10       7   \n",
       "6  Показать на главной странице баннеры с актуаль...      5       3   \n",
       "2  Добавить блоки рекомендаций товаров на сайт ин...      8       3   \n",
       "1  Запустить собственную службу доставки, что сок...      2       5   \n",
       "5  Добавить страницу отзывов клиентов о магазине,...      3       2   \n",
       "3  Изменить структура категорий, что увеличит кон...      8       3   \n",
       "4  Изменить цвет фона главной страницы, чтобы уве...      3       1   \n",
       "\n",
       "   confidence  efforts    ICE   RICE  \n",
       "8           9        5  16.20   16.2  \n",
       "0           8        6  13.33   40.0  \n",
       "7           8        5  11.20  112.0  \n",
       "6           8        3   8.00   40.0  \n",
       "2           7        3   7.00   56.0  \n",
       "1           4       10   2.00    4.0  \n",
       "5           2        3   1.33    4.0  \n",
       "3           3        8   1.12    9.0  \n",
       "4           1        1   1.00    3.0  "
      ]
     },
     "execution_count": 10,
     "metadata": {},
     "output_type": "execute_result"
    }
   ],
   "source": [
    "# Укажем, как изменилась приоритизация гипотез при применении RICE вместо ICE\n",
    "hyp.sort_values(by='ICE', ascending=False).round(2)"
   ]
  },
  {
   "cell_type": "markdown",
   "metadata": {},
   "source": [
    "Параметр reach, то есть охват пользователей, который есть в методе RICE изменил приоретизацию гипотез. Но задача 4 в обоих методах осталась на последнем месте."
   ]
  },
  {
   "cell_type": "code",
   "execution_count": 11,
   "metadata": {},
   "outputs": [
    {
     "name": "stdout",
     "output_type": "stream",
     "text": [
      "<class 'pandas.core.frame.DataFrame'>\n",
      "RangeIndex: 1197 entries, 0 to 1196\n",
      "Data columns (total 5 columns):\n",
      " #   Column         Non-Null Count  Dtype \n",
      "---  ------         --------------  ----- \n",
      " 0   transactionId  1197 non-null   int64 \n",
      " 1   visitorId      1197 non-null   int64 \n",
      " 2   date           1197 non-null   object\n",
      " 3   revenue        1197 non-null   int64 \n",
      " 4   group          1197 non-null   object\n",
      "dtypes: int64(3), object(2)\n",
      "memory usage: 46.9+ KB\n"
     ]
    }
   ],
   "source": [
    "# Загрузка данных и подготовка их к анализу\n",
    "orders = pd.read_csv('/datasets/orders.csv') #читаем файл\n",
    "orders.info()"
   ]
  },
  {
   "cell_type": "code",
   "execution_count": 12,
   "metadata": {},
   "outputs": [
    {
     "data": {
      "text/html": [
       "<div>\n",
       "<style scoped>\n",
       "    .dataframe tbody tr th:only-of-type {\n",
       "        vertical-align: middle;\n",
       "    }\n",
       "\n",
       "    .dataframe tbody tr th {\n",
       "        vertical-align: top;\n",
       "    }\n",
       "\n",
       "    .dataframe thead th {\n",
       "        text-align: right;\n",
       "    }\n",
       "</style>\n",
       "<table border=\"1\" class=\"dataframe\">\n",
       "  <thead>\n",
       "    <tr style=\"text-align: right;\">\n",
       "      <th></th>\n",
       "      <th>transactionId</th>\n",
       "      <th>visitorId</th>\n",
       "      <th>date</th>\n",
       "      <th>revenue</th>\n",
       "      <th>group</th>\n",
       "    </tr>\n",
       "  </thead>\n",
       "  <tbody>\n",
       "    <tr>\n",
       "      <th>0</th>\n",
       "      <td>3667963787</td>\n",
       "      <td>3312258926</td>\n",
       "      <td>2019-08-15</td>\n",
       "      <td>1650</td>\n",
       "      <td>B</td>\n",
       "    </tr>\n",
       "    <tr>\n",
       "      <th>1</th>\n",
       "      <td>2804400009</td>\n",
       "      <td>3642806036</td>\n",
       "      <td>2019-08-15</td>\n",
       "      <td>730</td>\n",
       "      <td>B</td>\n",
       "    </tr>\n",
       "    <tr>\n",
       "      <th>2</th>\n",
       "      <td>2961555356</td>\n",
       "      <td>4069496402</td>\n",
       "      <td>2019-08-15</td>\n",
       "      <td>400</td>\n",
       "      <td>A</td>\n",
       "    </tr>\n",
       "    <tr>\n",
       "      <th>3</th>\n",
       "      <td>3797467345</td>\n",
       "      <td>1196621759</td>\n",
       "      <td>2019-08-15</td>\n",
       "      <td>9759</td>\n",
       "      <td>B</td>\n",
       "    </tr>\n",
       "    <tr>\n",
       "      <th>4</th>\n",
       "      <td>2282983706</td>\n",
       "      <td>2322279887</td>\n",
       "      <td>2019-08-15</td>\n",
       "      <td>2308</td>\n",
       "      <td>B</td>\n",
       "    </tr>\n",
       "  </tbody>\n",
       "</table>\n",
       "</div>"
      ],
      "text/plain": [
       "   transactionId   visitorId        date  revenue group\n",
       "0     3667963787  3312258926  2019-08-15     1650     B\n",
       "1     2804400009  3642806036  2019-08-15      730     B\n",
       "2     2961555356  4069496402  2019-08-15      400     A\n",
       "3     3797467345  1196621759  2019-08-15     9759     B\n",
       "4     2282983706  2322279887  2019-08-15     2308     B"
      ]
     },
     "execution_count": 12,
     "metadata": {},
     "output_type": "execute_result"
    }
   ],
   "source": [
    "orders.head()"
   ]
  },
  {
   "cell_type": "code",
   "execution_count": 13,
   "metadata": {},
   "outputs": [
    {
     "name": "stdout",
     "output_type": "stream",
     "text": [
      "Количество дубликатов: 0\n"
     ]
    }
   ],
   "source": [
    "# Переименуем столбцы и переведем столбец с датой в тип даты и проверим дубликаты\n",
    "orders.columns = ['transaction_id', 'visitor_id', 'date', 'revenue', 'group']\n",
    "orders['date'] = orders['date'].map(\n",
    "    lambda x: dt.datetime.strptime(x, '%Y-%m-%d')\n",
    ")\n",
    "print('Количество дубликатов:',orders.duplicated().sum())"
   ]
  },
  {
   "cell_type": "code",
   "execution_count": 14,
   "metadata": {},
   "outputs": [
    {
     "name": "stdout",
     "output_type": "stream",
     "text": [
      "<class 'pandas.core.frame.DataFrame'>\n",
      "RangeIndex: 62 entries, 0 to 61\n",
      "Data columns (total 3 columns):\n",
      " #   Column    Non-Null Count  Dtype \n",
      "---  ------    --------------  ----- \n",
      " 0   date      62 non-null     object\n",
      " 1   group     62 non-null     object\n",
      " 2   visitors  62 non-null     int64 \n",
      "dtypes: int64(1), object(2)\n",
      "memory usage: 1.6+ KB\n"
     ]
    }
   ],
   "source": [
    "visitors = pd.read_csv('/datasets/visitors.csv') #читаем файл\n",
    "visitors.info()"
   ]
  },
  {
   "cell_type": "code",
   "execution_count": 15,
   "metadata": {},
   "outputs": [
    {
     "data": {
      "text/html": [
       "<div>\n",
       "<style scoped>\n",
       "    .dataframe tbody tr th:only-of-type {\n",
       "        vertical-align: middle;\n",
       "    }\n",
       "\n",
       "    .dataframe tbody tr th {\n",
       "        vertical-align: top;\n",
       "    }\n",
       "\n",
       "    .dataframe thead th {\n",
       "        text-align: right;\n",
       "    }\n",
       "</style>\n",
       "<table border=\"1\" class=\"dataframe\">\n",
       "  <thead>\n",
       "    <tr style=\"text-align: right;\">\n",
       "      <th></th>\n",
       "      <th>date</th>\n",
       "      <th>group</th>\n",
       "      <th>visitors</th>\n",
       "    </tr>\n",
       "  </thead>\n",
       "  <tbody>\n",
       "    <tr>\n",
       "      <th>0</th>\n",
       "      <td>2019-08-01</td>\n",
       "      <td>A</td>\n",
       "      <td>719</td>\n",
       "    </tr>\n",
       "    <tr>\n",
       "      <th>1</th>\n",
       "      <td>2019-08-02</td>\n",
       "      <td>A</td>\n",
       "      <td>619</td>\n",
       "    </tr>\n",
       "    <tr>\n",
       "      <th>2</th>\n",
       "      <td>2019-08-03</td>\n",
       "      <td>A</td>\n",
       "      <td>507</td>\n",
       "    </tr>\n",
       "    <tr>\n",
       "      <th>3</th>\n",
       "      <td>2019-08-04</td>\n",
       "      <td>A</td>\n",
       "      <td>717</td>\n",
       "    </tr>\n",
       "    <tr>\n",
       "      <th>4</th>\n",
       "      <td>2019-08-05</td>\n",
       "      <td>A</td>\n",
       "      <td>756</td>\n",
       "    </tr>\n",
       "  </tbody>\n",
       "</table>\n",
       "</div>"
      ],
      "text/plain": [
       "         date group  visitors\n",
       "0  2019-08-01     A       719\n",
       "1  2019-08-02     A       619\n",
       "2  2019-08-03     A       507\n",
       "3  2019-08-04     A       717\n",
       "4  2019-08-05     A       756"
      ]
     },
     "execution_count": 15,
     "metadata": {},
     "output_type": "execute_result"
    }
   ],
   "source": [
    "visitors.head()"
   ]
  },
  {
   "cell_type": "code",
   "execution_count": 16,
   "metadata": {},
   "outputs": [
    {
     "name": "stdout",
     "output_type": "stream",
     "text": [
      "Количество дубликатов: 0\n"
     ]
    }
   ],
   "source": [
    "# Переведем столбец с датой в тип даты и проверим дубликаты\n",
    "visitors['date'] = visitors['date'].map(\n",
    "    lambda x: dt.datetime.strptime(x, '%Y-%m-%d')\n",
    ")\n",
    "print('Количество дубликатов:',visitors.duplicated().sum())"
   ]
  },
  {
   "cell_type": "code",
   "execution_count": 17,
   "metadata": {},
   "outputs": [
    {
     "name": "stdout",
     "output_type": "stream",
     "text": [
      "<class 'pandas.core.frame.DataFrame'>\n",
      "RangeIndex: 62 entries, 0 to 61\n",
      "Data columns (total 3 columns):\n",
      " #   Column    Non-Null Count  Dtype         \n",
      "---  ------    --------------  -----         \n",
      " 0   date      62 non-null     datetime64[ns]\n",
      " 1   group     62 non-null     object        \n",
      " 2   visitors  62 non-null     int64         \n",
      "dtypes: datetime64[ns](1), int64(1), object(1)\n",
      "memory usage: 1.6+ KB\n"
     ]
    }
   ],
   "source": [
    "visitors.info()"
   ]
  },
  {
   "cell_type": "code",
   "execution_count": 18,
   "metadata": {},
   "outputs": [
    {
     "data": {
      "text/plain": [
       "date        0\n",
       "group       0\n",
       "visitors    0\n",
       "dtype: int64"
      ]
     },
     "execution_count": 18,
     "metadata": {},
     "output_type": "execute_result"
    }
   ],
   "source": [
    "visitors.isna().sum()"
   ]
  },
  {
   "cell_type": "code",
   "execution_count": 19,
   "metadata": {},
   "outputs": [
    {
     "data": {
      "text/html": [
       "<div>\n",
       "<style scoped>\n",
       "    .dataframe tbody tr th:only-of-type {\n",
       "        vertical-align: middle;\n",
       "    }\n",
       "\n",
       "    .dataframe tbody tr th {\n",
       "        vertical-align: top;\n",
       "    }\n",
       "\n",
       "    .dataframe thead th {\n",
       "        text-align: right;\n",
       "    }\n",
       "</style>\n",
       "<table border=\"1\" class=\"dataframe\">\n",
       "  <thead>\n",
       "    <tr style=\"text-align: right;\">\n",
       "      <th></th>\n",
       "      <th>visitors</th>\n",
       "    </tr>\n",
       "  </thead>\n",
       "  <tbody>\n",
       "    <tr>\n",
       "      <th>count</th>\n",
       "      <td>62.00</td>\n",
       "    </tr>\n",
       "    <tr>\n",
       "      <th>mean</th>\n",
       "      <td>607.29</td>\n",
       "    </tr>\n",
       "    <tr>\n",
       "      <th>std</th>\n",
       "      <td>114.40</td>\n",
       "    </tr>\n",
       "    <tr>\n",
       "      <th>min</th>\n",
       "      <td>361.00</td>\n",
       "    </tr>\n",
       "    <tr>\n",
       "      <th>25%</th>\n",
       "      <td>534.00</td>\n",
       "    </tr>\n",
       "    <tr>\n",
       "      <th>50%</th>\n",
       "      <td>624.50</td>\n",
       "    </tr>\n",
       "    <tr>\n",
       "      <th>75%</th>\n",
       "      <td>710.50</td>\n",
       "    </tr>\n",
       "    <tr>\n",
       "      <th>max</th>\n",
       "      <td>770.00</td>\n",
       "    </tr>\n",
       "  </tbody>\n",
       "</table>\n",
       "</div>"
      ],
      "text/plain": [
       "       visitors\n",
       "count     62.00\n",
       "mean     607.29\n",
       "std      114.40\n",
       "min      361.00\n",
       "25%      534.00\n",
       "50%      624.50\n",
       "75%      710.50\n",
       "max      770.00"
      ]
     },
     "execution_count": 19,
     "metadata": {},
     "output_type": "execute_result"
    }
   ],
   "source": [
    "visitors.describe().round(2)"
   ]
  },
  {
   "cell_type": "code",
   "execution_count": 20,
   "metadata": {},
   "outputs": [
    {
     "data": {
      "text/plain": [
       "array([[<AxesSubplot:title={'center':'date'}>,\n",
       "        <AxesSubplot:title={'center':'visitors'}>]], dtype=object)"
      ]
     },
     "execution_count": 20,
     "metadata": {},
     "output_type": "execute_result"
    },
    {
     "data": {
      "image/png": "[encoded data removed]",
      "text/plain": [
       "<Figure size 2160x2160 with 2 Axes>"
      ]
     },
     "metadata": {
      "needs_background": "light"
     },
     "output_type": "display_data"
    }
   ],
   "source": [
    "visitors.hist(figsize=(30, 30))"
   ]
  },
  {
   "cell_type": "markdown",
   "metadata": {},
   "source": [
    "                                      Тестирование\n",
    "\n",
    "Создадим датафрейм datesGroups с уникальными парами значений 'date' и 'group', таблицы orders.\n",
    "Избавимся от дубликатов методом drop_duplicates().\n",
    "\n",
    "Объявим переменную ordersAggregated, содержащую:\n",
    "\n",
    "- дату;\n",
    "- группу A/B-теста;\n",
    "- число уникальных заказов в группе теста по указанную дату включительно;\n",
    "- число уникальных пользователей, совершивших хотя бы 1 заказ в группе теста по указанную дату включительно;\n",
    "- суммарную выручку заказов в группе теста по указанную дату включительно.\n",
    "\n",
    "Объявим переменную visitorsAggregated, содержащую:\n",
    "\n",
    "- дату;\n",
    "- группу A/B-теста;\n",
    "- количество уникальных посетителей в группе теста по указанную дату включительно.\n",
    "\n",
    "ordersAggregated и visitorsAggregated отсортируем по столбцам 'date', 'group' в указанном порядке.\n",
    "\n",
    "Определим переменную cumulativeData, объединив ordersAggregated и visitorsAggregated по колонкам 'date', 'group' методом merge()\n",
    "\n",
    "Присвоим столбцам cumulativeData названия ['date', 'group', 'orders', 'buyers', 'revenue', 'visitors']\n",
    "\n",
    "Выведим первые 5 строк переменной cumulativeData"
   ]
  },
  {
   "cell_type": "code",
   "execution_count": 21,
   "metadata": {},
   "outputs": [
    {
     "data": {
      "text/plain": [
       "group    58\n",
       "dtype: int64"
      ]
     },
     "execution_count": 21,
     "metadata": {},
     "output_type": "execute_result"
    }
   ],
   "source": [
    "orders.groupby('visitor_id').agg({'group' : 'nunique' }).query('group > 1').count()"
   ]
  },
  {
   "cell_type": "code",
   "execution_count": 22,
   "metadata": {},
   "outputs": [
    {
     "data": {
      "text/plain": [
       "visitor_id    58\n",
       "group         58\n",
       "dtype: int64"
      ]
     },
     "execution_count": 22,
     "metadata": {},
     "output_type": "execute_result"
    }
   ],
   "source": [
    "users_AB = orders.groupby('visitor_id').agg({'group' : 'nunique' }).reset_index().query('group > 1').count()\n",
    "users_AB"
   ]
  },
  {
   "cell_type": "code",
   "execution_count": 23,
   "metadata": {},
   "outputs": [
    {
     "data": {
      "text/plain": [
       "visitor_id    58\n",
       "group         58\n",
       "dtype: int64"
      ]
     },
     "execution_count": 23,
     "metadata": {},
     "output_type": "execute_result"
    }
   ],
   "source": [
    "#удаляем 58 пользователей , попавших в обе группы\n",
    "orders = orders.query('visitor_id not in @users_AB')\n",
    "orders.groupby('visitor_id').agg({'group' : 'nunique' }).reset_index().query('group > 1').count()"
   ]
  },
  {
   "cell_type": "code",
   "execution_count": 24,
   "metadata": {},
   "outputs": [
    {
     "data": {
      "text/html": [
       "<div>\n",
       "<style scoped>\n",
       "    .dataframe tbody tr th:only-of-type {\n",
       "        vertical-align: middle;\n",
       "    }\n",
       "\n",
       "    .dataframe tbody tr th {\n",
       "        vertical-align: top;\n",
       "    }\n",
       "\n",
       "    .dataframe thead th {\n",
       "        text-align: right;\n",
       "    }\n",
       "</style>\n",
       "<table border=\"1\" class=\"dataframe\">\n",
       "  <thead>\n",
       "    <tr style=\"text-align: right;\">\n",
       "      <th></th>\n",
       "      <th>group</th>\n",
       "      <th>visitors</th>\n",
       "    </tr>\n",
       "  </thead>\n",
       "  <tbody>\n",
       "    <tr>\n",
       "      <th>0</th>\n",
       "      <td>A</td>\n",
       "      <td>18736</td>\n",
       "    </tr>\n",
       "    <tr>\n",
       "      <th>1</th>\n",
       "      <td>B</td>\n",
       "      <td>18916</td>\n",
       "    </tr>\n",
       "  </tbody>\n",
       "</table>\n",
       "</div>"
      ],
      "text/plain": [
       "  group  visitors\n",
       "0     A     18736\n",
       "1     B     18916"
      ]
     },
     "metadata": {},
     "output_type": "display_data"
    }
   ],
   "source": [
    "visitors_count = visitors.groupby(['group']).sum().reset_index()\n",
    "display(visitors_count)"
   ]
  },
  {
   "cell_type": "code",
   "execution_count": 25,
   "metadata": {},
   "outputs": [
    {
     "data": {
      "text/plain": [
       "0.009515753859166809"
      ]
     },
     "execution_count": 25,
     "metadata": {},
     "output_type": "execute_result"
    }
   ],
   "source": [
    "visitors_AB = 1 - visitors_count['visitors'][0]/visitors_count['visitors'][1]\n",
    "visitors_AB"
   ]
  },
  {
   "cell_type": "markdown",
   "metadata": {},
   "source": [
    "Для А\\В теста группы должны быть равными или +- 1%\n",
    "у нас - меньше 1%"
   ]
  },
  {
   "cell_type": "code",
   "execution_count": 26,
   "metadata": {},
   "outputs": [
    {
     "data": {
      "text/plain": [
       "Timestamp('2019-08-31 00:00:00')"
      ]
     },
     "execution_count": 26,
     "metadata": {},
     "output_type": "execute_result"
    }
   ],
   "source": [
    "orders['date'].max()"
   ]
  },
  {
   "cell_type": "code",
   "execution_count": 27,
   "metadata": {},
   "outputs": [
    {
     "data": {
      "text/plain": [
       "Timestamp('2019-08-01 00:00:00')"
      ]
     },
     "execution_count": 27,
     "metadata": {},
     "output_type": "execute_result"
    }
   ],
   "source": [
    "orders['date'].min()"
   ]
  },
  {
   "cell_type": "code",
   "execution_count": 28,
   "metadata": {},
   "outputs": [
    {
     "data": {
      "text/html": [
       "<div>\n",
       "<style scoped>\n",
       "    .dataframe tbody tr th:only-of-type {\n",
       "        vertical-align: middle;\n",
       "    }\n",
       "\n",
       "    .dataframe tbody tr th {\n",
       "        vertical-align: top;\n",
       "    }\n",
       "\n",
       "    .dataframe thead th {\n",
       "        text-align: right;\n",
       "    }\n",
       "</style>\n",
       "<table border=\"1\" class=\"dataframe\">\n",
       "  <thead>\n",
       "    <tr style=\"text-align: right;\">\n",
       "      <th></th>\n",
       "      <th>date</th>\n",
       "      <th>group</th>\n",
       "      <th>orders</th>\n",
       "      <th>buyers</th>\n",
       "      <th>revenue</th>\n",
       "      <th>visitors</th>\n",
       "    </tr>\n",
       "  </thead>\n",
       "  <tbody>\n",
       "    <tr>\n",
       "      <th>0</th>\n",
       "      <td>2019-08-01</td>\n",
       "      <td>A</td>\n",
       "      <td>24</td>\n",
       "      <td>20</td>\n",
       "      <td>148579</td>\n",
       "      <td>719</td>\n",
       "    </tr>\n",
       "    <tr>\n",
       "      <th>1</th>\n",
       "      <td>2019-08-01</td>\n",
       "      <td>B</td>\n",
       "      <td>21</td>\n",
       "      <td>20</td>\n",
       "      <td>101217</td>\n",
       "      <td>713</td>\n",
       "    </tr>\n",
       "    <tr>\n",
       "      <th>2</th>\n",
       "      <td>2019-08-02</td>\n",
       "      <td>A</td>\n",
       "      <td>44</td>\n",
       "      <td>38</td>\n",
       "      <td>242401</td>\n",
       "      <td>1338</td>\n",
       "    </tr>\n",
       "    <tr>\n",
       "      <th>3</th>\n",
       "      <td>2019-08-02</td>\n",
       "      <td>B</td>\n",
       "      <td>45</td>\n",
       "      <td>43</td>\n",
       "      <td>266748</td>\n",
       "      <td>1294</td>\n",
       "    </tr>\n",
       "    <tr>\n",
       "      <th>4</th>\n",
       "      <td>2019-08-03</td>\n",
       "      <td>A</td>\n",
       "      <td>68</td>\n",
       "      <td>62</td>\n",
       "      <td>354874</td>\n",
       "      <td>1845</td>\n",
       "    </tr>\n",
       "  </tbody>\n",
       "</table>\n",
       "</div>"
      ],
      "text/plain": [
       "        date group  orders  buyers  revenue  visitors\n",
       "0 2019-08-01     A      24      20   148579       719\n",
       "1 2019-08-01     B      21      20   101217       713\n",
       "2 2019-08-02     A      44      38   242401      1338\n",
       "3 2019-08-02     B      45      43   266748      1294\n",
       "4 2019-08-03     A      68      62   354874      1845"
      ]
     },
     "execution_count": 28,
     "metadata": {},
     "output_type": "execute_result"
    }
   ],
   "source": [
    "datesGroups = orders [['date', 'group']].drop_duplicates()\n",
    "\n",
    "ordersAggregated = datesGroups.apply(lambda x: orders[np.logical_and(orders['date'] <= x['date'], orders['group'] == x['group'])]\\\n",
    ".agg({'date' : 'max', 'group' : 'max', 'transaction_id' : 'nunique', 'visitor_id' : 'nunique', 'revenue' : 'sum'}), axis=1).sort_values(by=['date','group'])\n",
    "\n",
    "visitorsAggregated = datesGroups.apply(lambda x: visitors[np.logical_and(visitors['date'] <= x['date'], visitors['group'] == x['group'])]\n",
    "                                       .agg({'date' : 'max', 'group' : 'max', 'visitors' : 'sum'}), axis=1).sort_values(by=['date','group']) \n",
    "cumulativeData = ordersAggregated.merge(visitorsAggregated, left_on=['date', 'group'], right_on=['date', 'group'])\n",
    "cumulativeData.columns = ['date', 'group', 'orders', 'buyers', 'revenue', 'visitors']\n",
    "\n",
    "cumulativeData.head()"
   ]
  },
  {
   "cell_type": "code",
   "execution_count": 29,
   "metadata": {},
   "outputs": [
    {
     "data": {
      "image/png": "[encoded data removed]",
      "text/plain": [
       "<Figure size 432x288 with 1 Axes>"
      ]
     },
     "metadata": {
      "needs_background": "light"
     },
     "output_type": "display_data"
    }
   ],
   "source": [
    "# Объявим переменные cumulativeRevenueA и cumulativeRevenueB, в которых сохраним данные о датах,\n",
    "# выручке и числе заказов в группах A и B. Построим графики кумулятивной выручки по дням по группам.\n",
    "\n",
    "cumulativeRevenueA = cumulativeData[cumulativeData['group']=='A'][['date','revenue', 'orders']]\n",
    "\n",
    "# датафрейм с кумулятивным количеством заказов и кумулятивной выручкой по дням в группе B\n",
    "cumulativeRevenueB = cumulativeData[cumulativeData['group']=='B'][['date','revenue', 'orders']]\n",
    "\n",
    "# Строим график выручки группы А\n",
    "plt.plot(cumulativeRevenueA['date'], cumulativeRevenueA['revenue'], label='A')\n",
    "\n",
    "# Строим график выручки группы B\n",
    "plt.plot(cumulativeRevenueB['date'], cumulativeRevenueB['revenue'], label='B')\n",
    "plt.xlabel('Дата')\n",
    "plt.ylabel('Выручка')\n",
    "plt.title(\"Кумулятивная выручка группам A/B-тестирования\")\n",
    "plt.legend() \n",
    "plt.xticks(rotation=90)\n",
    "plt.subplots_adjust(top=1.5)\n",
    "plt.show()\n"
   ]
  },
  {
   "cell_type": "markdown",
   "metadata": {},
   "source": [
    "В середине теста сегмент B подскочил и вырвался сильно вперед. Вероятнее всего аномально большие заказы влияют для результат теста. Этот момент нужно учесть в результате."
   ]
  },
  {
   "cell_type": "code",
   "execution_count": 30,
   "metadata": {},
   "outputs": [
    {
     "data": {
      "image/png": "[encoded data removed]",
      "text/plain": [
       "<Figure size 432x288 with 1 Axes>"
      ]
     },
     "metadata": {
      "needs_background": "light"
     },
     "output_type": "display_data"
    }
   ],
   "source": [
    "# Построим графики кумулятивного среднего чека по дням по группам.\n",
    "\n",
    "plt.plot(cumulativeRevenueA['date'], cumulativeRevenueA['revenue']/cumulativeRevenueA['orders'], label='A')\n",
    "plt.plot(cumulativeRevenueB['date'], cumulativeRevenueB['revenue']/cumulativeRevenueB['orders'], label='B')\n",
    "plt.xlabel('Дата')\n",
    "plt.ylabel('Средний чек')\n",
    "plt.title(\"Кумулятивный средний чек по дням и группам A/B-тестирования\")\n",
    "plt.legend() \n",
    "plt.xticks(rotation=90)\n",
    "plt.show()"
   ]
  },
  {
   "cell_type": "markdown",
   "metadata": {},
   "source": [
    "Аналогично прошлому графику в тот же момент у сегмента В подсокочил кумулятивный средний чек. Но По графику видно, что он продолжает колебаться."
   ]
  },
  {
   "cell_type": "code",
   "execution_count": 31,
   "metadata": {},
   "outputs": [
    {
     "data": {
      "image/png": "[encoded data removed]",
      "text/plain": [
       "<Figure size 432x288 with 1 Axes>"
      ]
     },
     "metadata": {
      "needs_background": "light"
     },
     "output_type": "display_data"
    }
   ],
   "source": [
    "# Построим график относительно различия кумулятивного среднего чека группы B к группе A.\n",
    "\n",
    "mergedCumulativeRevenue = cumulativeRevenueA.merge(cumulativeRevenueB, left_on='date', right_on='date', how='left', suffixes=['A', 'B'])\n",
    "\n",
    "# cтроим отношение средних чеков\n",
    "plt.plot(mergedCumulativeRevenue['date'], (mergedCumulativeRevenue['revenueB']/mergedCumulativeRevenue['ordersB'])/(mergedCumulativeRevenue['revenueA']/mergedCumulativeRevenue['ordersA'])-1)\n",
    "\n",
    "# добавляем ось X\n",
    "plt.axhline(y=0, color='black', linestyle='--') \n",
    "plt.xlabel('Дата')\n",
    "plt.ylabel('Различие среднего чека')\n",
    "plt.title(\"Относительное различие для среднего чека\")\n",
    "plt.xticks(rotation=90)\n",
    "plt.show()"
   ]
  },
  {
   "cell_type": "markdown",
   "metadata": {},
   "source": [
    "В нескольких точках график различия между сегментами резко «скачет», видимо тогда были совершены аномальные заказы. Но в основном график расположен выше нуля."
   ]
  },
  {
   "cell_type": "code",
   "execution_count": 32,
   "metadata": {},
   "outputs": [
    {
     "data": {
      "image/png": "[encoded data removed]",
      "text/plain": [
       "<Figure size 432x288 with 1 Axes>"
      ]
     },
     "metadata": {
      "needs_background": "light"
     },
     "output_type": "display_data"
    }
   ],
   "source": [
    "# Построим график кумулятивной конверсии по группам.\n",
    "# Добавим в cumulativeData столбец 'conversion' c отношением числа заказов к количеству пользователей\n",
    "# в указанной группе в указанный день. Объявим переменные cumulativeDataA и cumulativeDataB, в которых сохраните данные о заказах в сегментах A и B соответственно.\n",
    "\n",
    "cumulativeData['conversion'] = cumulativeData['orders']/cumulativeData['visitors']\n",
    "\n",
    "# отделяем данные по группе A\n",
    "cumulativeDataA = cumulativeData[cumulativeData['group']=='A']\n",
    "\n",
    "# отделяем данные по группе B\n",
    "cumulativeDataB = cumulativeData[cumulativeData['group']=='B']\n",
    "\n",
    "# строим графики\n",
    "plt.plot(cumulativeDataA['date'], cumulativeDataA['conversion'], label='A')\n",
    "plt.plot(cumulativeDataB['date'], cumulativeDataB['conversion'], label='B')\n",
    "plt.legend()\n",
    "\n",
    "# задаем масштаб осей\n",
    "plt.axis([dt.datetime(2019, 8, 1), dt.datetime(2019, 9, 1), 0, 0.04])\n",
    "plt.xlabel('Дата')\n",
    "plt.ylabel('Конверсия')\n",
    "plt.title(\"Кумулятивная конверсия по группам\")\n",
    "plt.xticks(rotation=90)\n",
    "plt.show()"
   ]
  },
  {
   "cell_type": "markdown",
   "metadata": {},
   "source": [
    "В начале теста сегмент А имел большую конверсию, затем он немного упал и установился примерно около одного значения, в отличии от сегмента В, который возрос выше сегмента А и также установился в пределах одного значения."
   ]
  },
  {
   "cell_type": "code",
   "execution_count": 33,
   "metadata": {},
   "outputs": [
    {
     "data": {
      "image/png": "[encoded data removed]",
      "text/plain": [
       "<Figure size 432x288 with 1 Axes>"
      ]
     },
     "metadata": {
      "needs_background": "light"
     },
     "output_type": "display_data"
    }
   ],
   "source": [
    "# Объединим таблицы cumulativeDataA и cumulativeDataB методом merge() так, \n",
    "# чтобы она содержала столбцы: ['date', 'conversionA', 'conversionB']. Сохраним в переменной mergedCumulativeConversions. Построим график относительного различия кумулятивной конверсии группы B к группе A. Добавим пунктирную линию оси X чёрного цвета ('black') со значением оси Y = 0 методом plt.axhline(). И ещё одну линию оси X серого цвета ('grey') со значением оси Y = 0.2\n",
    "\n",
    "mergedCumulativeConversions = cumulativeDataA[['date','conversion']].merge(cumulativeDataB[['date','conversion']], left_on='date', right_on='date', how='left', suffixes=['A', 'B'])\n",
    "\n",
    "plt.plot(mergedCumulativeConversions['date'], mergedCumulativeConversions['conversionB']/mergedCumulativeConversions['conversionA']-1, label=\"Относительный прирост конверсии группы B относительно группы A\")\n",
    "#plt.legend()\n",
    "\n",
    "plt.axhline(y=0, color='black', linestyle='--')\n",
    "plt.axhline(y=0.15, color='grey', linestyle='--')\n",
    "plt.axis([pd.to_datetime('2019-08-01', format = '%Y-%m-%d'),\n",
    "             pd.to_datetime('2019-09-01', format = '%Y-%m-%d'), -0.2, 0.3])\n",
    "plt.xlabel('Дата')\n",
    "plt.ylabel('Конверсия')\n",
    "plt.title(\"Относительный прирост конверсии группы В относительно группы А\")\n",
    "plt.xticks(rotation=90)\n",
    "plt.show()"
   ]
  },
  {
   "cell_type": "markdown",
   "metadata": {},
   "source": [
    "Почти с самого начала теста группа B лидирует относительно группы А. Но не стоит говорить, что она зафиксировалась возле определенной цифры, но прирост становится примерно на 15%."
   ]
  },
  {
   "cell_type": "code",
   "execution_count": 34,
   "metadata": {},
   "outputs": [
    {
     "name": "stdout",
     "output_type": "stream",
     "text": [
      "      visitor_id  transaction_id\n",
      "1023  4256040402              11\n",
      "591   2458001652              11\n",
      "569   2378935119               9\n",
      "487   2038680547               8\n",
      "44     199603092               5\n",
      "744   3062433592               5\n",
      "55     237748145               5\n",
      "917   3803269165               5\n",
      "299   1230306981               5\n",
      "897   3717692402               5\n"
     ]
    },
    {
     "data": {
      "image/png": "[encoded data removed]",
      "text/plain": [
       "<Figure size 432x288 with 1 Axes>"
      ]
     },
     "metadata": {
      "needs_background": "light"
     },
     "output_type": "display_data"
    }
   ],
   "source": [
    "# Построим точечный график количества заказов по пользователям.\n",
    "\n",
    "ordersByUsers = (\n",
    "    orders.groupby('visitor_id', as_index=False)\n",
    "    .agg({'transaction_id': 'nunique'})\n",
    ")\n",
    "ordersByUsers.columns = ['visitor_id', 'transaction_id']\n",
    "\n",
    "print(ordersByUsers.sort_values(by='transaction_id', ascending=False).head(10))\n",
    "\n",
    "# серия из чисел от 0 до количества наблюдений в ordersByUsers\n",
    "x_values = pd.Series(range(0, len(ordersByUsers)))\n",
    "plt.scatter(x_values, ordersByUsers['transaction_id']) \n",
    "plt.xlabel('Пользователи')\n",
    "plt.ylabel('Количество заказов')\n",
    "plt.title(\"Количество заказов по пользователям\")\n",
    "plt.show()"
   ]
  },
  {
   "cell_type": "markdown",
   "metadata": {},
   "source": [
    "Пользователи, которые сделали более 2 заказов встречаются редко. Для того, чтобы узнать аномалия это или нет, посчитаем 95-й и 99-й перцентили количества заказов на пользователя."
   ]
  },
  {
   "cell_type": "code",
   "execution_count": 35,
   "metadata": {},
   "outputs": [
    {
     "name": "stdout",
     "output_type": "stream",
     "text": [
      "      visitor_id  transaction_id\n",
      "1023  4256040402              11\n",
      "591   2458001652              11\n",
      "569   2378935119               9\n",
      "487   2038680547               8\n",
      "44     199603092               5\n",
      "744   3062433592               5\n",
      "55     237748145               5\n",
      "917   3803269165               5\n",
      "299   1230306981               5\n",
      "897   3717692402               5\n"
     ]
    }
   ],
   "source": [
    "print(ordersByUsers.sort_values(by='transaction_id', ascending=False).head(10))"
   ]
  },
  {
   "cell_type": "code",
   "execution_count": 36,
   "metadata": {},
   "outputs": [
    {
     "name": "stdout",
     "output_type": "stream",
     "text": [
      "[2. 4.]\n"
     ]
    }
   ],
   "source": [
    "print(np.percentile(ordersByUsers['transaction_id'], [ 95, 99]))"
   ]
  },
  {
   "cell_type": "code",
   "execution_count": 37,
   "metadata": {},
   "outputs": [
    {
     "data": {
      "image/png": "[encoded data removed]",
      "text/plain": [
       "<Figure size 432x288 with 1 Axes>"
      ]
     },
     "metadata": {
      "needs_background": "light"
     },
     "output_type": "display_data"
    }
   ],
   "source": [
    "# Построим точечный график стоимостей заказов.\n",
    "\n",
    "x_values = pd.Series(range(0, len(orders['revenue'])))\n",
    "plt.scatter(x_values, orders['revenue']) \n",
    "plt.xlabel('Пользователи')\n",
    "plt.ylabel('Стоимость заказов')\n",
    "plt.title(\"Стоимости заказов\")\n",
    "plt.show()"
   ]
  },
  {
   "cell_type": "markdown",
   "metadata": {},
   "source": [
    "Есть 2 выброса в районе 1 250 000, который выглядит весьма аномально, и 200 000.\n",
    "Посчитаем 95-й и 99-й перцентили стоимости заказов."
   ]
  },
  {
   "cell_type": "code",
   "execution_count": 38,
   "metadata": {},
   "outputs": [
    {
     "name": "stdout",
     "output_type": "stream",
     "text": [
      "   transaction_id  visitor_id       date  revenue group\n",
      "0      3667963787  3312258926 2019-08-15     1650     B\n",
      "1      2804400009  3642806036 2019-08-15      730     B\n",
      "2      2961555356  4069496402 2019-08-15      400     A\n",
      "3      3797467345  1196621759 2019-08-15     9759     B\n",
      "4      2282983706  2322279887 2019-08-15     2308     B\n",
      "5       182168103   935554773 2019-08-15     2210     B\n",
      "6       398296753  2900797465 2019-08-15     1860     B\n",
      "7      2626614568    78758296 2019-08-15     1044     A\n",
      "8      1576988021   295230930 2019-08-15    13710     A\n",
      "9      1506739906  1882260405 2019-08-15     1855     B\n",
      "[28000.  58233.2]\n"
     ]
    }
   ],
   "source": [
    "print(orders.head(10))\n",
    "print(np.percentile(orders['revenue'] , [95, 99]))"
   ]
  },
  {
   "cell_type": "markdown",
   "metadata": {},
   "source": [
    "Не более 5% пользователей оформляли заказы на сумму более 28 000. И 1% пользователей заказывали на сумму более 58 233.\n",
    "\n",
    "Посчитаем статистическую значимость различий в конверсии между группами по «сырым» данным.\n",
    "\n",
    "Создадим переменные ordersByUsersA и ordersByUsersB со столбцами ['visitor_id', 'transaction_id'], где для пользователей, совершивших хотя бы 1 заказ, будет указано число заказов. \n",
    "Объявим переменные sampleA и sampleB, в которых пользователям с заказами будет соответствовать число заказов пользователя. \n",
    "А пользователям без заказов — нули. \n",
    "Посчитаем статистическую значимость различия среднего количества заказов по результатам двух недель теста.\n",
    "\n",
    "Для расчета р-value, используем напараметрический тест Уилкоксона-Манна-Уитни, так как у нас имеются выбросы, а сам тест работает с рангами, не учитывая сами значения.\n",
    "Так же сформируем нулевую и альтернативную гипотезы. \n",
    "\n",
    "Нулевая гипотеза говорит о том, что статистическая значимость в количестве заказов и среднемк чеке не значительна и сделать вывод о различии нельзя, альтернативная гипотеза говорит о том, что статистическая значимость в количестве заказов и среднем чеке значитаельная и между выборками имеется статистическая значимость.\n",
    "Порогом статистической значимости установим alpha=.05"
   ]
  },
  {
   "cell_type": "code",
   "execution_count": 39,
   "metadata": {},
   "outputs": [],
   "source": [
    "visitorsADaily = visitors[visitors['group'] == 'A'][['date', 'visitors']]\n",
    "visitorsADaily.columns = ['date', 'visitorsPerDateA']\n",
    "\n",
    "visitorsACummulative = visitorsADaily.apply(\n",
    "    lambda x: visitorsADaily[visitorsADaily['date'] <= x['date']].agg(\n",
    "        {'date': 'max', 'visitorsPerDateA': 'sum'}\n",
    "    ),\n",
    "    axis=1,\n",
    ")\n",
    "visitorsACummulative.columns = ['date', 'visitorsCummulativeA']\n",
    "\n",
    "visitorsBDaily = visitors[visitors['group'] == 'B'][['date', 'visitors']]\n",
    "visitorsBDaily.columns = ['date', 'visitorsPerDateB']\n",
    "\n",
    "visitorsBCummulative = visitorsBDaily.apply(\n",
    "    lambda x: visitorsBDaily[visitorsBDaily['date'] <= x['date']].agg(\n",
    "        {'date': 'max', 'visitorsPerDateB': 'sum'}\n",
    "    ),\n",
    "    axis=1,\n",
    ")\n",
    "visitorsBCummulative.columns = ['date', 'visitorsCummulativeB']\n",
    "\n",
    "ordersADaily = (\n",
    "    orders[orders['group'] == 'A'][['date', 'transaction_id', 'visitor_id', 'revenue']]\n",
    "    .groupby('date', as_index=False)\n",
    "    .agg({'transaction_id': pd.Series.nunique, 'revenue': 'sum'})\n",
    ")\n",
    "ordersADaily.columns = ['date', 'ordersPerDateA', 'revenuePerDateA']\n",
    "\n",
    "ordersACummulative = ordersADaily.apply(\n",
    "    lambda x: ordersADaily[ordersADaily['date'] <= x['date']].agg(\n",
    "        {'date': 'max', 'ordersPerDateA': 'sum', 'revenuePerDateA': 'sum'}\n",
    "    ),\n",
    "    axis=1,\n",
    ").sort_values(by=['date'])\n",
    "ordersACummulative.columns = [\n",
    "    'date',\n",
    "    'ordersCummulativeA',\n",
    "    'revenueCummulativeA',\n",
    "]\n",
    "\n",
    "ordersBDaily = (\n",
    "    orders[orders['group'] == 'B'][['date', 'transaction_id', 'visitor_id', 'revenue']]\n",
    "    .groupby('date', as_index=False)\n",
    "    .agg({'transaction_id': pd.Series.nunique, 'revenue': 'sum'})\n",
    ")\n",
    "ordersBDaily.columns = ['date', 'ordersPerDateB', 'revenuePerDateB']\n",
    "\n",
    "ordersBCummulative = ordersBDaily.apply(\n",
    "    lambda x: ordersBDaily[ordersBDaily['date'] <= x['date']].agg(\n",
    "        {'date': 'max', 'ordersPerDateB': 'sum', 'revenuePerDateB': 'sum'}\n",
    "    ),\n",
    "    axis=1,\n",
    ").sort_values(by=['date'])\n",
    "ordersBCummulative.columns = [\n",
    "    'date',\n",
    "    'ordersCummulativeB',\n",
    "    'revenueCummulativeB',\n",
    "]"
   ]
  },
  {
   "cell_type": "code",
   "execution_count": 40,
   "metadata": {},
   "outputs": [],
   "source": [
    "data = (\n",
    "    ordersADaily.merge(\n",
    "        ordersBDaily, left_on='date', right_on='date', how='left'\n",
    "    )\n",
    "    .merge(ordersACummulative, left_on='date', right_on='date', how='left')\n",
    "    .merge(ordersBCummulative, left_on='date', right_on='date', how='left')\n",
    "    .merge(visitorsADaily, left_on='date', right_on='date', how='left')\n",
    "    .merge(visitorsBDaily, left_on='date', right_on='date', how='left')\n",
    "    .merge(visitorsACummulative, left_on='date', right_on='date', how='left')\n",
    "    .merge(visitorsBCummulative, left_on='date', right_on='date', how='left')\n",
    ")"
   ]
  },
  {
   "cell_type": "code",
   "execution_count": 41,
   "metadata": {},
   "outputs": [
    {
     "name": "stdout",
     "output_type": "stream",
     "text": [
      "P-value: 0.017\n",
      "Относительные различия: 0.138\n"
     ]
    }
   ],
   "source": [
    "ordersByUsersA = (\n",
    "    orders[orders['group'] == 'A']\n",
    "    .groupby('visitor_id', as_index=False)\n",
    "    .agg({'transaction_id': pd.Series.nunique})\n",
    ")\n",
    "ordersByUsersA.columns = ['visitor_id', 'transaction_id']\n",
    "\n",
    "ordersByUsersB = (\n",
    "    orders[orders['group'] == 'B']\n",
    "    .groupby('visitor_id', as_index=False)\n",
    "    .agg({'transaction_id': pd.Series.nunique})\n",
    ")\n",
    "ordersByUsersB.columns = ['visitor_id', 'transaction_id'] \n",
    "sampleA = pd.concat([ordersByUsersA['transaction_id'],pd.Series(0, index=np.arange(data['visitorsPerDateA'].sum() - len(ordersByUsersA['transaction_id'])), name='orders')],axis=0)\n",
    "\n",
    "sampleB = pd.concat([ordersByUsersB['transaction_id'],pd.Series(0, index=np.arange(data['visitorsPerDateB'].sum() - len(ordersByUsersB['transaction_id'])), name='orders')],axis=0)\n",
    "print('P-value:',\"{0:.3f}\".format(stats.mannwhitneyu(sampleA, sampleB)[1]))\n",
    "\n",
    "print('Относительные различия:',\"{0:.3f}\".format(sampleB.mean() / sampleA.mean() - 1))"
   ]
  },
  {
   "cell_type": "markdown",
   "metadata": {},
   "source": [
    "P-value значительно меньше 0.05, значит стоит отвергнуть нулевую гипотезу.\n",
    "\n",
    "Анализ \"сырых данных\" сообщает, что в среднем количестве заказов между группами есть статистически значимые различия. \n",
    "\n",
    "Относительный прирост среднего группы В к конверсии группы А равен 13.8%."
   ]
  },
  {
   "cell_type": "code",
   "execution_count": 42,
   "metadata": {},
   "outputs": [
    {
     "name": "stdout",
     "output_type": "stream",
     "text": [
      "P-value: 0.729\n",
      "Относительные различия: 0.259\n"
     ]
    }
   ],
   "source": [
    "# Сравним \"средние чеки\" по сырым данным, а затем проделаем те же самые действия с выборкой без выбросов.\n",
    "\n",
    "print('P-value:','{0:.3f}'.format(stats.mannwhitneyu(orders[orders['group']=='A']['revenue'], orders[orders['group']=='B']['revenue'])[1]))\n",
    "print('Относительные различия:','{0:.3f}'.format(orders[orders['group']=='B']['revenue'].mean()/orders[orders['group']=='A']['revenue'].mean()-1)) "
   ]
  },
  {
   "cell_type": "markdown",
   "metadata": {},
   "source": [
    "P-value значительно больше 0.05, статистически значимых отличий в среднем чеке между группами нет.\n",
    "Относительное различие между чеками около 26%.\n",
    "Почистим данные и посчитаем те же метрики.\n",
    "\n",
    "Приступаем к подготовке очищенных от аномалий данных.\n",
    "\n",
    "Напомним, что 95-й и 99-й перцентили средних чеков равны 28 000 и 58 233 рублям.\n",
    "А 95-й и 99-й перцентили числа заказов на одного пользователя равны 2 и 4 заказам на пользователя.\n",
    "Примем за аномальных пользователей тех, кто совершил 4 заказа и более, или совершил заказ на сумму свыше 30 000 рублей.\n",
    "Так мы уберём 1% пользователей с наибольшим числом заказов и от 1% до 5% заказов с наибольшей стоимостью. \n",
    "\n",
    "Удалять нужно именно пользователей — сначала определим аномальные заказы.\n",
    "\n",
    "Затем пользователей, совершивших их, и добавим их в список аномальных. \n",
    "\n",
    "Сделаем срезы пользователей с числом заказов больше 2 — usersWithManyOrders и пользователей, совершивших заказы дороже 10 000 — usersWithExpensiveOrders. \n",
    "Объединим их в таблице abnormalUsers, удалим дубликаты, отсортируем по возрастанию."
   ]
  },
  {
   "cell_type": "code",
   "execution_count": 43,
   "metadata": {},
   "outputs": [],
   "source": [
    "usersWithManyOrders = pd.concat(\n",
    "    [\n",
    "        ordersByUsersA[ordersByUsersA['transaction_id'] > 4]['visitor_id'],\n",
    "        ordersByUsersB[ordersByUsersB['transaction_id'] > 4]['visitor_id'],\n",
    "    ],\n",
    "    axis=0,\n",
    ")\n",
    "usersWithExpensiveOrders = orders[orders['revenue'] > 30000]['visitor_id']\n",
    "abnormalUsers = (\n",
    "    pd.concat([usersWithManyOrders, usersWithExpensiveOrders], axis=0)\n",
    "    .drop_duplicates()\n",
    "    .sort_values()\n",
    ")"
   ]
  },
  {
   "cell_type": "code",
   "execution_count": 44,
   "metadata": {},
   "outputs": [
    {
     "name": "stdout",
     "output_type": "stream",
     "text": [
      "P-value: 0.019\n",
      "Относительные различия: 0.144\n"
     ]
    }
   ],
   "source": [
    "sampleAFiltered = pd.concat(\n",
    "    [\n",
    "        ordersByUsersA[\n",
    "            np.logical_not(ordersByUsersA['visitor_id'].isin(abnormalUsers))\n",
    "        ]['transaction_id'],\n",
    "        pd.Series(\n",
    "            0,\n",
    "            index=np.arange(\n",
    "                data['visitorsPerDateA'].sum() - len(ordersByUsersA['transaction_id'])\n",
    "            ),\n",
    "            name='orders',\n",
    "        ),\n",
    "    ],\n",
    "    axis=0,\n",
    ")\n",
    "\n",
    "sampleBFiltered = pd.concat(\n",
    "    [\n",
    "        ordersByUsersB[\n",
    "            np.logical_not(ordersByUsersB['visitor_id'].isin(abnormalUsers))\n",
    "        ]['transaction_id'],\n",
    "        pd.Series(\n",
    "            0,\n",
    "            index=np.arange(\n",
    "                data['visitorsPerDateB'].sum() - len(ordersByUsersB['transaction_id'])\n",
    "            ),\n",
    "            name='orders',\n",
    "        ),\n",
    "    ],\n",
    "    axis=0,\n",
    ") \n",
    "print('P-value:','{0:.3f}'.format(stats.mannwhitneyu(sampleAFiltered, sampleBFiltered)[1]))\n",
    "print('Относительные различия:','{0:.3f}'.format(sampleBFiltered.mean()/sampleAFiltered.mean()-1)) "
   ]
  },
  {
   "cell_type": "markdown",
   "metadata": {},
   "source": [
    "Как и в случае с сырым данными, статистическая значимость достигнута. Сегмент В лучше сегмента А."
   ]
  },
  {
   "cell_type": "code",
   "execution_count": 45,
   "metadata": {},
   "outputs": [
    {
     "name": "stdout",
     "output_type": "stream",
     "text": [
      "P-value: 0.979\n",
      "Относительные различия: -0.017\n"
     ]
    }
   ],
   "source": [
    "# Посчитаем статистическую значимость различия средних чеков после удаления аномальных пользователей.\n",
    "\n",
    "print('P-value:',\n",
    "    '{0:.3f}'.format(\n",
    "        stats.mannwhitneyu(\n",
    "            orders[\n",
    "                np.logical_and(\n",
    "                    orders['group'] == 'A',\n",
    "                    np.logical_not(orders['visitor_id'].isin(abnormalUsers)),\n",
    "                )\n",
    "            ]['revenue'],\n",
    "            orders[\n",
    "                np.logical_and(\n",
    "                    orders['group'] == 'B',\n",
    "                    np.logical_not(orders['visitor_id'].isin(abnormalUsers)),\n",
    "                )\n",
    "            ]['revenue'],\n",
    "        )[1]\n",
    "    )\n",
    ")\n",
    "\n",
    "print('Относительные различия:',\n",
    "    \"{0:.3f}\".format(\n",
    "        orders[\n",
    "            np.logical_and(\n",
    "                orders['group'] == 'B',\n",
    "                np.logical_not(orders['visitor_id'].isin(abnormalUsers)),\n",
    "            )\n",
    "        ]['revenue'].mean()\n",
    "        / orders[\n",
    "            np.logical_and(\n",
    "                orders['group'] == 'A',\n",
    "                np.logical_not(orders['visitor_id'].isin(abnormalUsers)),\n",
    "            )\n",
    "        ]['revenue'].mean()\n",
    "        - 1\n",
    "    )\n",
    ") "
   ]
  },
  {
   "cell_type": "markdown",
   "metadata": {},
   "source": [
    "P-value увеличился, но и разница между сегментами сократилась с 26% до -17%. После удаления выбросов в данных меньше шума."
   ]
  },
  {
   "cell_type": "markdown",
   "metadata": {},
   "source": [
    "**Выводы**\n",
    "\n",
    "Есть статистически значимое различие по конверсии между группами как по сырым данным, так и после фильтрации аномалий.\n",
    "\n",
    "По сырым данным нет статистически значимого различия по среднему чеку между группами, как и после удаления выбросов.\n",
    "\n",
    "График различия конверсии между группами сообщает, что результаты группы B лучше группы A: имеют тенденцию к росту, либо зафиксировались около среднего значения.\n",
    "\n",
    "График различия среднего чека колеблется: он-то и позволил вам найти аномалии.\n",
    "\n",
    "Сделать из этого графика определённые выводы нельзя.\n",
    "\n",
    "Есть вариант остановить тест, признать победу группы В."
   ]
  }
 ],
 "metadata": {
  "ExecuteTimeLog": [
   {
    "duration": 1360,
    "start_time": "2023-05-14T17:27:03.318Z"
   },
   {
    "duration": 83,
    "start_time": "2023-05-14T17:27:12.483Z"
   },
   {
    "duration": 16,
    "start_time": "2023-05-14T17:27:18.976Z"
   },
   {
    "duration": 17,
    "start_time": "2023-05-14T17:27:48.868Z"
   },
   {
    "duration": 3,
    "start_time": "2023-05-14T17:28:02.856Z"
   },
   {
    "duration": 17,
    "start_time": "2023-05-14T17:28:35.581Z"
   },
   {
    "duration": 14,
    "start_time": "2023-05-14T17:29:07.445Z"
   },
   {
    "duration": 14,
    "start_time": "2023-05-14T17:29:26.341Z"
   },
   {
    "duration": 113,
    "start_time": "2023-05-14T17:30:21.530Z"
   },
   {
    "duration": 9,
    "start_time": "2023-05-14T17:31:00.272Z"
   },
   {
    "duration": 17,
    "start_time": "2023-05-14T17:31:43.680Z"
   },
   {
    "duration": 94,
    "start_time": "2023-05-14T17:31:50.399Z"
   },
   {
    "duration": 10,
    "start_time": "2023-05-14T17:32:00.094Z"
   },
   {
    "duration": 7,
    "start_time": "2023-05-14T17:32:15.274Z"
   },
   {
    "duration": 16,
    "start_time": "2023-05-14T17:32:23.151Z"
   },
   {
    "duration": 308,
    "start_time": "2023-05-14T17:32:45.379Z"
   },
   {
    "duration": 302,
    "start_time": "2023-05-14T17:33:10.922Z"
   },
   {
    "duration": 206,
    "start_time": "2023-05-14T17:33:40.794Z"
   },
   {
    "duration": 403,
    "start_time": "2023-05-14T17:34:10.219Z"
   },
   {
    "duration": 231,
    "start_time": "2023-05-14T17:34:45.876Z"
   },
   {
    "duration": 283,
    "start_time": "2023-05-14T17:37:32.602Z"
   },
   {
    "duration": 146,
    "start_time": "2023-05-14T17:37:58.238Z"
   },
   {
    "duration": 7,
    "start_time": "2023-05-14T17:38:21.724Z"
   },
   {
    "duration": 6,
    "start_time": "2023-05-14T17:38:37.718Z"
   },
   {
    "duration": 7,
    "start_time": "2023-05-14T17:39:01.715Z"
   },
   {
    "duration": 5,
    "start_time": "2023-05-14T17:39:09.372Z"
   },
   {
    "duration": 5,
    "start_time": "2023-05-14T17:39:12.072Z"
   },
   {
    "duration": 140,
    "start_time": "2023-05-14T17:39:29.304Z"
   },
   {
    "duration": 8,
    "start_time": "2023-05-14T17:39:52.136Z"
   },
   {
    "duration": 219,
    "start_time": "2023-05-14T17:40:17.624Z"
   },
   {
    "duration": 29,
    "start_time": "2023-05-14T17:40:24.974Z"
   },
   {
    "duration": 203,
    "start_time": "2023-05-14T17:40:33.184Z"
   },
   {
    "duration": 15,
    "start_time": "2023-05-14T17:41:12.072Z"
   },
   {
    "duration": 9,
    "start_time": "2023-05-14T17:41:32.060Z"
   },
   {
    "duration": 29,
    "start_time": "2023-05-14T17:41:41.953Z"
   },
   {
    "duration": 16,
    "start_time": "2023-05-14T17:42:21.313Z"
   },
   {
    "duration": 4,
    "start_time": "2023-05-14T17:42:57.738Z"
   },
   {
    "duration": 46,
    "start_time": "2023-05-14T17:42:57.745Z"
   },
   {
    "duration": 11,
    "start_time": "2023-05-14T17:42:57.793Z"
   },
   {
    "duration": 34,
    "start_time": "2023-05-14T17:42:57.806Z"
   },
   {
    "duration": 14,
    "start_time": "2023-05-14T17:42:57.843Z"
   },
   {
    "duration": 42,
    "start_time": "2023-05-14T17:42:57.859Z"
   },
   {
    "duration": 69,
    "start_time": "2023-05-14T17:42:57.903Z"
   },
   {
    "duration": 56,
    "start_time": "2023-05-14T17:42:57.974Z"
   },
   {
    "duration": 76,
    "start_time": "2023-05-14T17:42:58.032Z"
   },
   {
    "duration": 8,
    "start_time": "2023-05-14T17:42:58.110Z"
   },
   {
    "duration": 22,
    "start_time": "2023-05-14T17:42:58.120Z"
   },
   {
    "duration": 37,
    "start_time": "2023-05-14T17:42:58.144Z"
   },
   {
    "duration": 8,
    "start_time": "2023-05-14T17:42:58.183Z"
   },
   {
    "duration": 23,
    "start_time": "2023-05-14T17:42:58.194Z"
   },
   {
    "duration": 33,
    "start_time": "2023-05-14T17:42:58.219Z"
   },
   {
    "duration": 340,
    "start_time": "2023-05-14T17:42:58.255Z"
   },
   {
    "duration": 298,
    "start_time": "2023-05-14T17:42:58.596Z"
   },
   {
    "duration": 240,
    "start_time": "2023-05-14T17:42:58.895Z"
   },
   {
    "duration": 297,
    "start_time": "2023-05-14T17:42:59.137Z"
   },
   {
    "duration": 213,
    "start_time": "2023-05-14T17:42:59.436Z"
   },
   {
    "duration": 308,
    "start_time": "2023-05-14T17:42:59.651Z"
   },
   {
    "duration": 169,
    "start_time": "2023-05-14T17:42:59.961Z"
   },
   {
    "duration": 8,
    "start_time": "2023-05-14T17:43:00.133Z"
   },
   {
    "duration": 69,
    "start_time": "2023-05-14T17:43:00.143Z"
   },
   {
    "duration": 385,
    "start_time": "2023-05-14T17:43:00.214Z"
   },
   {
    "duration": 10,
    "start_time": "2023-05-14T17:43:00.602Z"
   },
   {
    "duration": 284,
    "start_time": "2023-05-14T17:43:00.614Z"
   },
   {
    "duration": 26,
    "start_time": "2023-05-14T17:43:00.900Z"
   },
   {
    "duration": 381,
    "start_time": "2023-05-14T17:43:00.928Z"
   },
   {
    "duration": 11,
    "start_time": "2023-05-14T17:43:01.311Z"
   },
   {
    "duration": 143,
    "start_time": "2023-05-14T17:43:01.324Z"
   },
   {
    "duration": 99,
    "start_time": "2023-05-14T17:43:01.469Z"
   },
   {
    "duration": 39,
    "start_time": "2023-05-14T17:43:01.569Z"
   },
   {
    "duration": 1555,
    "start_time": "2023-05-15T12:05:24.080Z"
   },
   {
    "duration": 38,
    "start_time": "2023-05-15T12:05:25.637Z"
   },
   {
    "duration": 11,
    "start_time": "2023-05-15T12:05:25.677Z"
   },
   {
    "duration": 43,
    "start_time": "2023-05-15T12:05:25.690Z"
   },
   {
    "duration": 12,
    "start_time": "2023-05-15T12:05:25.736Z"
   },
   {
    "duration": 30,
    "start_time": "2023-05-15T12:05:25.750Z"
   },
   {
    "duration": 15,
    "start_time": "2023-05-15T12:05:25.782Z"
   },
   {
    "duration": 55,
    "start_time": "2023-05-15T12:05:25.798Z"
   },
   {
    "duration": 72,
    "start_time": "2023-05-15T12:05:25.855Z"
   },
   {
    "duration": 7,
    "start_time": "2023-05-15T12:05:25.928Z"
   },
   {
    "duration": 20,
    "start_time": "2023-05-15T12:05:25.937Z"
   },
   {
    "duration": 31,
    "start_time": "2023-05-15T12:05:25.958Z"
   },
   {
    "duration": 21,
    "start_time": "2023-05-15T12:05:25.990Z"
   },
   {
    "duration": 32,
    "start_time": "2023-05-15T12:05:26.018Z"
   },
   {
    "duration": 32,
    "start_time": "2023-05-15T12:05:26.051Z"
   },
   {
    "duration": 299,
    "start_time": "2023-05-15T12:05:26.085Z"
   },
   {
    "duration": 315,
    "start_time": "2023-05-15T12:05:26.385Z"
   },
   {
    "duration": 190,
    "start_time": "2023-05-15T12:05:26.703Z"
   },
   {
    "duration": 322,
    "start_time": "2023-05-15T12:05:26.894Z"
   },
   {
    "duration": 203,
    "start_time": "2023-05-15T12:05:27.219Z"
   },
   {
    "duration": 280,
    "start_time": "2023-05-15T12:05:27.427Z"
   },
   {
    "duration": 134,
    "start_time": "2023-05-15T12:05:27.711Z"
   },
   {
    "duration": 5,
    "start_time": "2023-05-15T12:05:27.847Z"
   },
   {
    "duration": 11,
    "start_time": "2023-05-15T12:05:27.853Z"
   },
   {
    "duration": 139,
    "start_time": "2023-05-15T12:05:27.865Z"
   },
   {
    "duration": 8,
    "start_time": "2023-05-15T12:05:28.005Z"
   },
   {
    "duration": 202,
    "start_time": "2023-05-15T12:05:28.018Z"
   },
   {
    "duration": 21,
    "start_time": "2023-05-15T12:05:28.227Z"
   },
   {
    "duration": 189,
    "start_time": "2023-05-15T12:05:28.250Z"
   },
   {
    "duration": 11,
    "start_time": "2023-05-15T12:05:28.441Z"
   },
   {
    "duration": 23,
    "start_time": "2023-05-15T12:05:28.454Z"
   },
   {
    "duration": 49,
    "start_time": "2023-05-15T12:05:28.478Z"
   },
   {
    "duration": 13,
    "start_time": "2023-05-15T12:05:28.529Z"
   },
   {
    "duration": 417,
    "start_time": "2023-05-15T12:13:06.381Z"
   },
   {
    "duration": 217,
    "start_time": "2023-05-15T12:13:12.941Z"
   },
   {
    "duration": 395,
    "start_time": "2023-05-15T12:14:26.549Z"
   },
   {
    "duration": 334,
    "start_time": "2023-05-15T12:14:32.828Z"
   },
   {
    "duration": 228,
    "start_time": "2023-05-15T12:14:40.025Z"
   },
   {
    "duration": 230,
    "start_time": "2023-05-15T12:14:43.931Z"
   },
   {
    "duration": 232,
    "start_time": "2023-05-15T12:14:51.537Z"
   },
   {
    "duration": 214,
    "start_time": "2023-05-15T12:15:03.615Z"
   },
   {
    "duration": 196,
    "start_time": "2023-05-15T12:16:32.934Z"
   },
   {
    "duration": 44,
    "start_time": "2023-05-15T19:16:58.587Z"
   },
   {
    "duration": 1122,
    "start_time": "2023-05-15T19:17:30.022Z"
   },
   {
    "duration": 72,
    "start_time": "2023-05-15T19:17:31.146Z"
   },
   {
    "duration": 11,
    "start_time": "2023-05-15T19:17:31.219Z"
   },
   {
    "duration": 50,
    "start_time": "2023-05-15T19:17:31.232Z"
   },
   {
    "duration": 14,
    "start_time": "2023-05-15T19:17:31.284Z"
   },
   {
    "duration": 44,
    "start_time": "2023-05-15T19:17:31.299Z"
   },
   {
    "duration": 20,
    "start_time": "2023-05-15T19:17:31.344Z"
   },
   {
    "duration": 33,
    "start_time": "2023-05-15T19:17:31.366Z"
   },
   {
    "duration": 35,
    "start_time": "2023-05-15T19:17:31.400Z"
   },
   {
    "duration": 102,
    "start_time": "2023-05-15T19:17:31.436Z"
   },
   {
    "duration": 7,
    "start_time": "2023-05-15T19:17:31.540Z"
   },
   {
    "duration": 46,
    "start_time": "2023-05-15T19:17:31.548Z"
   },
   {
    "duration": 76,
    "start_time": "2023-05-15T19:17:31.595Z"
   },
   {
    "duration": 6,
    "start_time": "2023-05-15T19:17:31.673Z"
   },
   {
    "duration": 21,
    "start_time": "2023-05-15T19:17:31.681Z"
   },
   {
    "duration": 49,
    "start_time": "2023-05-15T19:17:31.703Z"
   },
   {
    "duration": 282,
    "start_time": "2023-05-15T19:17:31.753Z"
   },
   {
    "duration": 234,
    "start_time": "2023-05-15T19:17:32.036Z"
   },
   {
    "duration": 165,
    "start_time": "2023-05-15T19:17:32.271Z"
   },
   {
    "duration": 325,
    "start_time": "2023-05-15T19:17:32.438Z"
   },
   {
    "duration": 170,
    "start_time": "2023-05-15T19:17:32.765Z"
   },
   {
    "duration": 256,
    "start_time": "2023-05-15T19:17:32.936Z"
   },
   {
    "duration": 122,
    "start_time": "2023-05-15T19:17:33.194Z"
   },
   {
    "duration": 5,
    "start_time": "2023-05-15T19:17:33.317Z"
   },
   {
    "duration": 5,
    "start_time": "2023-05-15T19:17:33.324Z"
   },
   {
    "duration": 133,
    "start_time": "2023-05-15T19:17:33.330Z"
   },
   {
    "duration": 6,
    "start_time": "2023-05-15T19:17:33.465Z"
   },
   {
    "duration": 194,
    "start_time": "2023-05-15T19:17:33.472Z"
   },
   {
    "duration": 18,
    "start_time": "2023-05-15T19:17:33.668Z"
   },
   {
    "duration": 140,
    "start_time": "2023-05-15T19:17:33.687Z"
   },
   {
    "duration": 9,
    "start_time": "2023-05-15T19:17:33.828Z"
   },
   {
    "duration": 5,
    "start_time": "2023-05-15T19:17:33.839Z"
   },
   {
    "duration": 25,
    "start_time": "2023-05-15T19:17:33.846Z"
   },
   {
    "duration": 40,
    "start_time": "2023-05-15T19:17:33.872Z"
   },
   {
    "duration": 2,
    "start_time": "2023-05-15T19:17:50.108Z"
   },
   {
    "duration": 3,
    "start_time": "2023-05-15T19:17:58.977Z"
   },
   {
    "duration": 10,
    "start_time": "2023-05-15T19:17:59.661Z"
   },
   {
    "duration": 12,
    "start_time": "2023-05-15T19:18:15.858Z"
   },
   {
    "duration": 6,
    "start_time": "2023-05-15T19:18:19.244Z"
   },
   {
    "duration": 3,
    "start_time": "2023-05-15T19:18:45.237Z"
   },
   {
    "duration": 7,
    "start_time": "2023-05-15T19:18:51.849Z"
   },
   {
    "duration": 11,
    "start_time": "2023-05-15T19:19:01.006Z"
   },
   {
    "duration": 11,
    "start_time": "2023-05-15T19:19:05.991Z"
   },
   {
    "duration": 3,
    "start_time": "2023-05-15T19:19:24.635Z"
   },
   {
    "duration": 28,
    "start_time": "2023-05-15T19:19:24.640Z"
   },
   {
    "duration": 10,
    "start_time": "2023-05-15T19:19:24.669Z"
   },
   {
    "duration": 8,
    "start_time": "2023-05-15T19:19:24.681Z"
   },
   {
    "duration": 3,
    "start_time": "2023-05-15T19:19:24.691Z"
   },
   {
    "duration": 13,
    "start_time": "2023-05-15T19:19:24.695Z"
   },
   {
    "duration": 15,
    "start_time": "2023-05-15T19:19:24.709Z"
   },
   {
    "duration": 12,
    "start_time": "2023-05-15T19:19:24.726Z"
   },
   {
    "duration": 46,
    "start_time": "2023-05-15T19:19:24.739Z"
   },
   {
    "duration": 7,
    "start_time": "2023-05-15T19:19:24.786Z"
   },
   {
    "duration": 31,
    "start_time": "2023-05-15T19:19:24.795Z"
   },
   {
    "duration": 38,
    "start_time": "2023-05-15T19:19:24.828Z"
   },
   {
    "duration": 13,
    "start_time": "2023-05-15T19:19:24.867Z"
   },
   {
    "duration": 7,
    "start_time": "2023-05-15T19:19:24.882Z"
   },
   {
    "duration": 11,
    "start_time": "2023-05-15T19:19:24.891Z"
   },
   {
    "duration": 282,
    "start_time": "2023-05-15T19:19:24.903Z"
   },
   {
    "duration": 257,
    "start_time": "2023-05-15T19:19:25.186Z"
   },
   {
    "duration": 185,
    "start_time": "2023-05-15T19:19:25.444Z"
   },
   {
    "duration": 284,
    "start_time": "2023-05-15T19:19:25.630Z"
   },
   {
    "duration": 191,
    "start_time": "2023-05-15T19:19:25.915Z"
   },
   {
    "duration": 271,
    "start_time": "2023-05-15T19:19:26.107Z"
   },
   {
    "duration": 115,
    "start_time": "2023-05-15T19:19:26.379Z"
   },
   {
    "duration": 11,
    "start_time": "2023-05-15T19:19:26.495Z"
   },
   {
    "duration": 4,
    "start_time": "2023-05-15T19:19:26.507Z"
   },
   {
    "duration": 127,
    "start_time": "2023-05-15T19:19:26.512Z"
   },
   {
    "duration": 6,
    "start_time": "2023-05-15T19:19:26.640Z"
   },
   {
    "duration": 188,
    "start_time": "2023-05-15T19:19:26.647Z"
   },
   {
    "duration": 20,
    "start_time": "2023-05-15T19:19:26.836Z"
   },
   {
    "duration": 153,
    "start_time": "2023-05-15T19:19:26.857Z"
   },
   {
    "duration": 9,
    "start_time": "2023-05-15T19:19:27.011Z"
   },
   {
    "duration": 9,
    "start_time": "2023-05-15T19:19:27.021Z"
   },
   {
    "duration": 25,
    "start_time": "2023-05-15T19:19:27.032Z"
   },
   {
    "duration": 12,
    "start_time": "2023-05-15T19:19:27.058Z"
   },
   {
    "duration": 241,
    "start_time": "2023-05-15T19:23:52.311Z"
   },
   {
    "duration": 317,
    "start_time": "2023-05-15T19:24:02.382Z"
   },
   {
    "duration": 196,
    "start_time": "2023-05-15T19:24:45.890Z"
   },
   {
    "duration": 247,
    "start_time": "2023-05-15T19:24:51.732Z"
   },
   {
    "duration": 201,
    "start_time": "2023-05-15T19:25:00.408Z"
   },
   {
    "duration": 176,
    "start_time": "2023-05-15T19:25:10.532Z"
   },
   {
    "duration": 60,
    "start_time": "2023-05-17T10:34:26.484Z"
   },
   {
    "duration": 1414,
    "start_time": "2023-05-17T10:34:34.471Z"
   },
   {
    "duration": 73,
    "start_time": "2023-05-17T10:34:35.888Z"
   },
   {
    "duration": 13,
    "start_time": "2023-05-17T10:34:35.963Z"
   },
   {
    "duration": 34,
    "start_time": "2023-05-17T10:34:35.979Z"
   },
   {
    "duration": 20,
    "start_time": "2023-05-17T10:34:36.016Z"
   },
   {
    "duration": 40,
    "start_time": "2023-05-17T10:34:36.038Z"
   },
   {
    "duration": 17,
    "start_time": "2023-05-17T10:34:36.080Z"
   },
   {
    "duration": 18,
    "start_time": "2023-05-17T10:34:36.099Z"
   },
   {
    "duration": 135,
    "start_time": "2023-05-17T10:34:36.119Z"
   },
   {
    "duration": 11,
    "start_time": "2023-05-17T10:34:36.257Z"
   },
   {
    "duration": 37,
    "start_time": "2023-05-17T10:34:36.270Z"
   },
   {
    "duration": 75,
    "start_time": "2023-05-17T10:34:36.309Z"
   },
   {
    "duration": 8,
    "start_time": "2023-05-17T10:34:36.385Z"
   },
   {
    "duration": 7,
    "start_time": "2023-05-17T10:34:36.394Z"
   },
   {
    "duration": 15,
    "start_time": "2023-05-17T10:34:36.403Z"
   },
   {
    "duration": 12,
    "start_time": "2023-05-17T10:34:36.420Z"
   },
   {
    "duration": 393,
    "start_time": "2023-05-17T10:34:36.434Z"
   },
   {
    "duration": 299,
    "start_time": "2023-05-17T10:34:36.829Z"
   },
   {
    "duration": 215,
    "start_time": "2023-05-17T10:34:37.130Z"
   },
   {
    "duration": 431,
    "start_time": "2023-05-17T10:34:37.347Z"
   },
   {
    "duration": 271,
    "start_time": "2023-05-17T10:34:37.780Z"
   },
   {
    "duration": 337,
    "start_time": "2023-05-17T10:34:38.053Z"
   },
   {
    "duration": 141,
    "start_time": "2023-05-17T10:34:38.392Z"
   },
   {
    "duration": 6,
    "start_time": "2023-05-17T10:34:38.535Z"
   },
   {
    "duration": 14,
    "start_time": "2023-05-17T10:34:38.544Z"
   },
   {
    "duration": 154,
    "start_time": "2023-05-17T10:34:38.560Z"
   },
   {
    "duration": 8,
    "start_time": "2023-05-17T10:34:38.716Z"
   },
   {
    "duration": 235,
    "start_time": "2023-05-17T10:34:38.728Z"
   },
   {
    "duration": 30,
    "start_time": "2023-05-17T10:34:38.965Z"
   },
   {
    "duration": 215,
    "start_time": "2023-05-17T10:34:38.997Z"
   },
   {
    "duration": 13,
    "start_time": "2023-05-17T10:34:39.214Z"
   },
   {
    "duration": 14,
    "start_time": "2023-05-17T10:34:39.230Z"
   },
   {
    "duration": 57,
    "start_time": "2023-05-17T10:34:39.246Z"
   },
   {
    "duration": 18,
    "start_time": "2023-05-17T10:34:39.305Z"
   },
   {
    "duration": 92,
    "start_time": "2023-05-17T10:35:35.031Z"
   },
   {
    "duration": 16,
    "start_time": "2023-05-17T10:35:59.376Z"
   },
   {
    "duration": 499,
    "start_time": "2023-05-17T10:36:32.783Z"
   },
   {
    "duration": 587,
    "start_time": "2023-05-17T10:36:48.787Z"
   },
   {
    "duration": 13,
    "start_time": "2023-05-17T10:44:59.479Z"
   },
   {
    "duration": 10,
    "start_time": "2023-05-17T10:47:22.976Z"
   },
   {
    "duration": 11,
    "start_time": "2023-05-17T10:48:57.556Z"
   },
   {
    "duration": 279,
    "start_time": "2023-05-17T10:49:47.581Z"
   },
   {
    "duration": 13,
    "start_time": "2023-05-17T10:52:48.688Z"
   },
   {
    "duration": 396,
    "start_time": "2023-05-17T10:55:38.579Z"
   },
   {
    "duration": 571,
    "start_time": "2023-05-17T10:55:52.358Z"
   },
   {
    "duration": 1285,
    "start_time": "2023-05-18T09:28:46.671Z"
   },
   {
    "duration": 70,
    "start_time": "2023-05-18T09:28:47.958Z"
   },
   {
    "duration": 13,
    "start_time": "2023-05-18T09:28:48.030Z"
   },
   {
    "duration": 16,
    "start_time": "2023-05-18T09:28:48.045Z"
   },
   {
    "duration": 3,
    "start_time": "2023-05-18T09:28:48.063Z"
   },
   {
    "duration": 17,
    "start_time": "2023-05-18T09:28:48.067Z"
   },
   {
    "duration": 13,
    "start_time": "2023-05-18T09:28:48.085Z"
   },
   {
    "duration": 34,
    "start_time": "2023-05-18T09:28:48.099Z"
   },
   {
    "duration": 87,
    "start_time": "2023-05-18T09:28:48.135Z"
   },
   {
    "duration": 7,
    "start_time": "2023-05-18T09:28:48.224Z"
   },
   {
    "duration": 16,
    "start_time": "2023-05-18T09:28:48.233Z"
   },
   {
    "duration": 71,
    "start_time": "2023-05-18T09:28:48.250Z"
   },
   {
    "duration": 8,
    "start_time": "2023-05-18T09:28:48.323Z"
   },
   {
    "duration": 13,
    "start_time": "2023-05-18T09:28:48.335Z"
   },
   {
    "duration": 14,
    "start_time": "2023-05-18T09:28:48.350Z"
   },
   {
    "duration": 6,
    "start_time": "2023-05-18T09:28:48.366Z"
   },
   {
    "duration": 22,
    "start_time": "2023-05-18T09:28:48.374Z"
   },
   {
    "duration": 664,
    "start_time": "2023-05-18T09:28:48.398Z"
   },
   {
    "duration": 290,
    "start_time": "2023-05-18T09:28:49.063Z"
   },
   {
    "duration": 229,
    "start_time": "2023-05-18T09:28:49.354Z"
   },
   {
    "duration": 296,
    "start_time": "2023-05-18T09:28:49.585Z"
   },
   {
    "duration": 368,
    "start_time": "2023-05-18T09:28:49.883Z"
   },
   {
    "duration": 235,
    "start_time": "2023-05-18T09:28:50.253Z"
   },
   {
    "duration": 323,
    "start_time": "2023-05-18T09:28:50.490Z"
   },
   {
    "duration": 160,
    "start_time": "2023-05-18T09:28:50.815Z"
   },
   {
    "duration": 7,
    "start_time": "2023-05-18T09:28:50.978Z"
   },
   {
    "duration": 17,
    "start_time": "2023-05-18T09:28:50.987Z"
   },
   {
    "duration": 265,
    "start_time": "2023-05-18T09:28:51.006Z"
   },
   {
    "duration": 7,
    "start_time": "2023-05-18T09:28:51.273Z"
   },
   {
    "duration": 212,
    "start_time": "2023-05-18T09:28:51.281Z"
   },
   {
    "duration": 30,
    "start_time": "2023-05-18T09:28:51.495Z"
   },
   {
    "duration": 160,
    "start_time": "2023-05-18T09:28:51.527Z"
   },
   {
    "duration": 15,
    "start_time": "2023-05-18T09:28:51.689Z"
   },
   {
    "duration": 25,
    "start_time": "2023-05-18T09:28:51.706Z"
   },
   {
    "duration": 39,
    "start_time": "2023-05-18T09:28:51.733Z"
   },
   {
    "duration": 13,
    "start_time": "2023-05-18T09:28:51.774Z"
   },
   {
    "duration": 8,
    "start_time": "2023-05-18T09:33:43.801Z"
   },
   {
    "duration": 13,
    "start_time": "2023-05-18T09:34:40.056Z"
   },
   {
    "duration": 163,
    "start_time": "2023-05-18T09:35:17.809Z"
   },
   {
    "duration": 9,
    "start_time": "2023-05-18T09:35:31.082Z"
   },
   {
    "duration": 50,
    "start_time": "2023-05-19T20:07:31.547Z"
   },
   {
    "duration": 1236,
    "start_time": "2023-05-19T20:07:40.586Z"
   },
   {
    "duration": 70,
    "start_time": "2023-05-19T20:07:41.824Z"
   },
   {
    "duration": 8,
    "start_time": "2023-05-19T20:07:41.896Z"
   },
   {
    "duration": 24,
    "start_time": "2023-05-19T20:07:41.905Z"
   },
   {
    "duration": 9,
    "start_time": "2023-05-19T20:07:41.931Z"
   },
   {
    "duration": 7,
    "start_time": "2023-05-19T20:07:41.942Z"
   },
   {
    "duration": 3,
    "start_time": "2023-05-19T20:07:41.950Z"
   },
   {
    "duration": 66,
    "start_time": "2023-05-19T20:07:41.954Z"
   },
   {
    "duration": 0,
    "start_time": "2023-05-19T20:07:42.023Z"
   },
   {
    "duration": 0,
    "start_time": "2023-05-19T20:07:42.024Z"
   },
   {
    "duration": 0,
    "start_time": "2023-05-19T20:07:42.025Z"
   },
   {
    "duration": 0,
    "start_time": "2023-05-19T20:07:42.026Z"
   },
   {
    "duration": 0,
    "start_time": "2023-05-19T20:07:42.027Z"
   },
   {
    "duration": 0,
    "start_time": "2023-05-19T20:07:42.027Z"
   },
   {
    "duration": 0,
    "start_time": "2023-05-19T20:07:42.028Z"
   },
   {
    "duration": 0,
    "start_time": "2023-05-19T20:07:42.029Z"
   },
   {
    "duration": 0,
    "start_time": "2023-05-19T20:07:42.030Z"
   },
   {
    "duration": 0,
    "start_time": "2023-05-19T20:07:42.031Z"
   },
   {
    "duration": 0,
    "start_time": "2023-05-19T20:07:42.032Z"
   },
   {
    "duration": 0,
    "start_time": "2023-05-19T20:07:42.034Z"
   },
   {
    "duration": 0,
    "start_time": "2023-05-19T20:07:42.035Z"
   },
   {
    "duration": 0,
    "start_time": "2023-05-19T20:07:42.036Z"
   },
   {
    "duration": 0,
    "start_time": "2023-05-19T20:07:42.037Z"
   },
   {
    "duration": 0,
    "start_time": "2023-05-19T20:07:42.038Z"
   },
   {
    "duration": 0,
    "start_time": "2023-05-19T20:07:42.039Z"
   },
   {
    "duration": 0,
    "start_time": "2023-05-19T20:07:42.040Z"
   },
   {
    "duration": 0,
    "start_time": "2023-05-19T20:07:42.041Z"
   },
   {
    "duration": 0,
    "start_time": "2023-05-19T20:07:42.075Z"
   },
   {
    "duration": 0,
    "start_time": "2023-05-19T20:07:42.076Z"
   },
   {
    "duration": 0,
    "start_time": "2023-05-19T20:07:42.078Z"
   },
   {
    "duration": 0,
    "start_time": "2023-05-19T20:07:42.079Z"
   },
   {
    "duration": 0,
    "start_time": "2023-05-19T20:07:42.080Z"
   },
   {
    "duration": 0,
    "start_time": "2023-05-19T20:07:42.081Z"
   },
   {
    "duration": 0,
    "start_time": "2023-05-19T20:07:42.085Z"
   },
   {
    "duration": 0,
    "start_time": "2023-05-19T20:07:42.086Z"
   },
   {
    "duration": 0,
    "start_time": "2023-05-19T20:07:42.087Z"
   },
   {
    "duration": 0,
    "start_time": "2023-05-19T20:07:42.088Z"
   },
   {
    "duration": 0,
    "start_time": "2023-05-19T20:07:42.089Z"
   },
   {
    "duration": 14,
    "start_time": "2023-05-19T20:08:00.231Z"
   },
   {
    "duration": 13,
    "start_time": "2023-05-19T20:08:08.424Z"
   },
   {
    "duration": 11,
    "start_time": "2023-05-19T20:08:16.981Z"
   },
   {
    "duration": 3,
    "start_time": "2023-05-19T20:08:19.414Z"
   },
   {
    "duration": 35,
    "start_time": "2023-05-19T20:08:19.419Z"
   },
   {
    "duration": 5,
    "start_time": "2023-05-19T20:08:19.456Z"
   },
   {
    "duration": 16,
    "start_time": "2023-05-19T20:08:19.462Z"
   },
   {
    "duration": 14,
    "start_time": "2023-05-19T20:08:19.481Z"
   },
   {
    "duration": 23,
    "start_time": "2023-05-19T20:08:19.496Z"
   },
   {
    "duration": 3,
    "start_time": "2023-05-19T20:08:19.521Z"
   },
   {
    "duration": 11,
    "start_time": "2023-05-19T20:08:19.526Z"
   },
   {
    "duration": 11,
    "start_time": "2023-05-19T20:08:19.539Z"
   },
   {
    "duration": 29,
    "start_time": "2023-05-19T20:08:19.551Z"
   },
   {
    "duration": 92,
    "start_time": "2023-05-19T20:08:19.581Z"
   },
   {
    "duration": 8,
    "start_time": "2023-05-19T20:08:19.675Z"
   },
   {
    "duration": 15,
    "start_time": "2023-05-19T20:08:19.685Z"
   },
   {
    "duration": 66,
    "start_time": "2023-05-19T20:08:19.702Z"
   },
   {
    "duration": 7,
    "start_time": "2023-05-19T20:08:19.769Z"
   },
   {
    "duration": 6,
    "start_time": "2023-05-19T20:08:19.777Z"
   },
   {
    "duration": 10,
    "start_time": "2023-05-19T20:08:19.784Z"
   },
   {
    "duration": 6,
    "start_time": "2023-05-19T20:08:19.795Z"
   },
   {
    "duration": 13,
    "start_time": "2023-05-19T20:08:19.802Z"
   },
   {
    "duration": 623,
    "start_time": "2023-05-19T20:08:19.817Z"
   },
   {
    "duration": 264,
    "start_time": "2023-05-19T20:08:20.442Z"
   },
   {
    "duration": 215,
    "start_time": "2023-05-19T20:08:20.708Z"
   },
   {
    "duration": 182,
    "start_time": "2023-05-19T20:08:20.925Z"
   },
   {
    "duration": 298,
    "start_time": "2023-05-19T20:08:21.109Z"
   },
   {
    "duration": 191,
    "start_time": "2023-05-19T20:08:21.409Z"
   },
   {
    "duration": 286,
    "start_time": "2023-05-19T20:08:21.602Z"
   },
   {
    "duration": 134,
    "start_time": "2023-05-19T20:08:21.890Z"
   },
   {
    "duration": 6,
    "start_time": "2023-05-19T20:08:22.025Z"
   },
   {
    "duration": 5,
    "start_time": "2023-05-19T20:08:22.032Z"
   },
   {
    "duration": 225,
    "start_time": "2023-05-19T20:08:22.038Z"
   },
   {
    "duration": 13,
    "start_time": "2023-05-19T20:08:22.264Z"
   },
   {
    "duration": 191,
    "start_time": "2023-05-19T20:08:22.278Z"
   },
   {
    "duration": 21,
    "start_time": "2023-05-19T20:08:22.470Z"
   },
   {
    "duration": 157,
    "start_time": "2023-05-19T20:08:22.492Z"
   },
   {
    "duration": 10,
    "start_time": "2023-05-19T20:08:22.652Z"
   },
   {
    "duration": 6,
    "start_time": "2023-05-19T20:08:22.674Z"
   },
   {
    "duration": 26,
    "start_time": "2023-05-19T20:08:22.684Z"
   },
   {
    "duration": 13,
    "start_time": "2023-05-19T20:08:22.711Z"
   },
   {
    "duration": 693,
    "start_time": "2023-05-19T20:43:56.538Z"
   },
   {
    "duration": 31,
    "start_time": "2023-05-19T20:44:11.995Z"
   },
   {
    "duration": 26,
    "start_time": "2023-05-19T20:48:11.941Z"
   },
   {
    "duration": 743,
    "start_time": "2023-05-19T20:49:51.523Z"
   },
   {
    "duration": 740,
    "start_time": "2023-05-19T20:51:11.097Z"
   },
   {
    "duration": 8,
    "start_time": "2023-05-19T20:55:15.942Z"
   },
   {
    "duration": 26,
    "start_time": "2023-05-19T20:55:49.011Z"
   },
   {
    "duration": 6,
    "start_time": "2023-05-19T20:56:08.469Z"
   },
   {
    "duration": 727,
    "start_time": "2023-05-19T20:56:19.813Z"
   },
   {
    "duration": 703,
    "start_time": "2023-05-19T20:56:46.817Z"
   },
   {
    "duration": 669,
    "start_time": "2023-05-19T20:57:05.807Z"
   },
   {
    "duration": 270,
    "start_time": "2023-05-19T20:58:39.343Z"
   },
   {
    "duration": 3,
    "start_time": "2023-05-19T20:58:45.121Z"
   },
   {
    "duration": 34,
    "start_time": "2023-05-19T20:58:45.125Z"
   },
   {
    "duration": 6,
    "start_time": "2023-05-19T20:58:45.160Z"
   },
   {
    "duration": 10,
    "start_time": "2023-05-19T20:58:45.167Z"
   },
   {
    "duration": 11,
    "start_time": "2023-05-19T20:58:45.179Z"
   },
   {
    "duration": 8,
    "start_time": "2023-05-19T20:58:45.192Z"
   },
   {
    "duration": 2,
    "start_time": "2023-05-19T20:58:45.202Z"
   },
   {
    "duration": 12,
    "start_time": "2023-05-19T20:58:45.206Z"
   },
   {
    "duration": 14,
    "start_time": "2023-05-19T20:58:45.220Z"
   },
   {
    "duration": 15,
    "start_time": "2023-05-19T20:58:45.235Z"
   },
   {
    "duration": 44,
    "start_time": "2023-05-19T20:58:45.275Z"
   },
   {
    "duration": 8,
    "start_time": "2023-05-19T20:58:45.321Z"
   },
   {
    "duration": 16,
    "start_time": "2023-05-19T20:58:45.331Z"
   },
   {
    "duration": 21,
    "start_time": "2023-05-19T20:58:45.348Z"
   },
   {
    "duration": 6,
    "start_time": "2023-05-19T20:58:45.371Z"
   },
   {
    "duration": 7,
    "start_time": "2023-05-19T20:58:45.378Z"
   },
   {
    "duration": 9,
    "start_time": "2023-05-19T20:58:45.386Z"
   },
   {
    "duration": 7,
    "start_time": "2023-05-19T20:58:45.396Z"
   },
   {
    "duration": 13,
    "start_time": "2023-05-19T20:58:45.404Z"
   },
   {
    "duration": 540,
    "start_time": "2023-05-19T20:58:45.418Z"
   },
   {
    "duration": 265,
    "start_time": "2023-05-19T20:58:45.959Z"
   },
   {
    "duration": 209,
    "start_time": "2023-05-19T20:58:46.226Z"
   },
   {
    "duration": 183,
    "start_time": "2023-05-19T20:58:46.437Z"
   },
   {
    "duration": 254,
    "start_time": "2023-05-19T20:58:46.623Z"
   },
   {
    "duration": 205,
    "start_time": "2023-05-19T20:58:46.878Z"
   },
   {
    "duration": 270,
    "start_time": "2023-05-19T20:58:47.085Z"
   },
   {
    "duration": 131,
    "start_time": "2023-05-19T20:58:47.356Z"
   },
   {
    "duration": 6,
    "start_time": "2023-05-19T20:58:47.488Z"
   },
   {
    "duration": 4,
    "start_time": "2023-05-19T20:58:47.496Z"
   },
   {
    "duration": 148,
    "start_time": "2023-05-19T20:58:47.501Z"
   },
   {
    "duration": 6,
    "start_time": "2023-05-19T20:58:47.651Z"
   },
   {
    "duration": 278,
    "start_time": "2023-05-19T20:58:47.659Z"
   },
   {
    "duration": 18,
    "start_time": "2023-05-19T20:58:47.939Z"
   },
   {
    "duration": 175,
    "start_time": "2023-05-19T20:58:47.959Z"
   },
   {
    "duration": 9,
    "start_time": "2023-05-19T20:58:48.136Z"
   },
   {
    "duration": 7,
    "start_time": "2023-05-19T20:58:48.147Z"
   },
   {
    "duration": 43,
    "start_time": "2023-05-19T20:58:48.156Z"
   },
   {
    "duration": 13,
    "start_time": "2023-05-19T20:58:48.201Z"
   },
   {
    "duration": 10,
    "start_time": "2023-05-19T21:02:59.467Z"
   },
   {
    "duration": 9,
    "start_time": "2023-05-19T21:03:18.353Z"
   },
   {
    "duration": 8,
    "start_time": "2023-05-19T21:05:21.304Z"
   },
   {
    "duration": 8,
    "start_time": "2023-05-19T21:05:24.444Z"
   },
   {
    "duration": 11,
    "start_time": "2023-05-19T21:05:34.749Z"
   },
   {
    "duration": 10,
    "start_time": "2023-05-19T21:06:11.372Z"
   },
   {
    "duration": 14,
    "start_time": "2023-05-19T21:09:04.940Z"
   },
   {
    "duration": 12,
    "start_time": "2023-05-19T21:09:20.914Z"
   },
   {
    "duration": 10,
    "start_time": "2023-05-19T21:10:34.570Z"
   },
   {
    "duration": 12,
    "start_time": "2023-05-19T21:10:35.266Z"
   },
   {
    "duration": 11,
    "start_time": "2023-05-19T21:12:19.979Z"
   },
   {
    "duration": 7,
    "start_time": "2023-05-19T21:12:43.458Z"
   },
   {
    "duration": 9,
    "start_time": "2023-05-19T21:13:09.017Z"
   },
   {
    "duration": 3,
    "start_time": "2023-05-19T21:14:42.381Z"
   },
   {
    "duration": 4,
    "start_time": "2023-05-19T21:14:54.721Z"
   },
   {
    "duration": 8,
    "start_time": "2023-05-19T21:17:55.889Z"
   },
   {
    "duration": 8,
    "start_time": "2023-05-19T21:18:40.791Z"
   },
   {
    "duration": 5,
    "start_time": "2023-05-19T21:19:10.817Z"
   },
   {
    "duration": 5,
    "start_time": "2023-05-19T21:19:26.435Z"
   },
   {
    "duration": 4,
    "start_time": "2023-05-19T21:19:35.157Z"
   },
   {
    "duration": 5,
    "start_time": "2023-05-19T21:19:43.978Z"
   },
   {
    "duration": 181,
    "start_time": "2023-05-19T21:20:50.918Z"
   },
   {
    "duration": 1618,
    "start_time": "2023-05-20T09:43:00.343Z"
   },
   {
    "duration": 70,
    "start_time": "2023-05-20T09:43:01.963Z"
   },
   {
    "duration": 9,
    "start_time": "2023-05-20T09:43:02.035Z"
   },
   {
    "duration": 13,
    "start_time": "2023-05-20T09:43:02.045Z"
   },
   {
    "duration": 25,
    "start_time": "2023-05-20T09:43:02.060Z"
   },
   {
    "duration": 23,
    "start_time": "2023-05-20T09:43:02.087Z"
   },
   {
    "duration": 15,
    "start_time": "2023-05-20T09:43:02.112Z"
   },
   {
    "duration": 31,
    "start_time": "2023-05-20T09:43:02.128Z"
   },
   {
    "duration": 16,
    "start_time": "2023-05-20T09:43:02.160Z"
   },
   {
    "duration": 31,
    "start_time": "2023-05-20T09:43:02.177Z"
   },
   {
    "duration": 107,
    "start_time": "2023-05-20T09:43:02.209Z"
   },
   {
    "duration": 7,
    "start_time": "2023-05-20T09:43:02.318Z"
   },
   {
    "duration": 27,
    "start_time": "2023-05-20T09:43:02.327Z"
   },
   {
    "duration": 75,
    "start_time": "2023-05-20T09:43:02.358Z"
   },
   {
    "duration": 8,
    "start_time": "2023-05-20T09:43:02.434Z"
   },
   {
    "duration": 28,
    "start_time": "2023-05-20T09:43:02.444Z"
   },
   {
    "duration": 39,
    "start_time": "2023-05-20T09:43:02.474Z"
   },
   {
    "duration": 11,
    "start_time": "2023-05-20T09:43:02.515Z"
   },
   {
    "duration": 16,
    "start_time": "2023-05-20T09:43:02.527Z"
   },
   {
    "duration": 989,
    "start_time": "2023-05-20T09:43:02.545Z"
   },
   {
    "duration": 65,
    "start_time": "2023-05-20T09:43:03.536Z"
   },
   {
    "duration": 10,
    "start_time": "2023-05-20T09:43:03.603Z"
   },
   {
    "duration": 12,
    "start_time": "2023-05-20T09:43:03.615Z"
   },
   {
    "duration": 9,
    "start_time": "2023-05-20T09:43:03.629Z"
   },
   {
    "duration": 5,
    "start_time": "2023-05-20T09:43:03.639Z"
   },
   {
    "duration": 6,
    "start_time": "2023-05-20T09:43:03.645Z"
   },
   {
    "duration": 45,
    "start_time": "2023-05-20T09:43:03.653Z"
   },
   {
    "duration": 362,
    "start_time": "2023-05-20T09:43:03.699Z"
   },
   {
    "duration": 213,
    "start_time": "2023-05-20T09:43:04.063Z"
   },
   {
    "duration": 190,
    "start_time": "2023-05-20T09:43:04.278Z"
   },
   {
    "duration": 364,
    "start_time": "2023-05-20T09:43:04.470Z"
   },
   {
    "duration": 184,
    "start_time": "2023-05-20T09:43:04.836Z"
   },
   {
    "duration": 269,
    "start_time": "2023-05-20T09:43:05.022Z"
   },
   {
    "duration": 136,
    "start_time": "2023-05-20T09:43:05.296Z"
   },
   {
    "duration": 5,
    "start_time": "2023-05-20T09:43:05.433Z"
   },
   {
    "duration": 11,
    "start_time": "2023-05-20T09:43:05.440Z"
   },
   {
    "duration": 218,
    "start_time": "2023-05-20T09:43:05.453Z"
   },
   {
    "duration": 6,
    "start_time": "2023-05-20T09:43:05.673Z"
   },
   {
    "duration": 226,
    "start_time": "2023-05-20T09:43:05.681Z"
   },
   {
    "duration": 20,
    "start_time": "2023-05-20T09:43:05.909Z"
   },
   {
    "duration": 155,
    "start_time": "2023-05-20T09:43:05.932Z"
   },
   {
    "duration": 14,
    "start_time": "2023-05-20T09:43:06.089Z"
   },
   {
    "duration": 7,
    "start_time": "2023-05-20T09:43:06.105Z"
   },
   {
    "duration": 41,
    "start_time": "2023-05-20T09:43:06.113Z"
   },
   {
    "duration": 13,
    "start_time": "2023-05-20T09:43:06.155Z"
   }
  ],
  "kernelspec": {
   "display_name": "Python 3 (ipykernel)",
   "language": "python",
   "name": "python3"
  },
  "language_info": {
   "codemirror_mode": {
    "name": "ipython",
    "version": 3
   },
   "file_extension": ".py",
   "mimetype": "text/x-python",
   "name": "python",
   "nbconvert_exporter": "python",
   "pygments_lexer": "ipython3",
   "version": "3.9.13"
  },
  "toc": {
   "base_numbering": 1,
   "nav_menu": {},
   "number_sections": true,
   "sideBar": true,
   "skip_h1_title": true,
   "title_cell": "Table of Contents",
   "title_sidebar": "Contents",
   "toc_cell": false,
   "toc_position": {},
   "toc_section_display": true,
   "toc_window_display": false
  }
 },
 "nbformat": 4,
 "nbformat_minor": 2
}
